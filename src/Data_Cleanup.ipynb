{
 "cells": [
  {
   "cell_type": "code",
   "execution_count": 1,
   "id": "39104b9c",
   "metadata": {},
   "outputs": [],
   "source": [
    "import numpy as np \n",
    "import pandas as pd\n",
    "import matplotlib.pyplot as plt"
   ]
  },
  {
   "cell_type": "code",
   "execution_count": 2,
   "id": "e95368bb",
   "metadata": {},
   "outputs": [],
   "source": [
    "# Load dataset\n",
    "def load_data(filename):\n",
    "    df = pd.read_pickle(filename)\n",
    "    return df"
   ]
  },
  {
   "cell_type": "code",
   "execution_count": 3,
   "id": "bdda0403",
   "metadata": {},
   "outputs": [],
   "source": [
    "file_path = \"/home/surya/Desktop/FA24/ECE143_Python/Final_Project/US_Car_Accident_Data_Analysis/Dataset/clean_data.pkl\"\n",
    "df = load_data(file_path)"
   ]
  },
  {
   "cell_type": "code",
   "execution_count": 4,
   "id": "d5874ba7",
   "metadata": {},
   "outputs": [
    {
     "name": "stdout",
     "output_type": "stream",
     "text": [
      "<class 'pandas.core.frame.DataFrame'>\n",
      "RangeIndex: 7728394 entries, 0 to 7728393\n",
      "Data columns (total 29 columns):\n",
      " #   Column             Dtype         \n",
      "---  ------             -----         \n",
      " 0   Severity           int8          \n",
      " 1   Start_Time         datetime64[ns]\n",
      " 2   Start_Lat          float16       \n",
      " 3   Start_Lng          float16       \n",
      " 4   Distance(mi)       float16       \n",
      " 5   State              object        \n",
      " 6   Temperature(F)     float16       \n",
      " 7   Wind_Chill(F)      float16       \n",
      " 8   Humidity(%)        float16       \n",
      " 9   Pressure(in)       float16       \n",
      " 10  Visibility(mi)     float16       \n",
      " 11  Wind_Speed(mph)    float16       \n",
      " 12  Precipitation(in)  float16       \n",
      " 13  Weather_Condition  object        \n",
      " 14  Bump               bool          \n",
      " 15  Crossing           bool          \n",
      " 16  Give_Way           bool          \n",
      " 17  Junction           bool          \n",
      " 18  No_Exit            bool          \n",
      " 19  Railway            bool          \n",
      " 20  Roundabout         bool          \n",
      " 21  Station            bool          \n",
      " 22  Stop               bool          \n",
      " 23  Traffic_Calming    bool          \n",
      " 24  Traffic_Signal     bool          \n",
      " 25  Turning_Loop       bool          \n",
      " 26  Freeway            object        \n",
      " 27  Is_Freeway         bool          \n",
      " 28  Is_Day             object        \n",
      "dtypes: bool(13), datetime64[ns](1), float16(10), int8(1), object(4)\n",
      "memory usage: 545.4+ MB\n"
     ]
    }
   ],
   "source": [
    "df.info()"
   ]
  },
  {
   "cell_type": "code",
   "execution_count": 5,
   "id": "eb2c4c01",
   "metadata": {},
   "outputs": [
    {
     "data": {
      "text/plain": [
       "Severity                   4\n",
       "Start_Time           5539720\n",
       "Start_Lat               1021\n",
       "Start_Lng                917\n",
       "Distance(mi)            6961\n",
       "State                     49\n",
       "Temperature(F)           860\n",
       "Wind_Chill(F)           1001\n",
       "Humidity(%)              100\n",
       "Pressure(in)             759\n",
       "Visibility(mi)            92\n",
       "Wind_Speed(mph)          184\n",
       "Precipitation(in)        299\n",
       "Weather_Condition        144\n",
       "Bump                       2\n",
       "Crossing                   2\n",
       "Give_Way                   2\n",
       "Junction                   2\n",
       "No_Exit                    2\n",
       "Railway                    2\n",
       "Roundabout                 2\n",
       "Station                    2\n",
       "Stop                       2\n",
       "Traffic_Calming            2\n",
       "Traffic_Signal             2\n",
       "Turning_Loop               1\n",
       "Freeway                  841\n",
       "Is_Freeway                 2\n",
       "Is_Day                     2\n",
       "dtype: int64"
      ]
     },
     "execution_count": 5,
     "metadata": {},
     "output_type": "execute_result"
    }
   ],
   "source": [
    "df.nunique()"
   ]
  },
  {
   "cell_type": "code",
   "execution_count": 6,
   "id": "6f94a31b",
   "metadata": {},
   "outputs": [],
   "source": [
    "df['Freeway'] = df['Freeway'].replace('I-5N', 'I-05')\n",
    "df['Freeway'] = df['Freeway'].replace('I-5S', 'I-05')"
   ]
  },
  {
   "cell_type": "code",
   "execution_count": 7,
   "id": "67c439de",
   "metadata": {},
   "outputs": [],
   "source": [
    "# df = load_data(file_path, 1000)\n",
    "# Road feature-related columns\n",
    "def road_feature_data(df):\n",
    "    weather_cols = ['Severity', 'Bump', 'Crossing', 'Give_Way', 'Junction', 'No_Exit', \n",
    "                    'Railway', 'Roundabout','Station', 'Stop','Traffic_Calming', 'Traffic_Signal','Turning_Loop', 'Is_Day']\n",
    "    df = df[~df['Is_Freeway']]\n",
    "    df = df[weather_cols]\n",
    "    return df\n",
    "\n",
    "df_road = road_feature_data(df)"
   ]
  },
  {
   "cell_type": "code",
   "execution_count": 8,
   "id": "ddd098db",
   "metadata": {},
   "outputs": [
    {
     "name": "stdout",
     "output_type": "stream",
     "text": [
      "                    True    False\n",
      "Bump                2947  4943500\n",
      "Crossing          792027  4154420\n",
      "Give_Way           29262  4917185\n",
      "Junction          268743  4677704\n",
      "No_Exit            16279  4930168\n",
      "Railway            51950  4894497\n",
      "Roundabout           246  4946201\n",
      "Station           179967  4766480\n",
      "Stop              199798  4746649\n",
      "Traffic_Calming     6178  4940269\n",
      "Traffic_Signal   1015187  3931260\n",
      "Turning_Loop           0  4946447\n"
     ]
    }
   ],
   "source": [
    "bool_columns = df_road.select_dtypes(include=['bool'])\n",
    "counts = pd.DataFrame({\n",
    "    'True': bool_columns.sum(),\n",
    "    'False': (~bool_columns).sum()\n",
    "})\n",
    "\n",
    "print(counts)"
   ]
  },
  {
   "cell_type": "code",
   "execution_count": 9,
   "id": "ed10b73e",
   "metadata": {},
   "outputs": [
    {
     "data": {
      "text/html": [
       "<div>\n",
       "<style scoped>\n",
       "    .dataframe tbody tr th:only-of-type {\n",
       "        vertical-align: middle;\n",
       "    }\n",
       "\n",
       "    .dataframe tbody tr th {\n",
       "        vertical-align: top;\n",
       "    }\n",
       "\n",
       "    .dataframe thead th {\n",
       "        text-align: right;\n",
       "    }\n",
       "</style>\n",
       "<table border=\"1\" class=\"dataframe\">\n",
       "  <thead>\n",
       "    <tr style=\"text-align: right;\">\n",
       "      <th></th>\n",
       "      <th>Bump</th>\n",
       "      <th>Crossing</th>\n",
       "      <th>Give_Way</th>\n",
       "      <th>Junction</th>\n",
       "      <th>No_Exit</th>\n",
       "      <th>Railway</th>\n",
       "      <th>Roundabout</th>\n",
       "      <th>Station</th>\n",
       "      <th>Stop</th>\n",
       "      <th>Traffic_Calming</th>\n",
       "      <th>Traffic_Signal</th>\n",
       "      <th>Turning_Loop</th>\n",
       "      <th>Is_Day</th>\n",
       "    </tr>\n",
       "    <tr>\n",
       "      <th>Severity</th>\n",
       "      <th></th>\n",
       "      <th></th>\n",
       "      <th></th>\n",
       "      <th></th>\n",
       "      <th></th>\n",
       "      <th></th>\n",
       "      <th></th>\n",
       "      <th></th>\n",
       "      <th></th>\n",
       "      <th></th>\n",
       "      <th></th>\n",
       "      <th></th>\n",
       "      <th></th>\n",
       "    </tr>\n",
       "  </thead>\n",
       "  <tbody>\n",
       "    <tr>\n",
       "      <th>1</th>\n",
       "      <td>34</td>\n",
       "      <td>17656</td>\n",
       "      <td>503</td>\n",
       "      <td>2538</td>\n",
       "      <td>372</td>\n",
       "      <td>1012</td>\n",
       "      <td>0</td>\n",
       "      <td>2626</td>\n",
       "      <td>2583</td>\n",
       "      <td>86</td>\n",
       "      <td>24855</td>\n",
       "      <td>0</td>\n",
       "      <td>52117</td>\n",
       "    </tr>\n",
       "    <tr>\n",
       "      <th>2</th>\n",
       "      <td>2854</td>\n",
       "      <td>746665</td>\n",
       "      <td>26767</td>\n",
       "      <td>225036</td>\n",
       "      <td>15089</td>\n",
       "      <td>48028</td>\n",
       "      <td>235</td>\n",
       "      <td>171334</td>\n",
       "      <td>189313</td>\n",
       "      <td>5882</td>\n",
       "      <td>946525</td>\n",
       "      <td>0</td>\n",
       "      <td>3394985</td>\n",
       "    </tr>\n",
       "    <tr>\n",
       "      <th>3</th>\n",
       "      <td>37</td>\n",
       "      <td>15457</td>\n",
       "      <td>993</td>\n",
       "      <td>29361</td>\n",
       "      <td>499</td>\n",
       "      <td>1541</td>\n",
       "      <td>5</td>\n",
       "      <td>3475</td>\n",
       "      <td>2580</td>\n",
       "      <td>129</td>\n",
       "      <td>25726</td>\n",
       "      <td>0</td>\n",
       "      <td>129416</td>\n",
       "    </tr>\n",
       "    <tr>\n",
       "      <th>4</th>\n",
       "      <td>22</td>\n",
       "      <td>12249</td>\n",
       "      <td>999</td>\n",
       "      <td>11808</td>\n",
       "      <td>319</td>\n",
       "      <td>1369</td>\n",
       "      <td>6</td>\n",
       "      <td>2532</td>\n",
       "      <td>5322</td>\n",
       "      <td>81</td>\n",
       "      <td>18081</td>\n",
       "      <td>0</td>\n",
       "      <td>96791</td>\n",
       "    </tr>\n",
       "  </tbody>\n",
       "</table>\n",
       "</div>"
      ],
      "text/plain": [
       "          Bump  Crossing  Give_Way  Junction  No_Exit  Railway  Roundabout  \\\n",
       "Severity                                                                     \n",
       "1           34     17656       503      2538      372     1012           0   \n",
       "2         2854    746665     26767    225036    15089    48028         235   \n",
       "3           37     15457       993     29361      499     1541           5   \n",
       "4           22     12249       999     11808      319     1369           6   \n",
       "\n",
       "          Station    Stop  Traffic_Calming  Traffic_Signal  Turning_Loop  \\\n",
       "Severity                                                                   \n",
       "1            2626    2583               86           24855             0   \n",
       "2          171334  189313             5882          946525             0   \n",
       "3            3475    2580              129           25726             0   \n",
       "4            2532    5322               81           18081             0   \n",
       "\n",
       "           Is_Day  \n",
       "Severity           \n",
       "1           52117  \n",
       "2         3394985  \n",
       "3          129416  \n",
       "4           96791  "
      ]
     },
     "execution_count": 9,
     "metadata": {},
     "output_type": "execute_result"
    }
   ],
   "source": [
    "grp_road = df_road.groupby(['Severity'])\n",
    "grp_road.sum()"
   ]
  },
  {
   "cell_type": "code",
   "execution_count": 10,
   "id": "df42c630",
   "metadata": {},
   "outputs": [
    {
     "data": {
      "text/plain": [
       "Bump                  2947\n",
       "Crossing            792027\n",
       "Give_Way             29262\n",
       "Junction            268743\n",
       "No_Exit              16279\n",
       "Railway              51950\n",
       "Roundabout             246\n",
       "Station             179967\n",
       "Stop                199798\n",
       "Traffic_Calming       6178\n",
       "Traffic_Signal     1015187\n",
       "Turning_Loop             0\n",
       "Is_Day             3673309\n",
       "dtype: object"
      ]
     },
     "execution_count": 10,
     "metadata": {},
     "output_type": "execute_result"
    }
   ],
   "source": [
    "grp_road.sum().sum(axis = 0)"
   ]
  },
  {
   "cell_type": "code",
   "execution_count": 11,
   "id": "6bf193ed",
   "metadata": {},
   "outputs": [
    {
     "data": {
      "text/html": [
       "<div>\n",
       "<style scoped>\n",
       "    .dataframe tbody tr th:only-of-type {\n",
       "        vertical-align: middle;\n",
       "    }\n",
       "\n",
       "    .dataframe tbody tr th {\n",
       "        vertical-align: top;\n",
       "    }\n",
       "\n",
       "    .dataframe thead th {\n",
       "        text-align: right;\n",
       "    }\n",
       "</style>\n",
       "<table border=\"1\" class=\"dataframe\">\n",
       "  <thead>\n",
       "    <tr style=\"text-align: right;\">\n",
       "      <th></th>\n",
       "      <th>Bump</th>\n",
       "      <th>Crossing</th>\n",
       "      <th>Give_Way</th>\n",
       "      <th>Junction</th>\n",
       "      <th>No_Exit</th>\n",
       "      <th>Railway</th>\n",
       "      <th>Roundabout</th>\n",
       "      <th>Station</th>\n",
       "      <th>Stop</th>\n",
       "      <th>Traffic_Calming</th>\n",
       "      <th>Traffic_Signal</th>\n",
       "      <th>Turning_Loop</th>\n",
       "      <th>Is_Day</th>\n",
       "    </tr>\n",
       "    <tr>\n",
       "      <th>Severity</th>\n",
       "      <th></th>\n",
       "      <th></th>\n",
       "      <th></th>\n",
       "      <th></th>\n",
       "      <th></th>\n",
       "      <th></th>\n",
       "      <th></th>\n",
       "      <th></th>\n",
       "      <th></th>\n",
       "      <th></th>\n",
       "      <th></th>\n",
       "      <th></th>\n",
       "      <th></th>\n",
       "    </tr>\n",
       "  </thead>\n",
       "  <tbody>\n",
       "    <tr>\n",
       "      <th>1</th>\n",
       "      <td>34</td>\n",
       "      <td>17656</td>\n",
       "      <td>503</td>\n",
       "      <td>2538</td>\n",
       "      <td>372</td>\n",
       "      <td>1012</td>\n",
       "      <td>0</td>\n",
       "      <td>2626</td>\n",
       "      <td>2583</td>\n",
       "      <td>86</td>\n",
       "      <td>24855</td>\n",
       "      <td>0</td>\n",
       "      <td>52117</td>\n",
       "    </tr>\n",
       "    <tr>\n",
       "      <th>2</th>\n",
       "      <td>2854</td>\n",
       "      <td>746665</td>\n",
       "      <td>26767</td>\n",
       "      <td>225036</td>\n",
       "      <td>15089</td>\n",
       "      <td>48028</td>\n",
       "      <td>235</td>\n",
       "      <td>171334</td>\n",
       "      <td>189313</td>\n",
       "      <td>5882</td>\n",
       "      <td>946525</td>\n",
       "      <td>0</td>\n",
       "      <td>3394985</td>\n",
       "    </tr>\n",
       "    <tr>\n",
       "      <th>3</th>\n",
       "      <td>37</td>\n",
       "      <td>15457</td>\n",
       "      <td>993</td>\n",
       "      <td>29361</td>\n",
       "      <td>499</td>\n",
       "      <td>1541</td>\n",
       "      <td>5</td>\n",
       "      <td>3475</td>\n",
       "      <td>2580</td>\n",
       "      <td>129</td>\n",
       "      <td>25726</td>\n",
       "      <td>0</td>\n",
       "      <td>129416</td>\n",
       "    </tr>\n",
       "    <tr>\n",
       "      <th>4</th>\n",
       "      <td>22</td>\n",
       "      <td>12249</td>\n",
       "      <td>999</td>\n",
       "      <td>11808</td>\n",
       "      <td>319</td>\n",
       "      <td>1369</td>\n",
       "      <td>6</td>\n",
       "      <td>2532</td>\n",
       "      <td>5322</td>\n",
       "      <td>81</td>\n",
       "      <td>18081</td>\n",
       "      <td>0</td>\n",
       "      <td>96791</td>\n",
       "    </tr>\n",
       "  </tbody>\n",
       "</table>\n",
       "</div>"
      ],
      "text/plain": [
       "          Bump  Crossing  Give_Way  Junction  No_Exit  Railway  Roundabout  \\\n",
       "Severity                                                                     \n",
       "1           34     17656       503      2538      372     1012           0   \n",
       "2         2854    746665     26767    225036    15089    48028         235   \n",
       "3           37     15457       993     29361      499     1541           5   \n",
       "4           22     12249       999     11808      319     1369           6   \n",
       "\n",
       "          Station    Stop  Traffic_Calming  Traffic_Signal  Turning_Loop  \\\n",
       "Severity                                                                   \n",
       "1            2626    2583               86           24855             0   \n",
       "2          171334  189313             5882          946525             0   \n",
       "3            3475    2580              129           25726             0   \n",
       "4            2532    5322               81           18081             0   \n",
       "\n",
       "           Is_Day  \n",
       "Severity           \n",
       "1           52117  \n",
       "2         3394985  \n",
       "3          129416  \n",
       "4           96791  "
      ]
     },
     "execution_count": 11,
     "metadata": {},
     "output_type": "execute_result"
    }
   ],
   "source": [
    "grp_road = df_road.groupby(['Severity'])\n",
    "grp_road.sum()"
   ]
  },
  {
   "cell_type": "code",
   "execution_count": 12,
   "id": "0dc52b4d",
   "metadata": {},
   "outputs": [],
   "source": [
    "def freeway_data(df):\n",
    "    freeway_cols = ['Severity', 'Freeway', 'Is_Freeway', 'State', 'Start_Lat', 'Start_Lng']\n",
    "    df = df[df['Is_Freeway']]\n",
    "    df = df[freeway_cols]\n",
    "    return df\n",
    "\n",
    "df_freeway = freeway_data(df)"
   ]
  },
  {
   "cell_type": "code",
   "execution_count": 13,
   "id": "29c80d2d",
   "metadata": {},
   "outputs": [
    {
     "name": "stdout",
     "output_type": "stream",
     "text": [
      "<class 'pandas.core.frame.DataFrame'>\n",
      "Index: 2781947 entries, 0 to 7728384\n",
      "Data columns (total 6 columns):\n",
      " #   Column      Dtype  \n",
      "---  ------      -----  \n",
      " 0   Severity    int8   \n",
      " 1   Freeway     object \n",
      " 2   Is_Freeway  bool   \n",
      " 3   State       object \n",
      " 4   Start_Lat   float16\n",
      " 5   Start_Lng   float16\n",
      "dtypes: bool(1), float16(2), int8(1), object(2)\n",
      "memory usage: 79.6+ MB\n"
     ]
    }
   ],
   "source": [
    "df_freeway.info()"
   ]
  },
  {
   "cell_type": "code",
   "execution_count": 14,
   "id": "3e7d9441",
   "metadata": {},
   "outputs": [
    {
     "name": "stderr",
     "output_type": "stream",
     "text": [
      "/home/surya/Desktop/FA24/ECE143_Python/Final_Project/US_Car_Accident_Data_Analysis/.venv/lib/python3.11/site-packages/pandas/core/nanops.py:1487: RuntimeWarning: overflow encountered in cast\n",
      "  return dtype.type(n)\n",
      "/home/surya/Desktop/FA24/ECE143_Python/Final_Project/US_Car_Accident_Data_Analysis/.venv/lib/python3.11/site-packages/numpy/_core/_methods.py:53: RuntimeWarning: overflow encountered in reduce\n",
      "  return umr_sum(a, axis, dtype, out, keepdims, initial, where)\n",
      "/home/surya/Desktop/FA24/ECE143_Python/Final_Project/US_Car_Accident_Data_Analysis/.venv/lib/python3.11/site-packages/pandas/core/nanops.py:731: RuntimeWarning: invalid value encountered in scalar divide\n",
      "  the_mean = the_sum / count if count > 0 else np.nan\n",
      "/home/surya/Desktop/FA24/ECE143_Python/Final_Project/US_Car_Accident_Data_Analysis/.venv/lib/python3.11/site-packages/pandas/core/nanops.py:1487: RuntimeWarning: overflow encountered in cast\n",
      "  return dtype.type(n)\n",
      "/home/surya/Desktop/FA24/ECE143_Python/Final_Project/US_Car_Accident_Data_Analysis/.venv/lib/python3.11/site-packages/numpy/_core/_methods.py:53: RuntimeWarning: overflow encountered in reduce\n",
      "  return umr_sum(a, axis, dtype, out, keepdims, initial, where)\n",
      "/home/surya/Desktop/FA24/ECE143_Python/Final_Project/US_Car_Accident_Data_Analysis/.venv/lib/python3.11/site-packages/pandas/core/nanops.py:731: RuntimeWarning: invalid value encountered in scalar divide\n",
      "  the_mean = the_sum / count if count > 0 else np.nan\n",
      "/home/surya/Desktop/FA24/ECE143_Python/Final_Project/US_Car_Accident_Data_Analysis/.venv/lib/python3.11/site-packages/pandas/core/nanops.py:1487: RuntimeWarning: overflow encountered in cast\n",
      "  return dtype.type(n)\n",
      "/home/surya/Desktop/FA24/ECE143_Python/Final_Project/US_Car_Accident_Data_Analysis/.venv/lib/python3.11/site-packages/numpy/_core/_methods.py:53: RuntimeWarning: overflow encountered in reduce\n",
      "  return umr_sum(a, axis, dtype, out, keepdims, initial, where)\n",
      "/home/surya/Desktop/FA24/ECE143_Python/Final_Project/US_Car_Accident_Data_Analysis/.venv/lib/python3.11/site-packages/pandas/core/nanops.py:731: RuntimeWarning: invalid value encountered in scalar divide\n",
      "  the_mean = the_sum / count if count > 0 else np.nan\n",
      "/home/surya/Desktop/FA24/ECE143_Python/Final_Project/US_Car_Accident_Data_Analysis/.venv/lib/python3.11/site-packages/pandas/core/nanops.py:1487: RuntimeWarning: overflow encountered in cast\n",
      "  return dtype.type(n)\n",
      "/home/surya/Desktop/FA24/ECE143_Python/Final_Project/US_Car_Accident_Data_Analysis/.venv/lib/python3.11/site-packages/numpy/_core/_methods.py:53: RuntimeWarning: overflow encountered in reduce\n",
      "  return umr_sum(a, axis, dtype, out, keepdims, initial, where)\n",
      "/home/surya/Desktop/FA24/ECE143_Python/Final_Project/US_Car_Accident_Data_Analysis/.venv/lib/python3.11/site-packages/pandas/core/nanops.py:731: RuntimeWarning: invalid value encountered in scalar divide\n",
      "  the_mean = the_sum / count if count > 0 else np.nan\n",
      "/home/surya/Desktop/FA24/ECE143_Python/Final_Project/US_Car_Accident_Data_Analysis/.venv/lib/python3.11/site-packages/numpy/_core/_methods.py:53: RuntimeWarning: overflow encountered in reduce\n",
      "  return umr_sum(a, axis, dtype, out, keepdims, initial, where)\n",
      "/home/surya/Desktop/FA24/ECE143_Python/Final_Project/US_Car_Accident_Data_Analysis/.venv/lib/python3.11/site-packages/numpy/_core/_methods.py:53: RuntimeWarning: overflow encountered in reduce\n",
      "  return umr_sum(a, axis, dtype, out, keepdims, initial, where)\n",
      "/home/surya/Desktop/FA24/ECE143_Python/Final_Project/US_Car_Accident_Data_Analysis/.venv/lib/python3.11/site-packages/numpy/_core/_methods.py:53: RuntimeWarning: overflow encountered in reduce\n",
      "  return umr_sum(a, axis, dtype, out, keepdims, initial, where)\n",
      "/home/surya/Desktop/FA24/ECE143_Python/Final_Project/US_Car_Accident_Data_Analysis/.venv/lib/python3.11/site-packages/numpy/_core/_methods.py:53: RuntimeWarning: overflow encountered in reduce\n",
      "  return umr_sum(a, axis, dtype, out, keepdims, initial, where)\n",
      "/home/surya/Desktop/FA24/ECE143_Python/Final_Project/US_Car_Accident_Data_Analysis/.venv/lib/python3.11/site-packages/numpy/_core/_methods.py:53: RuntimeWarning: overflow encountered in reduce\n",
      "  return umr_sum(a, axis, dtype, out, keepdims, initial, where)\n",
      "/home/surya/Desktop/FA24/ECE143_Python/Final_Project/US_Car_Accident_Data_Analysis/.venv/lib/python3.11/site-packages/numpy/_core/_methods.py:53: RuntimeWarning: overflow encountered in reduce\n",
      "  return umr_sum(a, axis, dtype, out, keepdims, initial, where)\n",
      "/home/surya/Desktop/FA24/ECE143_Python/Final_Project/US_Car_Accident_Data_Analysis/.venv/lib/python3.11/site-packages/numpy/_core/_methods.py:53: RuntimeWarning: overflow encountered in reduce\n",
      "  return umr_sum(a, axis, dtype, out, keepdims, initial, where)\n",
      "/home/surya/Desktop/FA24/ECE143_Python/Final_Project/US_Car_Accident_Data_Analysis/.venv/lib/python3.11/site-packages/numpy/_core/_methods.py:53: RuntimeWarning: overflow encountered in reduce\n",
      "  return umr_sum(a, axis, dtype, out, keepdims, initial, where)\n",
      "/home/surya/Desktop/FA24/ECE143_Python/Final_Project/US_Car_Accident_Data_Analysis/.venv/lib/python3.11/site-packages/numpy/_core/_methods.py:53: RuntimeWarning: overflow encountered in reduce\n",
      "  return umr_sum(a, axis, dtype, out, keepdims, initial, where)\n",
      "/home/surya/Desktop/FA24/ECE143_Python/Final_Project/US_Car_Accident_Data_Analysis/.venv/lib/python3.11/site-packages/numpy/_core/_methods.py:53: RuntimeWarning: overflow encountered in reduce\n",
      "  return umr_sum(a, axis, dtype, out, keepdims, initial, where)\n",
      "/home/surya/Desktop/FA24/ECE143_Python/Final_Project/US_Car_Accident_Data_Analysis/.venv/lib/python3.11/site-packages/numpy/_core/_methods.py:53: RuntimeWarning: overflow encountered in reduce\n",
      "  return umr_sum(a, axis, dtype, out, keepdims, initial, where)\n",
      "/home/surya/Desktop/FA24/ECE143_Python/Final_Project/US_Car_Accident_Data_Analysis/.venv/lib/python3.11/site-packages/numpy/_core/_methods.py:53: RuntimeWarning: overflow encountered in reduce\n",
      "  return umr_sum(a, axis, dtype, out, keepdims, initial, where)\n",
      "/home/surya/Desktop/FA24/ECE143_Python/Final_Project/US_Car_Accident_Data_Analysis/.venv/lib/python3.11/site-packages/numpy/_core/_methods.py:53: RuntimeWarning: overflow encountered in reduce\n",
      "  return umr_sum(a, axis, dtype, out, keepdims, initial, where)\n",
      "/home/surya/Desktop/FA24/ECE143_Python/Final_Project/US_Car_Accident_Data_Analysis/.venv/lib/python3.11/site-packages/pandas/core/nanops.py:1487: RuntimeWarning: overflow encountered in cast\n",
      "  return dtype.type(n)\n",
      "/home/surya/Desktop/FA24/ECE143_Python/Final_Project/US_Car_Accident_Data_Analysis/.venv/lib/python3.11/site-packages/numpy/_core/_methods.py:53: RuntimeWarning: overflow encountered in reduce\n",
      "  return umr_sum(a, axis, dtype, out, keepdims, initial, where)\n",
      "/home/surya/Desktop/FA24/ECE143_Python/Final_Project/US_Car_Accident_Data_Analysis/.venv/lib/python3.11/site-packages/pandas/core/nanops.py:731: RuntimeWarning: invalid value encountered in scalar divide\n",
      "  the_mean = the_sum / count if count > 0 else np.nan\n",
      "/home/surya/Desktop/FA24/ECE143_Python/Final_Project/US_Car_Accident_Data_Analysis/.venv/lib/python3.11/site-packages/pandas/core/nanops.py:1487: RuntimeWarning: overflow encountered in cast\n",
      "  return dtype.type(n)\n",
      "/home/surya/Desktop/FA24/ECE143_Python/Final_Project/US_Car_Accident_Data_Analysis/.venv/lib/python3.11/site-packages/numpy/_core/_methods.py:53: RuntimeWarning: overflow encountered in reduce\n",
      "  return umr_sum(a, axis, dtype, out, keepdims, initial, where)\n",
      "/home/surya/Desktop/FA24/ECE143_Python/Final_Project/US_Car_Accident_Data_Analysis/.venv/lib/python3.11/site-packages/pandas/core/nanops.py:731: RuntimeWarning: invalid value encountered in scalar divide\n",
      "  the_mean = the_sum / count if count > 0 else np.nan\n",
      "/home/surya/Desktop/FA24/ECE143_Python/Final_Project/US_Car_Accident_Data_Analysis/.venv/lib/python3.11/site-packages/numpy/_core/_methods.py:53: RuntimeWarning: overflow encountered in reduce\n",
      "  return umr_sum(a, axis, dtype, out, keepdims, initial, where)\n",
      "/home/surya/Desktop/FA24/ECE143_Python/Final_Project/US_Car_Accident_Data_Analysis/.venv/lib/python3.11/site-packages/numpy/_core/_methods.py:53: RuntimeWarning: overflow encountered in reduce\n",
      "  return umr_sum(a, axis, dtype, out, keepdims, initial, where)\n",
      "/home/surya/Desktop/FA24/ECE143_Python/Final_Project/US_Car_Accident_Data_Analysis/.venv/lib/python3.11/site-packages/numpy/_core/_methods.py:53: RuntimeWarning: overflow encountered in reduce\n",
      "  return umr_sum(a, axis, dtype, out, keepdims, initial, where)\n",
      "/home/surya/Desktop/FA24/ECE143_Python/Final_Project/US_Car_Accident_Data_Analysis/.venv/lib/python3.11/site-packages/numpy/_core/_methods.py:53: RuntimeWarning: overflow encountered in reduce\n",
      "  return umr_sum(a, axis, dtype, out, keepdims, initial, where)\n",
      "/home/surya/Desktop/FA24/ECE143_Python/Final_Project/US_Car_Accident_Data_Analysis/.venv/lib/python3.11/site-packages/numpy/_core/_methods.py:53: RuntimeWarning: overflow encountered in reduce\n",
      "  return umr_sum(a, axis, dtype, out, keepdims, initial, where)\n",
      "/home/surya/Desktop/FA24/ECE143_Python/Final_Project/US_Car_Accident_Data_Analysis/.venv/lib/python3.11/site-packages/numpy/_core/_methods.py:53: RuntimeWarning: overflow encountered in reduce\n",
      "  return umr_sum(a, axis, dtype, out, keepdims, initial, where)\n",
      "/home/surya/Desktop/FA24/ECE143_Python/Final_Project/US_Car_Accident_Data_Analysis/.venv/lib/python3.11/site-packages/numpy/_core/_methods.py:53: RuntimeWarning: overflow encountered in reduce\n",
      "  return umr_sum(a, axis, dtype, out, keepdims, initial, where)\n",
      "/home/surya/Desktop/FA24/ECE143_Python/Final_Project/US_Car_Accident_Data_Analysis/.venv/lib/python3.11/site-packages/numpy/_core/_methods.py:53: RuntimeWarning: overflow encountered in reduce\n",
      "  return umr_sum(a, axis, dtype, out, keepdims, initial, where)\n",
      "/home/surya/Desktop/FA24/ECE143_Python/Final_Project/US_Car_Accident_Data_Analysis/.venv/lib/python3.11/site-packages/numpy/_core/_methods.py:53: RuntimeWarning: overflow encountered in reduce\n",
      "  return umr_sum(a, axis, dtype, out, keepdims, initial, where)\n",
      "/home/surya/Desktop/FA24/ECE143_Python/Final_Project/US_Car_Accident_Data_Analysis/.venv/lib/python3.11/site-packages/numpy/_core/_methods.py:53: RuntimeWarning: overflow encountered in reduce\n",
      "  return umr_sum(a, axis, dtype, out, keepdims, initial, where)\n",
      "/home/surya/Desktop/FA24/ECE143_Python/Final_Project/US_Car_Accident_Data_Analysis/.venv/lib/python3.11/site-packages/numpy/_core/_methods.py:53: RuntimeWarning: overflow encountered in reduce\n",
      "  return umr_sum(a, axis, dtype, out, keepdims, initial, where)\n",
      "/home/surya/Desktop/FA24/ECE143_Python/Final_Project/US_Car_Accident_Data_Analysis/.venv/lib/python3.11/site-packages/numpy/_core/_methods.py:53: RuntimeWarning: overflow encountered in reduce\n",
      "  return umr_sum(a, axis, dtype, out, keepdims, initial, where)\n",
      "/home/surya/Desktop/FA24/ECE143_Python/Final_Project/US_Car_Accident_Data_Analysis/.venv/lib/python3.11/site-packages/numpy/_core/_methods.py:53: RuntimeWarning: overflow encountered in reduce\n",
      "  return umr_sum(a, axis, dtype, out, keepdims, initial, where)\n",
      "/home/surya/Desktop/FA24/ECE143_Python/Final_Project/US_Car_Accident_Data_Analysis/.venv/lib/python3.11/site-packages/numpy/_core/_methods.py:53: RuntimeWarning: overflow encountered in reduce\n",
      "  return umr_sum(a, axis, dtype, out, keepdims, initial, where)\n",
      "/home/surya/Desktop/FA24/ECE143_Python/Final_Project/US_Car_Accident_Data_Analysis/.venv/lib/python3.11/site-packages/numpy/_core/_methods.py:53: RuntimeWarning: overflow encountered in reduce\n",
      "  return umr_sum(a, axis, dtype, out, keepdims, initial, where)\n",
      "/home/surya/Desktop/FA24/ECE143_Python/Final_Project/US_Car_Accident_Data_Analysis/.venv/lib/python3.11/site-packages/numpy/_core/_methods.py:53: RuntimeWarning: overflow encountered in reduce\n",
      "  return umr_sum(a, axis, dtype, out, keepdims, initial, where)\n",
      "/home/surya/Desktop/FA24/ECE143_Python/Final_Project/US_Car_Accident_Data_Analysis/.venv/lib/python3.11/site-packages/numpy/_core/_methods.py:53: RuntimeWarning: overflow encountered in reduce\n",
      "  return umr_sum(a, axis, dtype, out, keepdims, initial, where)\n",
      "/home/surya/Desktop/FA24/ECE143_Python/Final_Project/US_Car_Accident_Data_Analysis/.venv/lib/python3.11/site-packages/numpy/_core/_methods.py:53: RuntimeWarning: overflow encountered in reduce\n",
      "  return umr_sum(a, axis, dtype, out, keepdims, initial, where)\n",
      "/home/surya/Desktop/FA24/ECE143_Python/Final_Project/US_Car_Accident_Data_Analysis/.venv/lib/python3.11/site-packages/numpy/_core/_methods.py:53: RuntimeWarning: overflow encountered in reduce\n",
      "  return umr_sum(a, axis, dtype, out, keepdims, initial, where)\n",
      "/home/surya/Desktop/FA24/ECE143_Python/Final_Project/US_Car_Accident_Data_Analysis/.venv/lib/python3.11/site-packages/numpy/_core/_methods.py:53: RuntimeWarning: overflow encountered in reduce\n",
      "  return umr_sum(a, axis, dtype, out, keepdims, initial, where)\n",
      "/home/surya/Desktop/FA24/ECE143_Python/Final_Project/US_Car_Accident_Data_Analysis/.venv/lib/python3.11/site-packages/numpy/_core/_methods.py:53: RuntimeWarning: overflow encountered in reduce\n",
      "  return umr_sum(a, axis, dtype, out, keepdims, initial, where)\n",
      "/home/surya/Desktop/FA24/ECE143_Python/Final_Project/US_Car_Accident_Data_Analysis/.venv/lib/python3.11/site-packages/numpy/_core/_methods.py:53: RuntimeWarning: overflow encountered in reduce\n",
      "  return umr_sum(a, axis, dtype, out, keepdims, initial, where)\n",
      "/home/surya/Desktop/FA24/ECE143_Python/Final_Project/US_Car_Accident_Data_Analysis/.venv/lib/python3.11/site-packages/numpy/_core/_methods.py:53: RuntimeWarning: overflow encountered in reduce\n",
      "  return umr_sum(a, axis, dtype, out, keepdims, initial, where)\n",
      "/home/surya/Desktop/FA24/ECE143_Python/Final_Project/US_Car_Accident_Data_Analysis/.venv/lib/python3.11/site-packages/numpy/_core/_methods.py:53: RuntimeWarning: overflow encountered in reduce\n",
      "  return umr_sum(a, axis, dtype, out, keepdims, initial, where)\n",
      "/home/surya/Desktop/FA24/ECE143_Python/Final_Project/US_Car_Accident_Data_Analysis/.venv/lib/python3.11/site-packages/numpy/_core/_methods.py:53: RuntimeWarning: overflow encountered in reduce\n",
      "  return umr_sum(a, axis, dtype, out, keepdims, initial, where)\n",
      "/home/surya/Desktop/FA24/ECE143_Python/Final_Project/US_Car_Accident_Data_Analysis/.venv/lib/python3.11/site-packages/numpy/_core/_methods.py:53: RuntimeWarning: overflow encountered in reduce\n",
      "  return umr_sum(a, axis, dtype, out, keepdims, initial, where)\n",
      "/home/surya/Desktop/FA24/ECE143_Python/Final_Project/US_Car_Accident_Data_Analysis/.venv/lib/python3.11/site-packages/numpy/_core/_methods.py:53: RuntimeWarning: overflow encountered in reduce\n",
      "  return umr_sum(a, axis, dtype, out, keepdims, initial, where)\n",
      "/home/surya/Desktop/FA24/ECE143_Python/Final_Project/US_Car_Accident_Data_Analysis/.venv/lib/python3.11/site-packages/numpy/_core/_methods.py:53: RuntimeWarning: overflow encountered in reduce\n",
      "  return umr_sum(a, axis, dtype, out, keepdims, initial, where)\n",
      "/home/surya/Desktop/FA24/ECE143_Python/Final_Project/US_Car_Accident_Data_Analysis/.venv/lib/python3.11/site-packages/numpy/_core/_methods.py:53: RuntimeWarning: overflow encountered in reduce\n",
      "  return umr_sum(a, axis, dtype, out, keepdims, initial, where)\n",
      "/home/surya/Desktop/FA24/ECE143_Python/Final_Project/US_Car_Accident_Data_Analysis/.venv/lib/python3.11/site-packages/numpy/_core/_methods.py:53: RuntimeWarning: overflow encountered in reduce\n",
      "  return umr_sum(a, axis, dtype, out, keepdims, initial, where)\n",
      "/home/surya/Desktop/FA24/ECE143_Python/Final_Project/US_Car_Accident_Data_Analysis/.venv/lib/python3.11/site-packages/numpy/_core/_methods.py:53: RuntimeWarning: overflow encountered in reduce\n",
      "  return umr_sum(a, axis, dtype, out, keepdims, initial, where)\n",
      "/home/surya/Desktop/FA24/ECE143_Python/Final_Project/US_Car_Accident_Data_Analysis/.venv/lib/python3.11/site-packages/numpy/_core/_methods.py:53: RuntimeWarning: overflow encountered in reduce\n",
      "  return umr_sum(a, axis, dtype, out, keepdims, initial, where)\n",
      "/home/surya/Desktop/FA24/ECE143_Python/Final_Project/US_Car_Accident_Data_Analysis/.venv/lib/python3.11/site-packages/numpy/_core/_methods.py:53: RuntimeWarning: overflow encountered in reduce\n",
      "  return umr_sum(a, axis, dtype, out, keepdims, initial, where)\n",
      "/home/surya/Desktop/FA24/ECE143_Python/Final_Project/US_Car_Accident_Data_Analysis/.venv/lib/python3.11/site-packages/numpy/_core/_methods.py:53: RuntimeWarning: overflow encountered in reduce\n",
      "  return umr_sum(a, axis, dtype, out, keepdims, initial, where)\n",
      "/home/surya/Desktop/FA24/ECE143_Python/Final_Project/US_Car_Accident_Data_Analysis/.venv/lib/python3.11/site-packages/numpy/_core/_methods.py:53: RuntimeWarning: overflow encountered in reduce\n",
      "  return umr_sum(a, axis, dtype, out, keepdims, initial, where)\n",
      "/home/surya/Desktop/FA24/ECE143_Python/Final_Project/US_Car_Accident_Data_Analysis/.venv/lib/python3.11/site-packages/numpy/_core/_methods.py:53: RuntimeWarning: overflow encountered in reduce\n",
      "  return umr_sum(a, axis, dtype, out, keepdims, initial, where)\n",
      "/home/surya/Desktop/FA24/ECE143_Python/Final_Project/US_Car_Accident_Data_Analysis/.venv/lib/python3.11/site-packages/numpy/_core/_methods.py:53: RuntimeWarning: overflow encountered in reduce\n",
      "  return umr_sum(a, axis, dtype, out, keepdims, initial, where)\n",
      "/home/surya/Desktop/FA24/ECE143_Python/Final_Project/US_Car_Accident_Data_Analysis/.venv/lib/python3.11/site-packages/numpy/_core/_methods.py:53: RuntimeWarning: overflow encountered in reduce\n",
      "  return umr_sum(a, axis, dtype, out, keepdims, initial, where)\n",
      "/home/surya/Desktop/FA24/ECE143_Python/Final_Project/US_Car_Accident_Data_Analysis/.venv/lib/python3.11/site-packages/numpy/_core/_methods.py:53: RuntimeWarning: overflow encountered in reduce\n",
      "  return umr_sum(a, axis, dtype, out, keepdims, initial, where)\n",
      "/home/surya/Desktop/FA24/ECE143_Python/Final_Project/US_Car_Accident_Data_Analysis/.venv/lib/python3.11/site-packages/numpy/_core/_methods.py:53: RuntimeWarning: overflow encountered in reduce\n",
      "  return umr_sum(a, axis, dtype, out, keepdims, initial, where)\n",
      "/home/surya/Desktop/FA24/ECE143_Python/Final_Project/US_Car_Accident_Data_Analysis/.venv/lib/python3.11/site-packages/numpy/_core/_methods.py:53: RuntimeWarning: overflow encountered in reduce\n",
      "  return umr_sum(a, axis, dtype, out, keepdims, initial, where)\n",
      "/home/surya/Desktop/FA24/ECE143_Python/Final_Project/US_Car_Accident_Data_Analysis/.venv/lib/python3.11/site-packages/numpy/_core/_methods.py:53: RuntimeWarning: overflow encountered in reduce\n",
      "  return umr_sum(a, axis, dtype, out, keepdims, initial, where)\n",
      "/home/surya/Desktop/FA24/ECE143_Python/Final_Project/US_Car_Accident_Data_Analysis/.venv/lib/python3.11/site-packages/numpy/_core/_methods.py:53: RuntimeWarning: overflow encountered in reduce\n",
      "  return umr_sum(a, axis, dtype, out, keepdims, initial, where)\n",
      "/home/surya/Desktop/FA24/ECE143_Python/Final_Project/US_Car_Accident_Data_Analysis/.venv/lib/python3.11/site-packages/numpy/_core/_methods.py:53: RuntimeWarning: overflow encountered in reduce\n",
      "  return umr_sum(a, axis, dtype, out, keepdims, initial, where)\n",
      "/home/surya/Desktop/FA24/ECE143_Python/Final_Project/US_Car_Accident_Data_Analysis/.venv/lib/python3.11/site-packages/numpy/_core/_methods.py:53: RuntimeWarning: overflow encountered in reduce\n",
      "  return umr_sum(a, axis, dtype, out, keepdims, initial, where)\n",
      "/home/surya/Desktop/FA24/ECE143_Python/Final_Project/US_Car_Accident_Data_Analysis/.venv/lib/python3.11/site-packages/numpy/_core/_methods.py:53: RuntimeWarning: overflow encountered in reduce\n",
      "  return umr_sum(a, axis, dtype, out, keepdims, initial, where)\n",
      "/home/surya/Desktop/FA24/ECE143_Python/Final_Project/US_Car_Accident_Data_Analysis/.venv/lib/python3.11/site-packages/numpy/_core/_methods.py:53: RuntimeWarning: overflow encountered in reduce\n",
      "  return umr_sum(a, axis, dtype, out, keepdims, initial, where)\n",
      "/home/surya/Desktop/FA24/ECE143_Python/Final_Project/US_Car_Accident_Data_Analysis/.venv/lib/python3.11/site-packages/numpy/_core/_methods.py:53: RuntimeWarning: overflow encountered in reduce\n",
      "  return umr_sum(a, axis, dtype, out, keepdims, initial, where)\n",
      "/home/surya/Desktop/FA24/ECE143_Python/Final_Project/US_Car_Accident_Data_Analysis/.venv/lib/python3.11/site-packages/numpy/_core/_methods.py:53: RuntimeWarning: overflow encountered in reduce\n",
      "  return umr_sum(a, axis, dtype, out, keepdims, initial, where)\n",
      "/home/surya/Desktop/FA24/ECE143_Python/Final_Project/US_Car_Accident_Data_Analysis/.venv/lib/python3.11/site-packages/numpy/_core/_methods.py:53: RuntimeWarning: overflow encountered in reduce\n",
      "  return umr_sum(a, axis, dtype, out, keepdims, initial, where)\n",
      "/home/surya/Desktop/FA24/ECE143_Python/Final_Project/US_Car_Accident_Data_Analysis/.venv/lib/python3.11/site-packages/numpy/_core/_methods.py:53: RuntimeWarning: overflow encountered in reduce\n",
      "  return umr_sum(a, axis, dtype, out, keepdims, initial, where)\n",
      "/home/surya/Desktop/FA24/ECE143_Python/Final_Project/US_Car_Accident_Data_Analysis/.venv/lib/python3.11/site-packages/numpy/_core/_methods.py:53: RuntimeWarning: overflow encountered in reduce\n",
      "  return umr_sum(a, axis, dtype, out, keepdims, initial, where)\n",
      "/home/surya/Desktop/FA24/ECE143_Python/Final_Project/US_Car_Accident_Data_Analysis/.venv/lib/python3.11/site-packages/numpy/_core/_methods.py:53: RuntimeWarning: overflow encountered in reduce\n",
      "  return umr_sum(a, axis, dtype, out, keepdims, initial, where)\n",
      "/home/surya/Desktop/FA24/ECE143_Python/Final_Project/US_Car_Accident_Data_Analysis/.venv/lib/python3.11/site-packages/numpy/_core/_methods.py:53: RuntimeWarning: overflow encountered in reduce\n",
      "  return umr_sum(a, axis, dtype, out, keepdims, initial, where)\n",
      "/home/surya/Desktop/FA24/ECE143_Python/Final_Project/US_Car_Accident_Data_Analysis/.venv/lib/python3.11/site-packages/numpy/_core/_methods.py:53: RuntimeWarning: overflow encountered in reduce\n",
      "  return umr_sum(a, axis, dtype, out, keepdims, initial, where)\n",
      "/home/surya/Desktop/FA24/ECE143_Python/Final_Project/US_Car_Accident_Data_Analysis/.venv/lib/python3.11/site-packages/numpy/_core/_methods.py:53: RuntimeWarning: overflow encountered in reduce\n",
      "  return umr_sum(a, axis, dtype, out, keepdims, initial, where)\n",
      "/home/surya/Desktop/FA24/ECE143_Python/Final_Project/US_Car_Accident_Data_Analysis/.venv/lib/python3.11/site-packages/numpy/_core/_methods.py:53: RuntimeWarning: overflow encountered in reduce\n",
      "  return umr_sum(a, axis, dtype, out, keepdims, initial, where)\n",
      "/home/surya/Desktop/FA24/ECE143_Python/Final_Project/US_Car_Accident_Data_Analysis/.venv/lib/python3.11/site-packages/numpy/_core/_methods.py:53: RuntimeWarning: overflow encountered in reduce\n",
      "  return umr_sum(a, axis, dtype, out, keepdims, initial, where)\n",
      "/home/surya/Desktop/FA24/ECE143_Python/Final_Project/US_Car_Accident_Data_Analysis/.venv/lib/python3.11/site-packages/numpy/_core/_methods.py:53: RuntimeWarning: overflow encountered in reduce\n",
      "  return umr_sum(a, axis, dtype, out, keepdims, initial, where)\n",
      "/home/surya/Desktop/FA24/ECE143_Python/Final_Project/US_Car_Accident_Data_Analysis/.venv/lib/python3.11/site-packages/numpy/_core/_methods.py:53: RuntimeWarning: overflow encountered in reduce\n",
      "  return umr_sum(a, axis, dtype, out, keepdims, initial, where)\n",
      "/home/surya/Desktop/FA24/ECE143_Python/Final_Project/US_Car_Accident_Data_Analysis/.venv/lib/python3.11/site-packages/numpy/_core/_methods.py:53: RuntimeWarning: overflow encountered in reduce\n",
      "  return umr_sum(a, axis, dtype, out, keepdims, initial, where)\n",
      "/home/surya/Desktop/FA24/ECE143_Python/Final_Project/US_Car_Accident_Data_Analysis/.venv/lib/python3.11/site-packages/numpy/_core/_methods.py:53: RuntimeWarning: overflow encountered in reduce\n",
      "  return umr_sum(a, axis, dtype, out, keepdims, initial, where)\n",
      "/home/surya/Desktop/FA24/ECE143_Python/Final_Project/US_Car_Accident_Data_Analysis/.venv/lib/python3.11/site-packages/numpy/_core/_methods.py:53: RuntimeWarning: overflow encountered in reduce\n",
      "  return umr_sum(a, axis, dtype, out, keepdims, initial, where)\n",
      "/home/surya/Desktop/FA24/ECE143_Python/Final_Project/US_Car_Accident_Data_Analysis/.venv/lib/python3.11/site-packages/numpy/_core/_methods.py:53: RuntimeWarning: overflow encountered in reduce\n",
      "  return umr_sum(a, axis, dtype, out, keepdims, initial, where)\n",
      "/home/surya/Desktop/FA24/ECE143_Python/Final_Project/US_Car_Accident_Data_Analysis/.venv/lib/python3.11/site-packages/numpy/_core/_methods.py:53: RuntimeWarning: overflow encountered in reduce\n",
      "  return umr_sum(a, axis, dtype, out, keepdims, initial, where)\n",
      "/home/surya/Desktop/FA24/ECE143_Python/Final_Project/US_Car_Accident_Data_Analysis/.venv/lib/python3.11/site-packages/numpy/_core/_methods.py:53: RuntimeWarning: overflow encountered in reduce\n",
      "  return umr_sum(a, axis, dtype, out, keepdims, initial, where)\n",
      "/home/surya/Desktop/FA24/ECE143_Python/Final_Project/US_Car_Accident_Data_Analysis/.venv/lib/python3.11/site-packages/numpy/_core/_methods.py:53: RuntimeWarning: overflow encountered in reduce\n",
      "  return umr_sum(a, axis, dtype, out, keepdims, initial, where)\n",
      "/home/surya/Desktop/FA24/ECE143_Python/Final_Project/US_Car_Accident_Data_Analysis/.venv/lib/python3.11/site-packages/numpy/_core/_methods.py:53: RuntimeWarning: overflow encountered in reduce\n",
      "  return umr_sum(a, axis, dtype, out, keepdims, initial, where)\n",
      "/home/surya/Desktop/FA24/ECE143_Python/Final_Project/US_Car_Accident_Data_Analysis/.venv/lib/python3.11/site-packages/numpy/_core/_methods.py:53: RuntimeWarning: overflow encountered in reduce\n",
      "  return umr_sum(a, axis, dtype, out, keepdims, initial, where)\n",
      "/home/surya/Desktop/FA24/ECE143_Python/Final_Project/US_Car_Accident_Data_Analysis/.venv/lib/python3.11/site-packages/numpy/_core/_methods.py:53: RuntimeWarning: overflow encountered in reduce\n",
      "  return umr_sum(a, axis, dtype, out, keepdims, initial, where)\n",
      "/home/surya/Desktop/FA24/ECE143_Python/Final_Project/US_Car_Accident_Data_Analysis/.venv/lib/python3.11/site-packages/numpy/_core/_methods.py:53: RuntimeWarning: overflow encountered in reduce\n",
      "  return umr_sum(a, axis, dtype, out, keepdims, initial, where)\n",
      "/home/surya/Desktop/FA24/ECE143_Python/Final_Project/US_Car_Accident_Data_Analysis/.venv/lib/python3.11/site-packages/numpy/_core/_methods.py:53: RuntimeWarning: overflow encountered in reduce\n",
      "  return umr_sum(a, axis, dtype, out, keepdims, initial, where)\n",
      "/home/surya/Desktop/FA24/ECE143_Python/Final_Project/US_Car_Accident_Data_Analysis/.venv/lib/python3.11/site-packages/numpy/_core/_methods.py:53: RuntimeWarning: overflow encountered in reduce\n",
      "  return umr_sum(a, axis, dtype, out, keepdims, initial, where)\n",
      "/home/surya/Desktop/FA24/ECE143_Python/Final_Project/US_Car_Accident_Data_Analysis/.venv/lib/python3.11/site-packages/numpy/_core/_methods.py:53: RuntimeWarning: overflow encountered in reduce\n",
      "  return umr_sum(a, axis, dtype, out, keepdims, initial, where)\n",
      "/home/surya/Desktop/FA24/ECE143_Python/Final_Project/US_Car_Accident_Data_Analysis/.venv/lib/python3.11/site-packages/numpy/_core/_methods.py:53: RuntimeWarning: overflow encountered in reduce\n",
      "  return umr_sum(a, axis, dtype, out, keepdims, initial, where)\n",
      "/home/surya/Desktop/FA24/ECE143_Python/Final_Project/US_Car_Accident_Data_Analysis/.venv/lib/python3.11/site-packages/numpy/_core/_methods.py:53: RuntimeWarning: overflow encountered in reduce\n",
      "  return umr_sum(a, axis, dtype, out, keepdims, initial, where)\n",
      "/home/surya/Desktop/FA24/ECE143_Python/Final_Project/US_Car_Accident_Data_Analysis/.venv/lib/python3.11/site-packages/numpy/_core/_methods.py:53: RuntimeWarning: overflow encountered in reduce\n",
      "  return umr_sum(a, axis, dtype, out, keepdims, initial, where)\n",
      "/home/surya/Desktop/FA24/ECE143_Python/Final_Project/US_Car_Accident_Data_Analysis/.venv/lib/python3.11/site-packages/numpy/_core/_methods.py:53: RuntimeWarning: overflow encountered in reduce\n",
      "  return umr_sum(a, axis, dtype, out, keepdims, initial, where)\n",
      "/home/surya/Desktop/FA24/ECE143_Python/Final_Project/US_Car_Accident_Data_Analysis/.venv/lib/python3.11/site-packages/numpy/_core/_methods.py:53: RuntimeWarning: overflow encountered in reduce\n",
      "  return umr_sum(a, axis, dtype, out, keepdims, initial, where)\n",
      "/home/surya/Desktop/FA24/ECE143_Python/Final_Project/US_Car_Accident_Data_Analysis/.venv/lib/python3.11/site-packages/numpy/_core/_methods.py:53: RuntimeWarning: overflow encountered in reduce\n",
      "  return umr_sum(a, axis, dtype, out, keepdims, initial, where)\n",
      "/home/surya/Desktop/FA24/ECE143_Python/Final_Project/US_Car_Accident_Data_Analysis/.venv/lib/python3.11/site-packages/numpy/_core/_methods.py:53: RuntimeWarning: overflow encountered in reduce\n",
      "  return umr_sum(a, axis, dtype, out, keepdims, initial, where)\n",
      "/home/surya/Desktop/FA24/ECE143_Python/Final_Project/US_Car_Accident_Data_Analysis/.venv/lib/python3.11/site-packages/numpy/_core/_methods.py:53: RuntimeWarning: overflow encountered in reduce\n",
      "  return umr_sum(a, axis, dtype, out, keepdims, initial, where)\n",
      "/home/surya/Desktop/FA24/ECE143_Python/Final_Project/US_Car_Accident_Data_Analysis/.venv/lib/python3.11/site-packages/numpy/_core/_methods.py:53: RuntimeWarning: overflow encountered in reduce\n",
      "  return umr_sum(a, axis, dtype, out, keepdims, initial, where)\n",
      "/home/surya/Desktop/FA24/ECE143_Python/Final_Project/US_Car_Accident_Data_Analysis/.venv/lib/python3.11/site-packages/numpy/_core/_methods.py:53: RuntimeWarning: overflow encountered in reduce\n",
      "  return umr_sum(a, axis, dtype, out, keepdims, initial, where)\n",
      "/home/surya/Desktop/FA24/ECE143_Python/Final_Project/US_Car_Accident_Data_Analysis/.venv/lib/python3.11/site-packages/numpy/_core/_methods.py:53: RuntimeWarning: overflow encountered in reduce\n",
      "  return umr_sum(a, axis, dtype, out, keepdims, initial, where)\n",
      "/home/surya/Desktop/FA24/ECE143_Python/Final_Project/US_Car_Accident_Data_Analysis/.venv/lib/python3.11/site-packages/numpy/_core/_methods.py:53: RuntimeWarning: overflow encountered in reduce\n",
      "  return umr_sum(a, axis, dtype, out, keepdims, initial, where)\n",
      "/home/surya/Desktop/FA24/ECE143_Python/Final_Project/US_Car_Accident_Data_Analysis/.venv/lib/python3.11/site-packages/numpy/_core/_methods.py:53: RuntimeWarning: overflow encountered in reduce\n",
      "  return umr_sum(a, axis, dtype, out, keepdims, initial, where)\n",
      "/home/surya/Desktop/FA24/ECE143_Python/Final_Project/US_Car_Accident_Data_Analysis/.venv/lib/python3.11/site-packages/numpy/_core/_methods.py:53: RuntimeWarning: overflow encountered in reduce\n",
      "  return umr_sum(a, axis, dtype, out, keepdims, initial, where)\n",
      "/home/surya/Desktop/FA24/ECE143_Python/Final_Project/US_Car_Accident_Data_Analysis/.venv/lib/python3.11/site-packages/numpy/_core/_methods.py:53: RuntimeWarning: overflow encountered in reduce\n",
      "  return umr_sum(a, axis, dtype, out, keepdims, initial, where)\n",
      "/home/surya/Desktop/FA24/ECE143_Python/Final_Project/US_Car_Accident_Data_Analysis/.venv/lib/python3.11/site-packages/numpy/_core/_methods.py:53: RuntimeWarning: overflow encountered in reduce\n",
      "  return umr_sum(a, axis, dtype, out, keepdims, initial, where)\n",
      "/home/surya/Desktop/FA24/ECE143_Python/Final_Project/US_Car_Accident_Data_Analysis/.venv/lib/python3.11/site-packages/numpy/_core/_methods.py:53: RuntimeWarning: overflow encountered in reduce\n",
      "  return umr_sum(a, axis, dtype, out, keepdims, initial, where)\n",
      "/home/surya/Desktop/FA24/ECE143_Python/Final_Project/US_Car_Accident_Data_Analysis/.venv/lib/python3.11/site-packages/numpy/_core/_methods.py:53: RuntimeWarning: overflow encountered in reduce\n",
      "  return umr_sum(a, axis, dtype, out, keepdims, initial, where)\n",
      "/home/surya/Desktop/FA24/ECE143_Python/Final_Project/US_Car_Accident_Data_Analysis/.venv/lib/python3.11/site-packages/numpy/_core/_methods.py:53: RuntimeWarning: overflow encountered in reduce\n",
      "  return umr_sum(a, axis, dtype, out, keepdims, initial, where)\n",
      "/home/surya/Desktop/FA24/ECE143_Python/Final_Project/US_Car_Accident_Data_Analysis/.venv/lib/python3.11/site-packages/numpy/_core/_methods.py:53: RuntimeWarning: overflow encountered in reduce\n",
      "  return umr_sum(a, axis, dtype, out, keepdims, initial, where)\n",
      "/home/surya/Desktop/FA24/ECE143_Python/Final_Project/US_Car_Accident_Data_Analysis/.venv/lib/python3.11/site-packages/numpy/_core/_methods.py:53: RuntimeWarning: overflow encountered in reduce\n",
      "  return umr_sum(a, axis, dtype, out, keepdims, initial, where)\n",
      "/home/surya/Desktop/FA24/ECE143_Python/Final_Project/US_Car_Accident_Data_Analysis/.venv/lib/python3.11/site-packages/numpy/_core/_methods.py:53: RuntimeWarning: overflow encountered in reduce\n",
      "  return umr_sum(a, axis, dtype, out, keepdims, initial, where)\n",
      "/home/surya/Desktop/FA24/ECE143_Python/Final_Project/US_Car_Accident_Data_Analysis/.venv/lib/python3.11/site-packages/numpy/_core/_methods.py:53: RuntimeWarning: overflow encountered in reduce\n",
      "  return umr_sum(a, axis, dtype, out, keepdims, initial, where)\n",
      "/home/surya/Desktop/FA24/ECE143_Python/Final_Project/US_Car_Accident_Data_Analysis/.venv/lib/python3.11/site-packages/numpy/_core/_methods.py:53: RuntimeWarning: overflow encountered in reduce\n",
      "  return umr_sum(a, axis, dtype, out, keepdims, initial, where)\n",
      "/home/surya/Desktop/FA24/ECE143_Python/Final_Project/US_Car_Accident_Data_Analysis/.venv/lib/python3.11/site-packages/numpy/_core/_methods.py:53: RuntimeWarning: overflow encountered in reduce\n",
      "  return umr_sum(a, axis, dtype, out, keepdims, initial, where)\n",
      "/home/surya/Desktop/FA24/ECE143_Python/Final_Project/US_Car_Accident_Data_Analysis/.venv/lib/python3.11/site-packages/numpy/_core/_methods.py:53: RuntimeWarning: overflow encountered in reduce\n",
      "  return umr_sum(a, axis, dtype, out, keepdims, initial, where)\n",
      "/home/surya/Desktop/FA24/ECE143_Python/Final_Project/US_Car_Accident_Data_Analysis/.venv/lib/python3.11/site-packages/numpy/_core/_methods.py:53: RuntimeWarning: overflow encountered in reduce\n",
      "  return umr_sum(a, axis, dtype, out, keepdims, initial, where)\n",
      "/home/surya/Desktop/FA24/ECE143_Python/Final_Project/US_Car_Accident_Data_Analysis/.venv/lib/python3.11/site-packages/numpy/_core/_methods.py:53: RuntimeWarning: overflow encountered in reduce\n",
      "  return umr_sum(a, axis, dtype, out, keepdims, initial, where)\n",
      "/home/surya/Desktop/FA24/ECE143_Python/Final_Project/US_Car_Accident_Data_Analysis/.venv/lib/python3.11/site-packages/numpy/_core/_methods.py:53: RuntimeWarning: overflow encountered in reduce\n",
      "  return umr_sum(a, axis, dtype, out, keepdims, initial, where)\n",
      "/home/surya/Desktop/FA24/ECE143_Python/Final_Project/US_Car_Accident_Data_Analysis/.venv/lib/python3.11/site-packages/numpy/_core/_methods.py:53: RuntimeWarning: overflow encountered in reduce\n",
      "  return umr_sum(a, axis, dtype, out, keepdims, initial, where)\n",
      "/home/surya/Desktop/FA24/ECE143_Python/Final_Project/US_Car_Accident_Data_Analysis/.venv/lib/python3.11/site-packages/numpy/_core/_methods.py:53: RuntimeWarning: overflow encountered in reduce\n",
      "  return umr_sum(a, axis, dtype, out, keepdims, initial, where)\n",
      "/home/surya/Desktop/FA24/ECE143_Python/Final_Project/US_Car_Accident_Data_Analysis/.venv/lib/python3.11/site-packages/numpy/_core/_methods.py:53: RuntimeWarning: overflow encountered in reduce\n",
      "  return umr_sum(a, axis, dtype, out, keepdims, initial, where)\n",
      "/home/surya/Desktop/FA24/ECE143_Python/Final_Project/US_Car_Accident_Data_Analysis/.venv/lib/python3.11/site-packages/numpy/_core/_methods.py:53: RuntimeWarning: overflow encountered in reduce\n",
      "  return umr_sum(a, axis, dtype, out, keepdims, initial, where)\n",
      "/home/surya/Desktop/FA24/ECE143_Python/Final_Project/US_Car_Accident_Data_Analysis/.venv/lib/python3.11/site-packages/numpy/_core/_methods.py:53: RuntimeWarning: overflow encountered in reduce\n",
      "  return umr_sum(a, axis, dtype, out, keepdims, initial, where)\n",
      "/home/surya/Desktop/FA24/ECE143_Python/Final_Project/US_Car_Accident_Data_Analysis/.venv/lib/python3.11/site-packages/numpy/_core/_methods.py:53: RuntimeWarning: overflow encountered in reduce\n",
      "  return umr_sum(a, axis, dtype, out, keepdims, initial, where)\n",
      "/home/surya/Desktop/FA24/ECE143_Python/Final_Project/US_Car_Accident_Data_Analysis/.venv/lib/python3.11/site-packages/numpy/_core/_methods.py:53: RuntimeWarning: overflow encountered in reduce\n",
      "  return umr_sum(a, axis, dtype, out, keepdims, initial, where)\n",
      "/home/surya/Desktop/FA24/ECE143_Python/Final_Project/US_Car_Accident_Data_Analysis/.venv/lib/python3.11/site-packages/pandas/core/nanops.py:1487: RuntimeWarning: overflow encountered in cast\n",
      "  return dtype.type(n)\n",
      "/home/surya/Desktop/FA24/ECE143_Python/Final_Project/US_Car_Accident_Data_Analysis/.venv/lib/python3.11/site-packages/numpy/_core/_methods.py:53: RuntimeWarning: overflow encountered in reduce\n",
      "  return umr_sum(a, axis, dtype, out, keepdims, initial, where)\n",
      "/home/surya/Desktop/FA24/ECE143_Python/Final_Project/US_Car_Accident_Data_Analysis/.venv/lib/python3.11/site-packages/pandas/core/nanops.py:731: RuntimeWarning: invalid value encountered in scalar divide\n",
      "  the_mean = the_sum / count if count > 0 else np.nan\n",
      "/home/surya/Desktop/FA24/ECE143_Python/Final_Project/US_Car_Accident_Data_Analysis/.venv/lib/python3.11/site-packages/pandas/core/nanops.py:1487: RuntimeWarning: overflow encountered in cast\n",
      "  return dtype.type(n)\n",
      "/home/surya/Desktop/FA24/ECE143_Python/Final_Project/US_Car_Accident_Data_Analysis/.venv/lib/python3.11/site-packages/numpy/_core/_methods.py:53: RuntimeWarning: overflow encountered in reduce\n",
      "  return umr_sum(a, axis, dtype, out, keepdims, initial, where)\n",
      "/home/surya/Desktop/FA24/ECE143_Python/Final_Project/US_Car_Accident_Data_Analysis/.venv/lib/python3.11/site-packages/pandas/core/nanops.py:731: RuntimeWarning: invalid value encountered in scalar divide\n",
      "  the_mean = the_sum / count if count > 0 else np.nan\n",
      "/home/surya/Desktop/FA24/ECE143_Python/Final_Project/US_Car_Accident_Data_Analysis/.venv/lib/python3.11/site-packages/numpy/_core/_methods.py:53: RuntimeWarning: overflow encountered in reduce\n",
      "  return umr_sum(a, axis, dtype, out, keepdims, initial, where)\n",
      "/home/surya/Desktop/FA24/ECE143_Python/Final_Project/US_Car_Accident_Data_Analysis/.venv/lib/python3.11/site-packages/numpy/_core/_methods.py:53: RuntimeWarning: overflow encountered in reduce\n",
      "  return umr_sum(a, axis, dtype, out, keepdims, initial, where)\n",
      "/home/surya/Desktop/FA24/ECE143_Python/Final_Project/US_Car_Accident_Data_Analysis/.venv/lib/python3.11/site-packages/numpy/_core/_methods.py:53: RuntimeWarning: overflow encountered in reduce\n",
      "  return umr_sum(a, axis, dtype, out, keepdims, initial, where)\n",
      "/home/surya/Desktop/FA24/ECE143_Python/Final_Project/US_Car_Accident_Data_Analysis/.venv/lib/python3.11/site-packages/numpy/_core/_methods.py:53: RuntimeWarning: overflow encountered in reduce\n",
      "  return umr_sum(a, axis, dtype, out, keepdims, initial, where)\n",
      "/home/surya/Desktop/FA24/ECE143_Python/Final_Project/US_Car_Accident_Data_Analysis/.venv/lib/python3.11/site-packages/numpy/_core/_methods.py:53: RuntimeWarning: overflow encountered in reduce\n",
      "  return umr_sum(a, axis, dtype, out, keepdims, initial, where)\n",
      "/home/surya/Desktop/FA24/ECE143_Python/Final_Project/US_Car_Accident_Data_Analysis/.venv/lib/python3.11/site-packages/numpy/_core/_methods.py:53: RuntimeWarning: overflow encountered in reduce\n",
      "  return umr_sum(a, axis, dtype, out, keepdims, initial, where)\n",
      "/home/surya/Desktop/FA24/ECE143_Python/Final_Project/US_Car_Accident_Data_Analysis/.venv/lib/python3.11/site-packages/numpy/_core/_methods.py:53: RuntimeWarning: overflow encountered in reduce\n",
      "  return umr_sum(a, axis, dtype, out, keepdims, initial, where)\n",
      "/home/surya/Desktop/FA24/ECE143_Python/Final_Project/US_Car_Accident_Data_Analysis/.venv/lib/python3.11/site-packages/numpy/_core/_methods.py:53: RuntimeWarning: overflow encountered in reduce\n",
      "  return umr_sum(a, axis, dtype, out, keepdims, initial, where)\n",
      "/home/surya/Desktop/FA24/ECE143_Python/Final_Project/US_Car_Accident_Data_Analysis/.venv/lib/python3.11/site-packages/numpy/_core/_methods.py:53: RuntimeWarning: overflow encountered in reduce\n",
      "  return umr_sum(a, axis, dtype, out, keepdims, initial, where)\n",
      "/home/surya/Desktop/FA24/ECE143_Python/Final_Project/US_Car_Accident_Data_Analysis/.venv/lib/python3.11/site-packages/numpy/_core/_methods.py:53: RuntimeWarning: overflow encountered in reduce\n",
      "  return umr_sum(a, axis, dtype, out, keepdims, initial, where)\n",
      "/home/surya/Desktop/FA24/ECE143_Python/Final_Project/US_Car_Accident_Data_Analysis/.venv/lib/python3.11/site-packages/numpy/_core/_methods.py:53: RuntimeWarning: overflow encountered in reduce\n",
      "  return umr_sum(a, axis, dtype, out, keepdims, initial, where)\n",
      "/home/surya/Desktop/FA24/ECE143_Python/Final_Project/US_Car_Accident_Data_Analysis/.venv/lib/python3.11/site-packages/numpy/_core/_methods.py:53: RuntimeWarning: overflow encountered in reduce\n",
      "  return umr_sum(a, axis, dtype, out, keepdims, initial, where)\n",
      "/home/surya/Desktop/FA24/ECE143_Python/Final_Project/US_Car_Accident_Data_Analysis/.venv/lib/python3.11/site-packages/numpy/_core/_methods.py:53: RuntimeWarning: overflow encountered in reduce\n",
      "  return umr_sum(a, axis, dtype, out, keepdims, initial, where)\n",
      "/home/surya/Desktop/FA24/ECE143_Python/Final_Project/US_Car_Accident_Data_Analysis/.venv/lib/python3.11/site-packages/numpy/_core/_methods.py:53: RuntimeWarning: overflow encountered in reduce\n",
      "  return umr_sum(a, axis, dtype, out, keepdims, initial, where)\n",
      "/home/surya/Desktop/FA24/ECE143_Python/Final_Project/US_Car_Accident_Data_Analysis/.venv/lib/python3.11/site-packages/numpy/_core/_methods.py:53: RuntimeWarning: overflow encountered in reduce\n",
      "  return umr_sum(a, axis, dtype, out, keepdims, initial, where)\n",
      "/home/surya/Desktop/FA24/ECE143_Python/Final_Project/US_Car_Accident_Data_Analysis/.venv/lib/python3.11/site-packages/numpy/_core/_methods.py:53: RuntimeWarning: overflow encountered in reduce\n",
      "  return umr_sum(a, axis, dtype, out, keepdims, initial, where)\n",
      "/home/surya/Desktop/FA24/ECE143_Python/Final_Project/US_Car_Accident_Data_Analysis/.venv/lib/python3.11/site-packages/numpy/_core/_methods.py:53: RuntimeWarning: overflow encountered in reduce\n",
      "  return umr_sum(a, axis, dtype, out, keepdims, initial, where)\n",
      "/home/surya/Desktop/FA24/ECE143_Python/Final_Project/US_Car_Accident_Data_Analysis/.venv/lib/python3.11/site-packages/numpy/_core/_methods.py:53: RuntimeWarning: overflow encountered in reduce\n",
      "  return umr_sum(a, axis, dtype, out, keepdims, initial, where)\n",
      "/home/surya/Desktop/FA24/ECE143_Python/Final_Project/US_Car_Accident_Data_Analysis/.venv/lib/python3.11/site-packages/numpy/_core/_methods.py:53: RuntimeWarning: overflow encountered in reduce\n",
      "  return umr_sum(a, axis, dtype, out, keepdims, initial, where)\n",
      "/home/surya/Desktop/FA24/ECE143_Python/Final_Project/US_Car_Accident_Data_Analysis/.venv/lib/python3.11/site-packages/numpy/_core/_methods.py:53: RuntimeWarning: overflow encountered in reduce\n",
      "  return umr_sum(a, axis, dtype, out, keepdims, initial, where)\n",
      "/home/surya/Desktop/FA24/ECE143_Python/Final_Project/US_Car_Accident_Data_Analysis/.venv/lib/python3.11/site-packages/numpy/_core/_methods.py:53: RuntimeWarning: overflow encountered in reduce\n",
      "  return umr_sum(a, axis, dtype, out, keepdims, initial, where)\n",
      "/home/surya/Desktop/FA24/ECE143_Python/Final_Project/US_Car_Accident_Data_Analysis/.venv/lib/python3.11/site-packages/numpy/_core/_methods.py:53: RuntimeWarning: overflow encountered in reduce\n",
      "  return umr_sum(a, axis, dtype, out, keepdims, initial, where)\n",
      "/home/surya/Desktop/FA24/ECE143_Python/Final_Project/US_Car_Accident_Data_Analysis/.venv/lib/python3.11/site-packages/numpy/_core/_methods.py:53: RuntimeWarning: overflow encountered in reduce\n",
      "  return umr_sum(a, axis, dtype, out, keepdims, initial, where)\n",
      "/home/surya/Desktop/FA24/ECE143_Python/Final_Project/US_Car_Accident_Data_Analysis/.venv/lib/python3.11/site-packages/numpy/_core/_methods.py:53: RuntimeWarning: overflow encountered in reduce\n",
      "  return umr_sum(a, axis, dtype, out, keepdims, initial, where)\n",
      "/home/surya/Desktop/FA24/ECE143_Python/Final_Project/US_Car_Accident_Data_Analysis/.venv/lib/python3.11/site-packages/numpy/_core/_methods.py:53: RuntimeWarning: overflow encountered in reduce\n",
      "  return umr_sum(a, axis, dtype, out, keepdims, initial, where)\n",
      "/home/surya/Desktop/FA24/ECE143_Python/Final_Project/US_Car_Accident_Data_Analysis/.venv/lib/python3.11/site-packages/numpy/_core/_methods.py:53: RuntimeWarning: overflow encountered in reduce\n",
      "  return umr_sum(a, axis, dtype, out, keepdims, initial, where)\n",
      "/home/surya/Desktop/FA24/ECE143_Python/Final_Project/US_Car_Accident_Data_Analysis/.venv/lib/python3.11/site-packages/numpy/_core/_methods.py:53: RuntimeWarning: overflow encountered in reduce\n",
      "  return umr_sum(a, axis, dtype, out, keepdims, initial, where)\n",
      "/home/surya/Desktop/FA24/ECE143_Python/Final_Project/US_Car_Accident_Data_Analysis/.venv/lib/python3.11/site-packages/numpy/_core/_methods.py:53: RuntimeWarning: overflow encountered in reduce\n",
      "  return umr_sum(a, axis, dtype, out, keepdims, initial, where)\n",
      "/home/surya/Desktop/FA24/ECE143_Python/Final_Project/US_Car_Accident_Data_Analysis/.venv/lib/python3.11/site-packages/numpy/_core/_methods.py:53: RuntimeWarning: overflow encountered in reduce\n",
      "  return umr_sum(a, axis, dtype, out, keepdims, initial, where)\n",
      "/home/surya/Desktop/FA24/ECE143_Python/Final_Project/US_Car_Accident_Data_Analysis/.venv/lib/python3.11/site-packages/numpy/_core/_methods.py:53: RuntimeWarning: overflow encountered in reduce\n",
      "  return umr_sum(a, axis, dtype, out, keepdims, initial, where)\n",
      "/home/surya/Desktop/FA24/ECE143_Python/Final_Project/US_Car_Accident_Data_Analysis/.venv/lib/python3.11/site-packages/numpy/_core/_methods.py:53: RuntimeWarning: overflow encountered in reduce\n",
      "  return umr_sum(a, axis, dtype, out, keepdims, initial, where)\n",
      "/home/surya/Desktop/FA24/ECE143_Python/Final_Project/US_Car_Accident_Data_Analysis/.venv/lib/python3.11/site-packages/numpy/_core/_methods.py:53: RuntimeWarning: overflow encountered in reduce\n",
      "  return umr_sum(a, axis, dtype, out, keepdims, initial, where)\n",
      "/home/surya/Desktop/FA24/ECE143_Python/Final_Project/US_Car_Accident_Data_Analysis/.venv/lib/python3.11/site-packages/numpy/_core/_methods.py:53: RuntimeWarning: overflow encountered in reduce\n",
      "  return umr_sum(a, axis, dtype, out, keepdims, initial, where)\n",
      "/home/surya/Desktop/FA24/ECE143_Python/Final_Project/US_Car_Accident_Data_Analysis/.venv/lib/python3.11/site-packages/numpy/_core/_methods.py:53: RuntimeWarning: overflow encountered in reduce\n",
      "  return umr_sum(a, axis, dtype, out, keepdims, initial, where)\n",
      "/home/surya/Desktop/FA24/ECE143_Python/Final_Project/US_Car_Accident_Data_Analysis/.venv/lib/python3.11/site-packages/numpy/_core/_methods.py:53: RuntimeWarning: overflow encountered in reduce\n",
      "  return umr_sum(a, axis, dtype, out, keepdims, initial, where)\n",
      "/home/surya/Desktop/FA24/ECE143_Python/Final_Project/US_Car_Accident_Data_Analysis/.venv/lib/python3.11/site-packages/numpy/_core/_methods.py:53: RuntimeWarning: overflow encountered in reduce\n",
      "  return umr_sum(a, axis, dtype, out, keepdims, initial, where)\n",
      "/home/surya/Desktop/FA24/ECE143_Python/Final_Project/US_Car_Accident_Data_Analysis/.venv/lib/python3.11/site-packages/numpy/_core/_methods.py:53: RuntimeWarning: overflow encountered in reduce\n",
      "  return umr_sum(a, axis, dtype, out, keepdims, initial, where)\n",
      "/home/surya/Desktop/FA24/ECE143_Python/Final_Project/US_Car_Accident_Data_Analysis/.venv/lib/python3.11/site-packages/numpy/_core/_methods.py:53: RuntimeWarning: overflow encountered in reduce\n",
      "  return umr_sum(a, axis, dtype, out, keepdims, initial, where)\n",
      "/home/surya/Desktop/FA24/ECE143_Python/Final_Project/US_Car_Accident_Data_Analysis/.venv/lib/python3.11/site-packages/numpy/_core/_methods.py:53: RuntimeWarning: overflow encountered in reduce\n",
      "  return umr_sum(a, axis, dtype, out, keepdims, initial, where)\n",
      "/home/surya/Desktop/FA24/ECE143_Python/Final_Project/US_Car_Accident_Data_Analysis/.venv/lib/python3.11/site-packages/numpy/_core/_methods.py:53: RuntimeWarning: overflow encountered in reduce\n",
      "  return umr_sum(a, axis, dtype, out, keepdims, initial, where)\n",
      "/home/surya/Desktop/FA24/ECE143_Python/Final_Project/US_Car_Accident_Data_Analysis/.venv/lib/python3.11/site-packages/numpy/_core/_methods.py:53: RuntimeWarning: overflow encountered in reduce\n",
      "  return umr_sum(a, axis, dtype, out, keepdims, initial, where)\n",
      "/home/surya/Desktop/FA24/ECE143_Python/Final_Project/US_Car_Accident_Data_Analysis/.venv/lib/python3.11/site-packages/numpy/_core/_methods.py:53: RuntimeWarning: overflow encountered in reduce\n",
      "  return umr_sum(a, axis, dtype, out, keepdims, initial, where)\n",
      "/home/surya/Desktop/FA24/ECE143_Python/Final_Project/US_Car_Accident_Data_Analysis/.venv/lib/python3.11/site-packages/numpy/_core/_methods.py:53: RuntimeWarning: overflow encountered in reduce\n",
      "  return umr_sum(a, axis, dtype, out, keepdims, initial, where)\n",
      "/home/surya/Desktop/FA24/ECE143_Python/Final_Project/US_Car_Accident_Data_Analysis/.venv/lib/python3.11/site-packages/numpy/_core/_methods.py:53: RuntimeWarning: overflow encountered in reduce\n",
      "  return umr_sum(a, axis, dtype, out, keepdims, initial, where)\n",
      "/home/surya/Desktop/FA24/ECE143_Python/Final_Project/US_Car_Accident_Data_Analysis/.venv/lib/python3.11/site-packages/numpy/_core/_methods.py:53: RuntimeWarning: overflow encountered in reduce\n",
      "  return umr_sum(a, axis, dtype, out, keepdims, initial, where)\n",
      "/home/surya/Desktop/FA24/ECE143_Python/Final_Project/US_Car_Accident_Data_Analysis/.venv/lib/python3.11/site-packages/numpy/_core/_methods.py:53: RuntimeWarning: overflow encountered in reduce\n",
      "  return umr_sum(a, axis, dtype, out, keepdims, initial, where)\n",
      "/home/surya/Desktop/FA24/ECE143_Python/Final_Project/US_Car_Accident_Data_Analysis/.venv/lib/python3.11/site-packages/numpy/_core/_methods.py:53: RuntimeWarning: overflow encountered in reduce\n",
      "  return umr_sum(a, axis, dtype, out, keepdims, initial, where)\n",
      "/home/surya/Desktop/FA24/ECE143_Python/Final_Project/US_Car_Accident_Data_Analysis/.venv/lib/python3.11/site-packages/numpy/_core/_methods.py:53: RuntimeWarning: overflow encountered in reduce\n",
      "  return umr_sum(a, axis, dtype, out, keepdims, initial, where)\n",
      "/home/surya/Desktop/FA24/ECE143_Python/Final_Project/US_Car_Accident_Data_Analysis/.venv/lib/python3.11/site-packages/numpy/_core/_methods.py:53: RuntimeWarning: overflow encountered in reduce\n",
      "  return umr_sum(a, axis, dtype, out, keepdims, initial, where)\n",
      "/home/surya/Desktop/FA24/ECE143_Python/Final_Project/US_Car_Accident_Data_Analysis/.venv/lib/python3.11/site-packages/numpy/_core/_methods.py:53: RuntimeWarning: overflow encountered in reduce\n",
      "  return umr_sum(a, axis, dtype, out, keepdims, initial, where)\n",
      "/home/surya/Desktop/FA24/ECE143_Python/Final_Project/US_Car_Accident_Data_Analysis/.venv/lib/python3.11/site-packages/numpy/_core/_methods.py:53: RuntimeWarning: overflow encountered in reduce\n",
      "  return umr_sum(a, axis, dtype, out, keepdims, initial, where)\n",
      "/home/surya/Desktop/FA24/ECE143_Python/Final_Project/US_Car_Accident_Data_Analysis/.venv/lib/python3.11/site-packages/numpy/_core/_methods.py:53: RuntimeWarning: overflow encountered in reduce\n",
      "  return umr_sum(a, axis, dtype, out, keepdims, initial, where)\n",
      "/home/surya/Desktop/FA24/ECE143_Python/Final_Project/US_Car_Accident_Data_Analysis/.venv/lib/python3.11/site-packages/numpy/_core/_methods.py:53: RuntimeWarning: overflow encountered in reduce\n",
      "  return umr_sum(a, axis, dtype, out, keepdims, initial, where)\n",
      "/home/surya/Desktop/FA24/ECE143_Python/Final_Project/US_Car_Accident_Data_Analysis/.venv/lib/python3.11/site-packages/numpy/_core/_methods.py:53: RuntimeWarning: overflow encountered in reduce\n",
      "  return umr_sum(a, axis, dtype, out, keepdims, initial, where)\n",
      "/home/surya/Desktop/FA24/ECE143_Python/Final_Project/US_Car_Accident_Data_Analysis/.venv/lib/python3.11/site-packages/numpy/_core/_methods.py:53: RuntimeWarning: overflow encountered in reduce\n",
      "  return umr_sum(a, axis, dtype, out, keepdims, initial, where)\n",
      "/home/surya/Desktop/FA24/ECE143_Python/Final_Project/US_Car_Accident_Data_Analysis/.venv/lib/python3.11/site-packages/numpy/_core/_methods.py:53: RuntimeWarning: overflow encountered in reduce\n",
      "  return umr_sum(a, axis, dtype, out, keepdims, initial, where)\n",
      "/home/surya/Desktop/FA24/ECE143_Python/Final_Project/US_Car_Accident_Data_Analysis/.venv/lib/python3.11/site-packages/numpy/_core/_methods.py:53: RuntimeWarning: overflow encountered in reduce\n",
      "  return umr_sum(a, axis, dtype, out, keepdims, initial, where)\n",
      "/home/surya/Desktop/FA24/ECE143_Python/Final_Project/US_Car_Accident_Data_Analysis/.venv/lib/python3.11/site-packages/numpy/_core/_methods.py:53: RuntimeWarning: overflow encountered in reduce\n",
      "  return umr_sum(a, axis, dtype, out, keepdims, initial, where)\n",
      "/home/surya/Desktop/FA24/ECE143_Python/Final_Project/US_Car_Accident_Data_Analysis/.venv/lib/python3.11/site-packages/numpy/_core/_methods.py:53: RuntimeWarning: overflow encountered in reduce\n",
      "  return umr_sum(a, axis, dtype, out, keepdims, initial, where)\n",
      "/home/surya/Desktop/FA24/ECE143_Python/Final_Project/US_Car_Accident_Data_Analysis/.venv/lib/python3.11/site-packages/numpy/_core/_methods.py:53: RuntimeWarning: overflow encountered in reduce\n",
      "  return umr_sum(a, axis, dtype, out, keepdims, initial, where)\n",
      "/home/surya/Desktop/FA24/ECE143_Python/Final_Project/US_Car_Accident_Data_Analysis/.venv/lib/python3.11/site-packages/numpy/_core/_methods.py:53: RuntimeWarning: overflow encountered in reduce\n",
      "  return umr_sum(a, axis, dtype, out, keepdims, initial, where)\n",
      "/home/surya/Desktop/FA24/ECE143_Python/Final_Project/US_Car_Accident_Data_Analysis/.venv/lib/python3.11/site-packages/numpy/_core/_methods.py:53: RuntimeWarning: overflow encountered in reduce\n",
      "  return umr_sum(a, axis, dtype, out, keepdims, initial, where)\n",
      "/home/surya/Desktop/FA24/ECE143_Python/Final_Project/US_Car_Accident_Data_Analysis/.venv/lib/python3.11/site-packages/numpy/_core/_methods.py:53: RuntimeWarning: overflow encountered in reduce\n",
      "  return umr_sum(a, axis, dtype, out, keepdims, initial, where)\n",
      "/home/surya/Desktop/FA24/ECE143_Python/Final_Project/US_Car_Accident_Data_Analysis/.venv/lib/python3.11/site-packages/numpy/_core/_methods.py:53: RuntimeWarning: overflow encountered in reduce\n",
      "  return umr_sum(a, axis, dtype, out, keepdims, initial, where)\n",
      "/home/surya/Desktop/FA24/ECE143_Python/Final_Project/US_Car_Accident_Data_Analysis/.venv/lib/python3.11/site-packages/numpy/_core/_methods.py:53: RuntimeWarning: overflow encountered in reduce\n",
      "  return umr_sum(a, axis, dtype, out, keepdims, initial, where)\n",
      "/home/surya/Desktop/FA24/ECE143_Python/Final_Project/US_Car_Accident_Data_Analysis/.venv/lib/python3.11/site-packages/numpy/_core/_methods.py:53: RuntimeWarning: overflow encountered in reduce\n",
      "  return umr_sum(a, axis, dtype, out, keepdims, initial, where)\n",
      "/home/surya/Desktop/FA24/ECE143_Python/Final_Project/US_Car_Accident_Data_Analysis/.venv/lib/python3.11/site-packages/numpy/_core/_methods.py:53: RuntimeWarning: overflow encountered in reduce\n",
      "  return umr_sum(a, axis, dtype, out, keepdims, initial, where)\n",
      "/home/surya/Desktop/FA24/ECE143_Python/Final_Project/US_Car_Accident_Data_Analysis/.venv/lib/python3.11/site-packages/numpy/_core/_methods.py:53: RuntimeWarning: overflow encountered in reduce\n",
      "  return umr_sum(a, axis, dtype, out, keepdims, initial, where)\n",
      "/home/surya/Desktop/FA24/ECE143_Python/Final_Project/US_Car_Accident_Data_Analysis/.venv/lib/python3.11/site-packages/numpy/_core/_methods.py:53: RuntimeWarning: overflow encountered in reduce\n",
      "  return umr_sum(a, axis, dtype, out, keepdims, initial, where)\n",
      "/home/surya/Desktop/FA24/ECE143_Python/Final_Project/US_Car_Accident_Data_Analysis/.venv/lib/python3.11/site-packages/numpy/_core/_methods.py:53: RuntimeWarning: overflow encountered in reduce\n",
      "  return umr_sum(a, axis, dtype, out, keepdims, initial, where)\n",
      "/home/surya/Desktop/FA24/ECE143_Python/Final_Project/US_Car_Accident_Data_Analysis/.venv/lib/python3.11/site-packages/numpy/_core/_methods.py:53: RuntimeWarning: overflow encountered in reduce\n",
      "  return umr_sum(a, axis, dtype, out, keepdims, initial, where)\n",
      "/home/surya/Desktop/FA24/ECE143_Python/Final_Project/US_Car_Accident_Data_Analysis/.venv/lib/python3.11/site-packages/numpy/_core/_methods.py:53: RuntimeWarning: overflow encountered in reduce\n",
      "  return umr_sum(a, axis, dtype, out, keepdims, initial, where)\n",
      "/home/surya/Desktop/FA24/ECE143_Python/Final_Project/US_Car_Accident_Data_Analysis/.venv/lib/python3.11/site-packages/numpy/_core/_methods.py:53: RuntimeWarning: overflow encountered in reduce\n",
      "  return umr_sum(a, axis, dtype, out, keepdims, initial, where)\n",
      "/home/surya/Desktop/FA24/ECE143_Python/Final_Project/US_Car_Accident_Data_Analysis/.venv/lib/python3.11/site-packages/numpy/_core/_methods.py:53: RuntimeWarning: overflow encountered in reduce\n",
      "  return umr_sum(a, axis, dtype, out, keepdims, initial, where)\n",
      "/home/surya/Desktop/FA24/ECE143_Python/Final_Project/US_Car_Accident_Data_Analysis/.venv/lib/python3.11/site-packages/numpy/_core/_methods.py:53: RuntimeWarning: overflow encountered in reduce\n",
      "  return umr_sum(a, axis, dtype, out, keepdims, initial, where)\n",
      "/home/surya/Desktop/FA24/ECE143_Python/Final_Project/US_Car_Accident_Data_Analysis/.venv/lib/python3.11/site-packages/numpy/_core/_methods.py:53: RuntimeWarning: overflow encountered in reduce\n",
      "  return umr_sum(a, axis, dtype, out, keepdims, initial, where)\n",
      "/home/surya/Desktop/FA24/ECE143_Python/Final_Project/US_Car_Accident_Data_Analysis/.venv/lib/python3.11/site-packages/numpy/_core/_methods.py:53: RuntimeWarning: overflow encountered in reduce\n",
      "  return umr_sum(a, axis, dtype, out, keepdims, initial, where)\n",
      "/home/surya/Desktop/FA24/ECE143_Python/Final_Project/US_Car_Accident_Data_Analysis/.venv/lib/python3.11/site-packages/numpy/_core/_methods.py:53: RuntimeWarning: overflow encountered in reduce\n",
      "  return umr_sum(a, axis, dtype, out, keepdims, initial, where)\n",
      "/home/surya/Desktop/FA24/ECE143_Python/Final_Project/US_Car_Accident_Data_Analysis/.venv/lib/python3.11/site-packages/numpy/_core/_methods.py:53: RuntimeWarning: overflow encountered in reduce\n",
      "  return umr_sum(a, axis, dtype, out, keepdims, initial, where)\n",
      "/home/surya/Desktop/FA24/ECE143_Python/Final_Project/US_Car_Accident_Data_Analysis/.venv/lib/python3.11/site-packages/numpy/_core/_methods.py:53: RuntimeWarning: overflow encountered in reduce\n",
      "  return umr_sum(a, axis, dtype, out, keepdims, initial, where)\n",
      "/home/surya/Desktop/FA24/ECE143_Python/Final_Project/US_Car_Accident_Data_Analysis/.venv/lib/python3.11/site-packages/numpy/_core/_methods.py:53: RuntimeWarning: overflow encountered in reduce\n",
      "  return umr_sum(a, axis, dtype, out, keepdims, initial, where)\n",
      "/home/surya/Desktop/FA24/ECE143_Python/Final_Project/US_Car_Accident_Data_Analysis/.venv/lib/python3.11/site-packages/numpy/_core/_methods.py:53: RuntimeWarning: overflow encountered in reduce\n",
      "  return umr_sum(a, axis, dtype, out, keepdims, initial, where)\n",
      "/home/surya/Desktop/FA24/ECE143_Python/Final_Project/US_Car_Accident_Data_Analysis/.venv/lib/python3.11/site-packages/numpy/_core/_methods.py:53: RuntimeWarning: overflow encountered in reduce\n",
      "  return umr_sum(a, axis, dtype, out, keepdims, initial, where)\n",
      "/home/surya/Desktop/FA24/ECE143_Python/Final_Project/US_Car_Accident_Data_Analysis/.venv/lib/python3.11/site-packages/numpy/_core/_methods.py:53: RuntimeWarning: overflow encountered in reduce\n",
      "  return umr_sum(a, axis, dtype, out, keepdims, initial, where)\n",
      "/home/surya/Desktop/FA24/ECE143_Python/Final_Project/US_Car_Accident_Data_Analysis/.venv/lib/python3.11/site-packages/numpy/_core/_methods.py:53: RuntimeWarning: overflow encountered in reduce\n",
      "  return umr_sum(a, axis, dtype, out, keepdims, initial, where)\n",
      "/home/surya/Desktop/FA24/ECE143_Python/Final_Project/US_Car_Accident_Data_Analysis/.venv/lib/python3.11/site-packages/numpy/_core/_methods.py:53: RuntimeWarning: overflow encountered in reduce\n",
      "  return umr_sum(a, axis, dtype, out, keepdims, initial, where)\n",
      "/home/surya/Desktop/FA24/ECE143_Python/Final_Project/US_Car_Accident_Data_Analysis/.venv/lib/python3.11/site-packages/numpy/_core/_methods.py:53: RuntimeWarning: overflow encountered in reduce\n",
      "  return umr_sum(a, axis, dtype, out, keepdims, initial, where)\n",
      "/home/surya/Desktop/FA24/ECE143_Python/Final_Project/US_Car_Accident_Data_Analysis/.venv/lib/python3.11/site-packages/numpy/_core/_methods.py:53: RuntimeWarning: overflow encountered in reduce\n",
      "  return umr_sum(a, axis, dtype, out, keepdims, initial, where)\n",
      "/home/surya/Desktop/FA24/ECE143_Python/Final_Project/US_Car_Accident_Data_Analysis/.venv/lib/python3.11/site-packages/numpy/_core/_methods.py:53: RuntimeWarning: overflow encountered in reduce\n",
      "  return umr_sum(a, axis, dtype, out, keepdims, initial, where)\n",
      "/home/surya/Desktop/FA24/ECE143_Python/Final_Project/US_Car_Accident_Data_Analysis/.venv/lib/python3.11/site-packages/numpy/_core/_methods.py:53: RuntimeWarning: overflow encountered in reduce\n",
      "  return umr_sum(a, axis, dtype, out, keepdims, initial, where)\n",
      "/home/surya/Desktop/FA24/ECE143_Python/Final_Project/US_Car_Accident_Data_Analysis/.venv/lib/python3.11/site-packages/numpy/_core/_methods.py:53: RuntimeWarning: overflow encountered in reduce\n",
      "  return umr_sum(a, axis, dtype, out, keepdims, initial, where)\n",
      "/home/surya/Desktop/FA24/ECE143_Python/Final_Project/US_Car_Accident_Data_Analysis/.venv/lib/python3.11/site-packages/numpy/_core/_methods.py:53: RuntimeWarning: overflow encountered in reduce\n",
      "  return umr_sum(a, axis, dtype, out, keepdims, initial, where)\n",
      "/home/surya/Desktop/FA24/ECE143_Python/Final_Project/US_Car_Accident_Data_Analysis/.venv/lib/python3.11/site-packages/numpy/_core/_methods.py:53: RuntimeWarning: overflow encountered in reduce\n",
      "  return umr_sum(a, axis, dtype, out, keepdims, initial, where)\n",
      "/home/surya/Desktop/FA24/ECE143_Python/Final_Project/US_Car_Accident_Data_Analysis/.venv/lib/python3.11/site-packages/numpy/_core/_methods.py:53: RuntimeWarning: overflow encountered in reduce\n",
      "  return umr_sum(a, axis, dtype, out, keepdims, initial, where)\n",
      "/home/surya/Desktop/FA24/ECE143_Python/Final_Project/US_Car_Accident_Data_Analysis/.venv/lib/python3.11/site-packages/numpy/_core/_methods.py:53: RuntimeWarning: overflow encountered in reduce\n",
      "  return umr_sum(a, axis, dtype, out, keepdims, initial, where)\n",
      "/home/surya/Desktop/FA24/ECE143_Python/Final_Project/US_Car_Accident_Data_Analysis/.venv/lib/python3.11/site-packages/numpy/_core/_methods.py:53: RuntimeWarning: overflow encountered in reduce\n",
      "  return umr_sum(a, axis, dtype, out, keepdims, initial, where)\n",
      "/home/surya/Desktop/FA24/ECE143_Python/Final_Project/US_Car_Accident_Data_Analysis/.venv/lib/python3.11/site-packages/numpy/_core/_methods.py:53: RuntimeWarning: overflow encountered in reduce\n",
      "  return umr_sum(a, axis, dtype, out, keepdims, initial, where)\n",
      "/home/surya/Desktop/FA24/ECE143_Python/Final_Project/US_Car_Accident_Data_Analysis/.venv/lib/python3.11/site-packages/numpy/_core/_methods.py:53: RuntimeWarning: overflow encountered in reduce\n",
      "  return umr_sum(a, axis, dtype, out, keepdims, initial, where)\n",
      "/home/surya/Desktop/FA24/ECE143_Python/Final_Project/US_Car_Accident_Data_Analysis/.venv/lib/python3.11/site-packages/numpy/_core/_methods.py:53: RuntimeWarning: overflow encountered in reduce\n",
      "  return umr_sum(a, axis, dtype, out, keepdims, initial, where)\n",
      "/home/surya/Desktop/FA24/ECE143_Python/Final_Project/US_Car_Accident_Data_Analysis/.venv/lib/python3.11/site-packages/numpy/_core/_methods.py:53: RuntimeWarning: overflow encountered in reduce\n",
      "  return umr_sum(a, axis, dtype, out, keepdims, initial, where)\n",
      "/home/surya/Desktop/FA24/ECE143_Python/Final_Project/US_Car_Accident_Data_Analysis/.venv/lib/python3.11/site-packages/numpy/_core/_methods.py:53: RuntimeWarning: overflow encountered in reduce\n",
      "  return umr_sum(a, axis, dtype, out, keepdims, initial, where)\n",
      "/home/surya/Desktop/FA24/ECE143_Python/Final_Project/US_Car_Accident_Data_Analysis/.venv/lib/python3.11/site-packages/numpy/_core/_methods.py:53: RuntimeWarning: overflow encountered in reduce\n",
      "  return umr_sum(a, axis, dtype, out, keepdims, initial, where)\n",
      "/home/surya/Desktop/FA24/ECE143_Python/Final_Project/US_Car_Accident_Data_Analysis/.venv/lib/python3.11/site-packages/numpy/_core/_methods.py:53: RuntimeWarning: overflow encountered in reduce\n",
      "  return umr_sum(a, axis, dtype, out, keepdims, initial, where)\n",
      "/home/surya/Desktop/FA24/ECE143_Python/Final_Project/US_Car_Accident_Data_Analysis/.venv/lib/python3.11/site-packages/numpy/_core/_methods.py:53: RuntimeWarning: overflow encountered in reduce\n",
      "  return umr_sum(a, axis, dtype, out, keepdims, initial, where)\n",
      "/home/surya/Desktop/FA24/ECE143_Python/Final_Project/US_Car_Accident_Data_Analysis/.venv/lib/python3.11/site-packages/numpy/_core/_methods.py:53: RuntimeWarning: overflow encountered in reduce\n",
      "  return umr_sum(a, axis, dtype, out, keepdims, initial, where)\n",
      "/home/surya/Desktop/FA24/ECE143_Python/Final_Project/US_Car_Accident_Data_Analysis/.venv/lib/python3.11/site-packages/numpy/_core/_methods.py:53: RuntimeWarning: overflow encountered in reduce\n",
      "  return umr_sum(a, axis, dtype, out, keepdims, initial, where)\n",
      "/home/surya/Desktop/FA24/ECE143_Python/Final_Project/US_Car_Accident_Data_Analysis/.venv/lib/python3.11/site-packages/numpy/_core/_methods.py:53: RuntimeWarning: overflow encountered in reduce\n",
      "  return umr_sum(a, axis, dtype, out, keepdims, initial, where)\n",
      "/home/surya/Desktop/FA24/ECE143_Python/Final_Project/US_Car_Accident_Data_Analysis/.venv/lib/python3.11/site-packages/numpy/_core/_methods.py:53: RuntimeWarning: overflow encountered in reduce\n",
      "  return umr_sum(a, axis, dtype, out, keepdims, initial, where)\n",
      "/home/surya/Desktop/FA24/ECE143_Python/Final_Project/US_Car_Accident_Data_Analysis/.venv/lib/python3.11/site-packages/numpy/_core/_methods.py:53: RuntimeWarning: overflow encountered in reduce\n",
      "  return umr_sum(a, axis, dtype, out, keepdims, initial, where)\n",
      "/home/surya/Desktop/FA24/ECE143_Python/Final_Project/US_Car_Accident_Data_Analysis/.venv/lib/python3.11/site-packages/numpy/_core/_methods.py:53: RuntimeWarning: overflow encountered in reduce\n",
      "  return umr_sum(a, axis, dtype, out, keepdims, initial, where)\n",
      "/home/surya/Desktop/FA24/ECE143_Python/Final_Project/US_Car_Accident_Data_Analysis/.venv/lib/python3.11/site-packages/numpy/_core/_methods.py:53: RuntimeWarning: overflow encountered in reduce\n",
      "  return umr_sum(a, axis, dtype, out, keepdims, initial, where)\n",
      "/home/surya/Desktop/FA24/ECE143_Python/Final_Project/US_Car_Accident_Data_Analysis/.venv/lib/python3.11/site-packages/numpy/_core/_methods.py:53: RuntimeWarning: overflow encountered in reduce\n",
      "  return umr_sum(a, axis, dtype, out, keepdims, initial, where)\n",
      "/home/surya/Desktop/FA24/ECE143_Python/Final_Project/US_Car_Accident_Data_Analysis/.venv/lib/python3.11/site-packages/numpy/_core/_methods.py:53: RuntimeWarning: overflow encountered in reduce\n",
      "  return umr_sum(a, axis, dtype, out, keepdims, initial, where)\n",
      "/home/surya/Desktop/FA24/ECE143_Python/Final_Project/US_Car_Accident_Data_Analysis/.venv/lib/python3.11/site-packages/numpy/_core/_methods.py:53: RuntimeWarning: overflow encountered in reduce\n",
      "  return umr_sum(a, axis, dtype, out, keepdims, initial, where)\n",
      "/home/surya/Desktop/FA24/ECE143_Python/Final_Project/US_Car_Accident_Data_Analysis/.venv/lib/python3.11/site-packages/numpy/_core/_methods.py:53: RuntimeWarning: overflow encountered in reduce\n",
      "  return umr_sum(a, axis, dtype, out, keepdims, initial, where)\n",
      "/home/surya/Desktop/FA24/ECE143_Python/Final_Project/US_Car_Accident_Data_Analysis/.venv/lib/python3.11/site-packages/numpy/_core/_methods.py:53: RuntimeWarning: overflow encountered in reduce\n",
      "  return umr_sum(a, axis, dtype, out, keepdims, initial, where)\n",
      "/home/surya/Desktop/FA24/ECE143_Python/Final_Project/US_Car_Accident_Data_Analysis/.venv/lib/python3.11/site-packages/numpy/_core/_methods.py:53: RuntimeWarning: overflow encountered in reduce\n",
      "  return umr_sum(a, axis, dtype, out, keepdims, initial, where)\n",
      "/home/surya/Desktop/FA24/ECE143_Python/Final_Project/US_Car_Accident_Data_Analysis/.venv/lib/python3.11/site-packages/numpy/_core/_methods.py:53: RuntimeWarning: overflow encountered in reduce\n",
      "  return umr_sum(a, axis, dtype, out, keepdims, initial, where)\n",
      "/home/surya/Desktop/FA24/ECE143_Python/Final_Project/US_Car_Accident_Data_Analysis/.venv/lib/python3.11/site-packages/numpy/_core/_methods.py:53: RuntimeWarning: overflow encountered in reduce\n",
      "  return umr_sum(a, axis, dtype, out, keepdims, initial, where)\n",
      "/home/surya/Desktop/FA24/ECE143_Python/Final_Project/US_Car_Accident_Data_Analysis/.venv/lib/python3.11/site-packages/numpy/_core/_methods.py:53: RuntimeWarning: overflow encountered in reduce\n",
      "  return umr_sum(a, axis, dtype, out, keepdims, initial, where)\n",
      "/home/surya/Desktop/FA24/ECE143_Python/Final_Project/US_Car_Accident_Data_Analysis/.venv/lib/python3.11/site-packages/numpy/_core/_methods.py:53: RuntimeWarning: overflow encountered in reduce\n",
      "  return umr_sum(a, axis, dtype, out, keepdims, initial, where)\n",
      "/home/surya/Desktop/FA24/ECE143_Python/Final_Project/US_Car_Accident_Data_Analysis/.venv/lib/python3.11/site-packages/numpy/_core/_methods.py:53: RuntimeWarning: overflow encountered in reduce\n",
      "  return umr_sum(a, axis, dtype, out, keepdims, initial, where)\n",
      "/home/surya/Desktop/FA24/ECE143_Python/Final_Project/US_Car_Accident_Data_Analysis/.venv/lib/python3.11/site-packages/numpy/_core/_methods.py:53: RuntimeWarning: overflow encountered in reduce\n",
      "  return umr_sum(a, axis, dtype, out, keepdims, initial, where)\n",
      "/home/surya/Desktop/FA24/ECE143_Python/Final_Project/US_Car_Accident_Data_Analysis/.venv/lib/python3.11/site-packages/numpy/_core/_methods.py:53: RuntimeWarning: overflow encountered in reduce\n",
      "  return umr_sum(a, axis, dtype, out, keepdims, initial, where)\n",
      "/home/surya/Desktop/FA24/ECE143_Python/Final_Project/US_Car_Accident_Data_Analysis/.venv/lib/python3.11/site-packages/numpy/_core/_methods.py:53: RuntimeWarning: overflow encountered in reduce\n",
      "  return umr_sum(a, axis, dtype, out, keepdims, initial, where)\n",
      "/home/surya/Desktop/FA24/ECE143_Python/Final_Project/US_Car_Accident_Data_Analysis/.venv/lib/python3.11/site-packages/numpy/_core/_methods.py:53: RuntimeWarning: overflow encountered in reduce\n",
      "  return umr_sum(a, axis, dtype, out, keepdims, initial, where)\n",
      "/home/surya/Desktop/FA24/ECE143_Python/Final_Project/US_Car_Accident_Data_Analysis/.venv/lib/python3.11/site-packages/numpy/_core/_methods.py:53: RuntimeWarning: overflow encountered in reduce\n",
      "  return umr_sum(a, axis, dtype, out, keepdims, initial, where)\n",
      "/home/surya/Desktop/FA24/ECE143_Python/Final_Project/US_Car_Accident_Data_Analysis/.venv/lib/python3.11/site-packages/numpy/_core/_methods.py:53: RuntimeWarning: overflow encountered in reduce\n",
      "  return umr_sum(a, axis, dtype, out, keepdims, initial, where)\n",
      "/home/surya/Desktop/FA24/ECE143_Python/Final_Project/US_Car_Accident_Data_Analysis/.venv/lib/python3.11/site-packages/numpy/_core/_methods.py:53: RuntimeWarning: overflow encountered in reduce\n",
      "  return umr_sum(a, axis, dtype, out, keepdims, initial, where)\n",
      "/home/surya/Desktop/FA24/ECE143_Python/Final_Project/US_Car_Accident_Data_Analysis/.venv/lib/python3.11/site-packages/numpy/_core/_methods.py:53: RuntimeWarning: overflow encountered in reduce\n",
      "  return umr_sum(a, axis, dtype, out, keepdims, initial, where)\n",
      "/home/surya/Desktop/FA24/ECE143_Python/Final_Project/US_Car_Accident_Data_Analysis/.venv/lib/python3.11/site-packages/numpy/_core/_methods.py:53: RuntimeWarning: overflow encountered in reduce\n",
      "  return umr_sum(a, axis, dtype, out, keepdims, initial, where)\n",
      "/home/surya/Desktop/FA24/ECE143_Python/Final_Project/US_Car_Accident_Data_Analysis/.venv/lib/python3.11/site-packages/numpy/_core/_methods.py:53: RuntimeWarning: overflow encountered in reduce\n",
      "  return umr_sum(a, axis, dtype, out, keepdims, initial, where)\n",
      "/home/surya/Desktop/FA24/ECE143_Python/Final_Project/US_Car_Accident_Data_Analysis/.venv/lib/python3.11/site-packages/pandas/core/nanops.py:1487: RuntimeWarning: overflow encountered in cast\n",
      "  return dtype.type(n)\n",
      "/home/surya/Desktop/FA24/ECE143_Python/Final_Project/US_Car_Accident_Data_Analysis/.venv/lib/python3.11/site-packages/numpy/_core/_methods.py:53: RuntimeWarning: overflow encountered in reduce\n",
      "  return umr_sum(a, axis, dtype, out, keepdims, initial, where)\n",
      "/home/surya/Desktop/FA24/ECE143_Python/Final_Project/US_Car_Accident_Data_Analysis/.venv/lib/python3.11/site-packages/pandas/core/nanops.py:731: RuntimeWarning: invalid value encountered in scalar divide\n",
      "  the_mean = the_sum / count if count > 0 else np.nan\n",
      "/home/surya/Desktop/FA24/ECE143_Python/Final_Project/US_Car_Accident_Data_Analysis/.venv/lib/python3.11/site-packages/pandas/core/nanops.py:1487: RuntimeWarning: overflow encountered in cast\n",
      "  return dtype.type(n)\n",
      "/home/surya/Desktop/FA24/ECE143_Python/Final_Project/US_Car_Accident_Data_Analysis/.venv/lib/python3.11/site-packages/numpy/_core/_methods.py:53: RuntimeWarning: overflow encountered in reduce\n",
      "  return umr_sum(a, axis, dtype, out, keepdims, initial, where)\n",
      "/home/surya/Desktop/FA24/ECE143_Python/Final_Project/US_Car_Accident_Data_Analysis/.venv/lib/python3.11/site-packages/pandas/core/nanops.py:731: RuntimeWarning: invalid value encountered in scalar divide\n",
      "  the_mean = the_sum / count if count > 0 else np.nan\n",
      "/home/surya/Desktop/FA24/ECE143_Python/Final_Project/US_Car_Accident_Data_Analysis/.venv/lib/python3.11/site-packages/numpy/_core/_methods.py:53: RuntimeWarning: overflow encountered in reduce\n",
      "  return umr_sum(a, axis, dtype, out, keepdims, initial, where)\n",
      "/home/surya/Desktop/FA24/ECE143_Python/Final_Project/US_Car_Accident_Data_Analysis/.venv/lib/python3.11/site-packages/numpy/_core/_methods.py:53: RuntimeWarning: overflow encountered in reduce\n",
      "  return umr_sum(a, axis, dtype, out, keepdims, initial, where)\n",
      "/home/surya/Desktop/FA24/ECE143_Python/Final_Project/US_Car_Accident_Data_Analysis/.venv/lib/python3.11/site-packages/numpy/_core/_methods.py:53: RuntimeWarning: overflow encountered in reduce\n",
      "  return umr_sum(a, axis, dtype, out, keepdims, initial, where)\n",
      "/home/surya/Desktop/FA24/ECE143_Python/Final_Project/US_Car_Accident_Data_Analysis/.venv/lib/python3.11/site-packages/numpy/_core/_methods.py:53: RuntimeWarning: overflow encountered in reduce\n",
      "  return umr_sum(a, axis, dtype, out, keepdims, initial, where)\n",
      "/home/surya/Desktop/FA24/ECE143_Python/Final_Project/US_Car_Accident_Data_Analysis/.venv/lib/python3.11/site-packages/numpy/_core/_methods.py:53: RuntimeWarning: overflow encountered in reduce\n",
      "  return umr_sum(a, axis, dtype, out, keepdims, initial, where)\n",
      "/home/surya/Desktop/FA24/ECE143_Python/Final_Project/US_Car_Accident_Data_Analysis/.venv/lib/python3.11/site-packages/numpy/_core/_methods.py:53: RuntimeWarning: overflow encountered in reduce\n",
      "  return umr_sum(a, axis, dtype, out, keepdims, initial, where)\n",
      "/home/surya/Desktop/FA24/ECE143_Python/Final_Project/US_Car_Accident_Data_Analysis/.venv/lib/python3.11/site-packages/numpy/_core/_methods.py:53: RuntimeWarning: overflow encountered in reduce\n",
      "  return umr_sum(a, axis, dtype, out, keepdims, initial, where)\n",
      "/home/surya/Desktop/FA24/ECE143_Python/Final_Project/US_Car_Accident_Data_Analysis/.venv/lib/python3.11/site-packages/numpy/_core/_methods.py:53: RuntimeWarning: overflow encountered in reduce\n",
      "  return umr_sum(a, axis, dtype, out, keepdims, initial, where)\n",
      "/home/surya/Desktop/FA24/ECE143_Python/Final_Project/US_Car_Accident_Data_Analysis/.venv/lib/python3.11/site-packages/numpy/_core/_methods.py:53: RuntimeWarning: overflow encountered in reduce\n",
      "  return umr_sum(a, axis, dtype, out, keepdims, initial, where)\n",
      "/home/surya/Desktop/FA24/ECE143_Python/Final_Project/US_Car_Accident_Data_Analysis/.venv/lib/python3.11/site-packages/numpy/_core/_methods.py:53: RuntimeWarning: overflow encountered in reduce\n",
      "  return umr_sum(a, axis, dtype, out, keepdims, initial, where)\n",
      "/home/surya/Desktop/FA24/ECE143_Python/Final_Project/US_Car_Accident_Data_Analysis/.venv/lib/python3.11/site-packages/numpy/_core/_methods.py:53: RuntimeWarning: overflow encountered in reduce\n",
      "  return umr_sum(a, axis, dtype, out, keepdims, initial, where)\n",
      "/home/surya/Desktop/FA24/ECE143_Python/Final_Project/US_Car_Accident_Data_Analysis/.venv/lib/python3.11/site-packages/numpy/_core/_methods.py:53: RuntimeWarning: overflow encountered in reduce\n",
      "  return umr_sum(a, axis, dtype, out, keepdims, initial, where)\n",
      "/home/surya/Desktop/FA24/ECE143_Python/Final_Project/US_Car_Accident_Data_Analysis/.venv/lib/python3.11/site-packages/numpy/_core/_methods.py:53: RuntimeWarning: overflow encountered in reduce\n",
      "  return umr_sum(a, axis, dtype, out, keepdims, initial, where)\n",
      "/home/surya/Desktop/FA24/ECE143_Python/Final_Project/US_Car_Accident_Data_Analysis/.venv/lib/python3.11/site-packages/numpy/_core/_methods.py:53: RuntimeWarning: overflow encountered in reduce\n",
      "  return umr_sum(a, axis, dtype, out, keepdims, initial, where)\n",
      "/home/surya/Desktop/FA24/ECE143_Python/Final_Project/US_Car_Accident_Data_Analysis/.venv/lib/python3.11/site-packages/numpy/_core/_methods.py:53: RuntimeWarning: overflow encountered in reduce\n",
      "  return umr_sum(a, axis, dtype, out, keepdims, initial, where)\n",
      "/home/surya/Desktop/FA24/ECE143_Python/Final_Project/US_Car_Accident_Data_Analysis/.venv/lib/python3.11/site-packages/numpy/_core/_methods.py:53: RuntimeWarning: overflow encountered in reduce\n",
      "  return umr_sum(a, axis, dtype, out, keepdims, initial, where)\n",
      "/home/surya/Desktop/FA24/ECE143_Python/Final_Project/US_Car_Accident_Data_Analysis/.venv/lib/python3.11/site-packages/numpy/_core/_methods.py:53: RuntimeWarning: overflow encountered in reduce\n",
      "  return umr_sum(a, axis, dtype, out, keepdims, initial, where)\n",
      "/home/surya/Desktop/FA24/ECE143_Python/Final_Project/US_Car_Accident_Data_Analysis/.venv/lib/python3.11/site-packages/numpy/_core/_methods.py:53: RuntimeWarning: overflow encountered in reduce\n",
      "  return umr_sum(a, axis, dtype, out, keepdims, initial, where)\n",
      "/home/surya/Desktop/FA24/ECE143_Python/Final_Project/US_Car_Accident_Data_Analysis/.venv/lib/python3.11/site-packages/numpy/_core/_methods.py:53: RuntimeWarning: overflow encountered in reduce\n",
      "  return umr_sum(a, axis, dtype, out, keepdims, initial, where)\n",
      "/home/surya/Desktop/FA24/ECE143_Python/Final_Project/US_Car_Accident_Data_Analysis/.venv/lib/python3.11/site-packages/pandas/core/nanops.py:1487: RuntimeWarning: overflow encountered in cast\n",
      "  return dtype.type(n)\n",
      "/home/surya/Desktop/FA24/ECE143_Python/Final_Project/US_Car_Accident_Data_Analysis/.venv/lib/python3.11/site-packages/numpy/_core/_methods.py:53: RuntimeWarning: overflow encountered in reduce\n",
      "  return umr_sum(a, axis, dtype, out, keepdims, initial, where)\n",
      "/home/surya/Desktop/FA24/ECE143_Python/Final_Project/US_Car_Accident_Data_Analysis/.venv/lib/python3.11/site-packages/pandas/core/nanops.py:731: RuntimeWarning: invalid value encountered in scalar divide\n",
      "  the_mean = the_sum / count if count > 0 else np.nan\n",
      "/home/surya/Desktop/FA24/ECE143_Python/Final_Project/US_Car_Accident_Data_Analysis/.venv/lib/python3.11/site-packages/pandas/core/nanops.py:1487: RuntimeWarning: overflow encountered in cast\n",
      "  return dtype.type(n)\n",
      "/home/surya/Desktop/FA24/ECE143_Python/Final_Project/US_Car_Accident_Data_Analysis/.venv/lib/python3.11/site-packages/numpy/_core/_methods.py:53: RuntimeWarning: overflow encountered in reduce\n",
      "  return umr_sum(a, axis, dtype, out, keepdims, initial, where)\n",
      "/home/surya/Desktop/FA24/ECE143_Python/Final_Project/US_Car_Accident_Data_Analysis/.venv/lib/python3.11/site-packages/pandas/core/nanops.py:731: RuntimeWarning: invalid value encountered in scalar divide\n",
      "  the_mean = the_sum / count if count > 0 else np.nan\n",
      "/home/surya/Desktop/FA24/ECE143_Python/Final_Project/US_Car_Accident_Data_Analysis/.venv/lib/python3.11/site-packages/numpy/_core/_methods.py:53: RuntimeWarning: overflow encountered in reduce\n",
      "  return umr_sum(a, axis, dtype, out, keepdims, initial, where)\n",
      "/home/surya/Desktop/FA24/ECE143_Python/Final_Project/US_Car_Accident_Data_Analysis/.venv/lib/python3.11/site-packages/numpy/_core/_methods.py:53: RuntimeWarning: overflow encountered in reduce\n",
      "  return umr_sum(a, axis, dtype, out, keepdims, initial, where)\n",
      "/home/surya/Desktop/FA24/ECE143_Python/Final_Project/US_Car_Accident_Data_Analysis/.venv/lib/python3.11/site-packages/numpy/_core/_methods.py:53: RuntimeWarning: overflow encountered in reduce\n",
      "  return umr_sum(a, axis, dtype, out, keepdims, initial, where)\n",
      "/home/surya/Desktop/FA24/ECE143_Python/Final_Project/US_Car_Accident_Data_Analysis/.venv/lib/python3.11/site-packages/numpy/_core/_methods.py:53: RuntimeWarning: overflow encountered in reduce\n",
      "  return umr_sum(a, axis, dtype, out, keepdims, initial, where)\n",
      "/home/surya/Desktop/FA24/ECE143_Python/Final_Project/US_Car_Accident_Data_Analysis/.venv/lib/python3.11/site-packages/numpy/_core/_methods.py:53: RuntimeWarning: overflow encountered in reduce\n",
      "  return umr_sum(a, axis, dtype, out, keepdims, initial, where)\n",
      "/home/surya/Desktop/FA24/ECE143_Python/Final_Project/US_Car_Accident_Data_Analysis/.venv/lib/python3.11/site-packages/numpy/_core/_methods.py:53: RuntimeWarning: overflow encountered in reduce\n",
      "  return umr_sum(a, axis, dtype, out, keepdims, initial, where)\n",
      "/home/surya/Desktop/FA24/ECE143_Python/Final_Project/US_Car_Accident_Data_Analysis/.venv/lib/python3.11/site-packages/numpy/_core/_methods.py:53: RuntimeWarning: overflow encountered in reduce\n",
      "  return umr_sum(a, axis, dtype, out, keepdims, initial, where)\n",
      "/home/surya/Desktop/FA24/ECE143_Python/Final_Project/US_Car_Accident_Data_Analysis/.venv/lib/python3.11/site-packages/numpy/_core/_methods.py:53: RuntimeWarning: overflow encountered in reduce\n",
      "  return umr_sum(a, axis, dtype, out, keepdims, initial, where)\n",
      "/home/surya/Desktop/FA24/ECE143_Python/Final_Project/US_Car_Accident_Data_Analysis/.venv/lib/python3.11/site-packages/numpy/_core/_methods.py:53: RuntimeWarning: overflow encountered in reduce\n",
      "  return umr_sum(a, axis, dtype, out, keepdims, initial, where)\n",
      "/home/surya/Desktop/FA24/ECE143_Python/Final_Project/US_Car_Accident_Data_Analysis/.venv/lib/python3.11/site-packages/numpy/_core/_methods.py:53: RuntimeWarning: overflow encountered in reduce\n",
      "  return umr_sum(a, axis, dtype, out, keepdims, initial, where)\n",
      "/home/surya/Desktop/FA24/ECE143_Python/Final_Project/US_Car_Accident_Data_Analysis/.venv/lib/python3.11/site-packages/numpy/_core/_methods.py:53: RuntimeWarning: overflow encountered in reduce\n",
      "  return umr_sum(a, axis, dtype, out, keepdims, initial, where)\n",
      "/home/surya/Desktop/FA24/ECE143_Python/Final_Project/US_Car_Accident_Data_Analysis/.venv/lib/python3.11/site-packages/numpy/_core/_methods.py:53: RuntimeWarning: overflow encountered in reduce\n",
      "  return umr_sum(a, axis, dtype, out, keepdims, initial, where)\n",
      "/home/surya/Desktop/FA24/ECE143_Python/Final_Project/US_Car_Accident_Data_Analysis/.venv/lib/python3.11/site-packages/numpy/_core/_methods.py:53: RuntimeWarning: overflow encountered in reduce\n",
      "  return umr_sum(a, axis, dtype, out, keepdims, initial, where)\n",
      "/home/surya/Desktop/FA24/ECE143_Python/Final_Project/US_Car_Accident_Data_Analysis/.venv/lib/python3.11/site-packages/numpy/_core/_methods.py:53: RuntimeWarning: overflow encountered in reduce\n",
      "  return umr_sum(a, axis, dtype, out, keepdims, initial, where)\n",
      "/home/surya/Desktop/FA24/ECE143_Python/Final_Project/US_Car_Accident_Data_Analysis/.venv/lib/python3.11/site-packages/numpy/_core/_methods.py:53: RuntimeWarning: overflow encountered in reduce\n",
      "  return umr_sum(a, axis, dtype, out, keepdims, initial, where)\n",
      "/home/surya/Desktop/FA24/ECE143_Python/Final_Project/US_Car_Accident_Data_Analysis/.venv/lib/python3.11/site-packages/numpy/_core/_methods.py:53: RuntimeWarning: overflow encountered in reduce\n",
      "  return umr_sum(a, axis, dtype, out, keepdims, initial, where)\n",
      "/home/surya/Desktop/FA24/ECE143_Python/Final_Project/US_Car_Accident_Data_Analysis/.venv/lib/python3.11/site-packages/numpy/_core/_methods.py:53: RuntimeWarning: overflow encountered in reduce\n",
      "  return umr_sum(a, axis, dtype, out, keepdims, initial, where)\n",
      "/home/surya/Desktop/FA24/ECE143_Python/Final_Project/US_Car_Accident_Data_Analysis/.venv/lib/python3.11/site-packages/numpy/_core/_methods.py:53: RuntimeWarning: overflow encountered in reduce\n",
      "  return umr_sum(a, axis, dtype, out, keepdims, initial, where)\n",
      "/home/surya/Desktop/FA24/ECE143_Python/Final_Project/US_Car_Accident_Data_Analysis/.venv/lib/python3.11/site-packages/numpy/_core/_methods.py:53: RuntimeWarning: overflow encountered in reduce\n",
      "  return umr_sum(a, axis, dtype, out, keepdims, initial, where)\n",
      "/home/surya/Desktop/FA24/ECE143_Python/Final_Project/US_Car_Accident_Data_Analysis/.venv/lib/python3.11/site-packages/numpy/_core/_methods.py:53: RuntimeWarning: overflow encountered in reduce\n",
      "  return umr_sum(a, axis, dtype, out, keepdims, initial, where)\n",
      "/home/surya/Desktop/FA24/ECE143_Python/Final_Project/US_Car_Accident_Data_Analysis/.venv/lib/python3.11/site-packages/numpy/_core/_methods.py:53: RuntimeWarning: overflow encountered in reduce\n",
      "  return umr_sum(a, axis, dtype, out, keepdims, initial, where)\n",
      "/home/surya/Desktop/FA24/ECE143_Python/Final_Project/US_Car_Accident_Data_Analysis/.venv/lib/python3.11/site-packages/numpy/_core/_methods.py:53: RuntimeWarning: overflow encountered in reduce\n",
      "  return umr_sum(a, axis, dtype, out, keepdims, initial, where)\n",
      "/home/surya/Desktop/FA24/ECE143_Python/Final_Project/US_Car_Accident_Data_Analysis/.venv/lib/python3.11/site-packages/numpy/_core/_methods.py:53: RuntimeWarning: overflow encountered in reduce\n",
      "  return umr_sum(a, axis, dtype, out, keepdims, initial, where)\n",
      "/home/surya/Desktop/FA24/ECE143_Python/Final_Project/US_Car_Accident_Data_Analysis/.venv/lib/python3.11/site-packages/numpy/_core/_methods.py:53: RuntimeWarning: overflow encountered in reduce\n",
      "  return umr_sum(a, axis, dtype, out, keepdims, initial, where)\n",
      "/home/surya/Desktop/FA24/ECE143_Python/Final_Project/US_Car_Accident_Data_Analysis/.venv/lib/python3.11/site-packages/numpy/_core/_methods.py:53: RuntimeWarning: overflow encountered in reduce\n",
      "  return umr_sum(a, axis, dtype, out, keepdims, initial, where)\n",
      "/home/surya/Desktop/FA24/ECE143_Python/Final_Project/US_Car_Accident_Data_Analysis/.venv/lib/python3.11/site-packages/numpy/_core/_methods.py:53: RuntimeWarning: overflow encountered in reduce\n",
      "  return umr_sum(a, axis, dtype, out, keepdims, initial, where)\n",
      "/home/surya/Desktop/FA24/ECE143_Python/Final_Project/US_Car_Accident_Data_Analysis/.venv/lib/python3.11/site-packages/numpy/_core/_methods.py:53: RuntimeWarning: overflow encountered in reduce\n",
      "  return umr_sum(a, axis, dtype, out, keepdims, initial, where)\n",
      "/home/surya/Desktop/FA24/ECE143_Python/Final_Project/US_Car_Accident_Data_Analysis/.venv/lib/python3.11/site-packages/numpy/_core/_methods.py:53: RuntimeWarning: overflow encountered in reduce\n",
      "  return umr_sum(a, axis, dtype, out, keepdims, initial, where)\n",
      "/home/surya/Desktop/FA24/ECE143_Python/Final_Project/US_Car_Accident_Data_Analysis/.venv/lib/python3.11/site-packages/numpy/_core/_methods.py:53: RuntimeWarning: overflow encountered in reduce\n",
      "  return umr_sum(a, axis, dtype, out, keepdims, initial, where)\n",
      "/home/surya/Desktop/FA24/ECE143_Python/Final_Project/US_Car_Accident_Data_Analysis/.venv/lib/python3.11/site-packages/numpy/_core/_methods.py:53: RuntimeWarning: overflow encountered in reduce\n",
      "  return umr_sum(a, axis, dtype, out, keepdims, initial, where)\n",
      "/home/surya/Desktop/FA24/ECE143_Python/Final_Project/US_Car_Accident_Data_Analysis/.venv/lib/python3.11/site-packages/numpy/_core/_methods.py:53: RuntimeWarning: overflow encountered in reduce\n",
      "  return umr_sum(a, axis, dtype, out, keepdims, initial, where)\n",
      "/home/surya/Desktop/FA24/ECE143_Python/Final_Project/US_Car_Accident_Data_Analysis/.venv/lib/python3.11/site-packages/numpy/_core/_methods.py:53: RuntimeWarning: overflow encountered in reduce\n",
      "  return umr_sum(a, axis, dtype, out, keepdims, initial, where)\n",
      "/home/surya/Desktop/FA24/ECE143_Python/Final_Project/US_Car_Accident_Data_Analysis/.venv/lib/python3.11/site-packages/numpy/_core/_methods.py:53: RuntimeWarning: overflow encountered in reduce\n",
      "  return umr_sum(a, axis, dtype, out, keepdims, initial, where)\n",
      "/home/surya/Desktop/FA24/ECE143_Python/Final_Project/US_Car_Accident_Data_Analysis/.venv/lib/python3.11/site-packages/numpy/_core/_methods.py:53: RuntimeWarning: overflow encountered in reduce\n",
      "  return umr_sum(a, axis, dtype, out, keepdims, initial, where)\n",
      "/home/surya/Desktop/FA24/ECE143_Python/Final_Project/US_Car_Accident_Data_Analysis/.venv/lib/python3.11/site-packages/numpy/_core/_methods.py:53: RuntimeWarning: overflow encountered in reduce\n",
      "  return umr_sum(a, axis, dtype, out, keepdims, initial, where)\n",
      "/home/surya/Desktop/FA24/ECE143_Python/Final_Project/US_Car_Accident_Data_Analysis/.venv/lib/python3.11/site-packages/numpy/_core/_methods.py:53: RuntimeWarning: overflow encountered in reduce\n",
      "  return umr_sum(a, axis, dtype, out, keepdims, initial, where)\n",
      "/home/surya/Desktop/FA24/ECE143_Python/Final_Project/US_Car_Accident_Data_Analysis/.venv/lib/python3.11/site-packages/numpy/_core/_methods.py:53: RuntimeWarning: overflow encountered in reduce\n",
      "  return umr_sum(a, axis, dtype, out, keepdims, initial, where)\n",
      "/home/surya/Desktop/FA24/ECE143_Python/Final_Project/US_Car_Accident_Data_Analysis/.venv/lib/python3.11/site-packages/numpy/_core/_methods.py:53: RuntimeWarning: overflow encountered in reduce\n",
      "  return umr_sum(a, axis, dtype, out, keepdims, initial, where)\n",
      "/home/surya/Desktop/FA24/ECE143_Python/Final_Project/US_Car_Accident_Data_Analysis/.venv/lib/python3.11/site-packages/numpy/_core/_methods.py:53: RuntimeWarning: overflow encountered in reduce\n",
      "  return umr_sum(a, axis, dtype, out, keepdims, initial, where)\n",
      "/home/surya/Desktop/FA24/ECE143_Python/Final_Project/US_Car_Accident_Data_Analysis/.venv/lib/python3.11/site-packages/numpy/_core/_methods.py:53: RuntimeWarning: overflow encountered in reduce\n",
      "  return umr_sum(a, axis, dtype, out, keepdims, initial, where)\n",
      "/home/surya/Desktop/FA24/ECE143_Python/Final_Project/US_Car_Accident_Data_Analysis/.venv/lib/python3.11/site-packages/numpy/_core/_methods.py:53: RuntimeWarning: overflow encountered in reduce\n",
      "  return umr_sum(a, axis, dtype, out, keepdims, initial, where)\n",
      "/home/surya/Desktop/FA24/ECE143_Python/Final_Project/US_Car_Accident_Data_Analysis/.venv/lib/python3.11/site-packages/numpy/_core/_methods.py:53: RuntimeWarning: overflow encountered in reduce\n",
      "  return umr_sum(a, axis, dtype, out, keepdims, initial, where)\n",
      "/home/surya/Desktop/FA24/ECE143_Python/Final_Project/US_Car_Accident_Data_Analysis/.venv/lib/python3.11/site-packages/numpy/_core/_methods.py:53: RuntimeWarning: overflow encountered in reduce\n",
      "  return umr_sum(a, axis, dtype, out, keepdims, initial, where)\n",
      "/home/surya/Desktop/FA24/ECE143_Python/Final_Project/US_Car_Accident_Data_Analysis/.venv/lib/python3.11/site-packages/numpy/_core/_methods.py:53: RuntimeWarning: overflow encountered in reduce\n",
      "  return umr_sum(a, axis, dtype, out, keepdims, initial, where)\n",
      "/home/surya/Desktop/FA24/ECE143_Python/Final_Project/US_Car_Accident_Data_Analysis/.venv/lib/python3.11/site-packages/numpy/_core/_methods.py:53: RuntimeWarning: overflow encountered in reduce\n",
      "  return umr_sum(a, axis, dtype, out, keepdims, initial, where)\n",
      "/home/surya/Desktop/FA24/ECE143_Python/Final_Project/US_Car_Accident_Data_Analysis/.venv/lib/python3.11/site-packages/numpy/_core/_methods.py:53: RuntimeWarning: overflow encountered in reduce\n",
      "  return umr_sum(a, axis, dtype, out, keepdims, initial, where)\n",
      "/home/surya/Desktop/FA24/ECE143_Python/Final_Project/US_Car_Accident_Data_Analysis/.venv/lib/python3.11/site-packages/numpy/_core/_methods.py:53: RuntimeWarning: overflow encountered in reduce\n",
      "  return umr_sum(a, axis, dtype, out, keepdims, initial, where)\n",
      "/home/surya/Desktop/FA24/ECE143_Python/Final_Project/US_Car_Accident_Data_Analysis/.venv/lib/python3.11/site-packages/numpy/_core/_methods.py:53: RuntimeWarning: overflow encountered in reduce\n",
      "  return umr_sum(a, axis, dtype, out, keepdims, initial, where)\n",
      "/home/surya/Desktop/FA24/ECE143_Python/Final_Project/US_Car_Accident_Data_Analysis/.venv/lib/python3.11/site-packages/numpy/_core/_methods.py:53: RuntimeWarning: overflow encountered in reduce\n",
      "  return umr_sum(a, axis, dtype, out, keepdims, initial, where)\n",
      "/home/surya/Desktop/FA24/ECE143_Python/Final_Project/US_Car_Accident_Data_Analysis/.venv/lib/python3.11/site-packages/pandas/core/nanops.py:1487: RuntimeWarning: overflow encountered in cast\n",
      "  return dtype.type(n)\n",
      "/home/surya/Desktop/FA24/ECE143_Python/Final_Project/US_Car_Accident_Data_Analysis/.venv/lib/python3.11/site-packages/numpy/_core/_methods.py:53: RuntimeWarning: overflow encountered in reduce\n",
      "  return umr_sum(a, axis, dtype, out, keepdims, initial, where)\n",
      "/home/surya/Desktop/FA24/ECE143_Python/Final_Project/US_Car_Accident_Data_Analysis/.venv/lib/python3.11/site-packages/pandas/core/nanops.py:731: RuntimeWarning: invalid value encountered in scalar divide\n",
      "  the_mean = the_sum / count if count > 0 else np.nan\n",
      "/home/surya/Desktop/FA24/ECE143_Python/Final_Project/US_Car_Accident_Data_Analysis/.venv/lib/python3.11/site-packages/pandas/core/nanops.py:1487: RuntimeWarning: overflow encountered in cast\n",
      "  return dtype.type(n)\n",
      "/home/surya/Desktop/FA24/ECE143_Python/Final_Project/US_Car_Accident_Data_Analysis/.venv/lib/python3.11/site-packages/numpy/_core/_methods.py:53: RuntimeWarning: overflow encountered in reduce\n",
      "  return umr_sum(a, axis, dtype, out, keepdims, initial, where)\n",
      "/home/surya/Desktop/FA24/ECE143_Python/Final_Project/US_Car_Accident_Data_Analysis/.venv/lib/python3.11/site-packages/pandas/core/nanops.py:731: RuntimeWarning: invalid value encountered in scalar divide\n",
      "  the_mean = the_sum / count if count > 0 else np.nan\n",
      "/home/surya/Desktop/FA24/ECE143_Python/Final_Project/US_Car_Accident_Data_Analysis/.venv/lib/python3.11/site-packages/numpy/_core/_methods.py:53: RuntimeWarning: overflow encountered in reduce\n",
      "  return umr_sum(a, axis, dtype, out, keepdims, initial, where)\n",
      "/home/surya/Desktop/FA24/ECE143_Python/Final_Project/US_Car_Accident_Data_Analysis/.venv/lib/python3.11/site-packages/numpy/_core/_methods.py:53: RuntimeWarning: overflow encountered in reduce\n",
      "  return umr_sum(a, axis, dtype, out, keepdims, initial, where)\n",
      "/home/surya/Desktop/FA24/ECE143_Python/Final_Project/US_Car_Accident_Data_Analysis/.venv/lib/python3.11/site-packages/numpy/_core/_methods.py:53: RuntimeWarning: overflow encountered in reduce\n",
      "  return umr_sum(a, axis, dtype, out, keepdims, initial, where)\n",
      "/home/surya/Desktop/FA24/ECE143_Python/Final_Project/US_Car_Accident_Data_Analysis/.venv/lib/python3.11/site-packages/numpy/_core/_methods.py:53: RuntimeWarning: overflow encountered in reduce\n",
      "  return umr_sum(a, axis, dtype, out, keepdims, initial, where)\n",
      "/home/surya/Desktop/FA24/ECE143_Python/Final_Project/US_Car_Accident_Data_Analysis/.venv/lib/python3.11/site-packages/numpy/_core/_methods.py:53: RuntimeWarning: overflow encountered in reduce\n",
      "  return umr_sum(a, axis, dtype, out, keepdims, initial, where)\n",
      "/home/surya/Desktop/FA24/ECE143_Python/Final_Project/US_Car_Accident_Data_Analysis/.venv/lib/python3.11/site-packages/numpy/_core/_methods.py:53: RuntimeWarning: overflow encountered in reduce\n",
      "  return umr_sum(a, axis, dtype, out, keepdims, initial, where)\n",
      "/home/surya/Desktop/FA24/ECE143_Python/Final_Project/US_Car_Accident_Data_Analysis/.venv/lib/python3.11/site-packages/numpy/_core/_methods.py:53: RuntimeWarning: overflow encountered in reduce\n",
      "  return umr_sum(a, axis, dtype, out, keepdims, initial, where)\n",
      "/home/surya/Desktop/FA24/ECE143_Python/Final_Project/US_Car_Accident_Data_Analysis/.venv/lib/python3.11/site-packages/numpy/_core/_methods.py:53: RuntimeWarning: overflow encountered in reduce\n",
      "  return umr_sum(a, axis, dtype, out, keepdims, initial, where)\n",
      "/home/surya/Desktop/FA24/ECE143_Python/Final_Project/US_Car_Accident_Data_Analysis/.venv/lib/python3.11/site-packages/numpy/_core/_methods.py:53: RuntimeWarning: overflow encountered in reduce\n",
      "  return umr_sum(a, axis, dtype, out, keepdims, initial, where)\n",
      "/home/surya/Desktop/FA24/ECE143_Python/Final_Project/US_Car_Accident_Data_Analysis/.venv/lib/python3.11/site-packages/numpy/_core/_methods.py:53: RuntimeWarning: overflow encountered in reduce\n",
      "  return umr_sum(a, axis, dtype, out, keepdims, initial, where)\n",
      "/home/surya/Desktop/FA24/ECE143_Python/Final_Project/US_Car_Accident_Data_Analysis/.venv/lib/python3.11/site-packages/numpy/_core/_methods.py:53: RuntimeWarning: overflow encountered in reduce\n",
      "  return umr_sum(a, axis, dtype, out, keepdims, initial, where)\n",
      "/home/surya/Desktop/FA24/ECE143_Python/Final_Project/US_Car_Accident_Data_Analysis/.venv/lib/python3.11/site-packages/numpy/_core/_methods.py:53: RuntimeWarning: overflow encountered in reduce\n",
      "  return umr_sum(a, axis, dtype, out, keepdims, initial, where)\n"
     ]
    },
    {
     "data": {
      "text/html": [
       "<div>\n",
       "<style scoped>\n",
       "    .dataframe tbody tr th:only-of-type {\n",
       "        vertical-align: middle;\n",
       "    }\n",
       "\n",
       "    .dataframe tbody tr th {\n",
       "        vertical-align: top;\n",
       "    }\n",
       "\n",
       "    .dataframe thead tr th {\n",
       "        text-align: left;\n",
       "    }\n",
       "\n",
       "    .dataframe thead tr:last-of-type th {\n",
       "        text-align: right;\n",
       "    }\n",
       "</style>\n",
       "<table border=\"1\" class=\"dataframe\">\n",
       "  <thead>\n",
       "    <tr>\n",
       "      <th></th>\n",
       "      <th colspan=\"8\" halign=\"left\">Severity</th>\n",
       "      <th colspan=\"5\" halign=\"left\">Start_Lat</th>\n",
       "      <th colspan=\"8\" halign=\"left\">Start_Lng</th>\n",
       "    </tr>\n",
       "    <tr>\n",
       "      <th></th>\n",
       "      <th>count</th>\n",
       "      <th>mean</th>\n",
       "      <th>std</th>\n",
       "      <th>min</th>\n",
       "      <th>25%</th>\n",
       "      <th>50%</th>\n",
       "      <th>75%</th>\n",
       "      <th>max</th>\n",
       "      <th>count</th>\n",
       "      <th>mean</th>\n",
       "      <th>...</th>\n",
       "      <th>75%</th>\n",
       "      <th>max</th>\n",
       "      <th>count</th>\n",
       "      <th>mean</th>\n",
       "      <th>std</th>\n",
       "      <th>min</th>\n",
       "      <th>25%</th>\n",
       "      <th>50%</th>\n",
       "      <th>75%</th>\n",
       "      <th>max</th>\n",
       "    </tr>\n",
       "    <tr>\n",
       "      <th>Freeway</th>\n",
       "      <th></th>\n",
       "      <th></th>\n",
       "      <th></th>\n",
       "      <th></th>\n",
       "      <th></th>\n",
       "      <th></th>\n",
       "      <th></th>\n",
       "      <th></th>\n",
       "      <th></th>\n",
       "      <th></th>\n",
       "      <th></th>\n",
       "      <th></th>\n",
       "      <th></th>\n",
       "      <th></th>\n",
       "      <th></th>\n",
       "      <th></th>\n",
       "      <th></th>\n",
       "      <th></th>\n",
       "      <th></th>\n",
       "      <th></th>\n",
       "      <th></th>\n",
       "    </tr>\n",
       "  </thead>\n",
       "  <tbody>\n",
       "    <tr>\n",
       "      <th>I-+63</th>\n",
       "      <td>1.0</td>\n",
       "      <td>2.000000</td>\n",
       "      <td>NaN</td>\n",
       "      <td>2.0</td>\n",
       "      <td>2.0</td>\n",
       "      <td>2.0</td>\n",
       "      <td>2.0</td>\n",
       "      <td>2.0</td>\n",
       "      <td>1.0</td>\n",
       "      <td>32.90625</td>\n",
       "      <td>...</td>\n",
       "      <td>32.906250</td>\n",
       "      <td>32.90625</td>\n",
       "      <td>1.0</td>\n",
       "      <td>-96.7500</td>\n",
       "      <td>NaN</td>\n",
       "      <td>-96.7500</td>\n",
       "      <td>-96.7500</td>\n",
       "      <td>-96.75000</td>\n",
       "      <td>-96.7500</td>\n",
       "      <td>-96.7500</td>\n",
       "    </tr>\n",
       "    <tr>\n",
       "      <th>I---O</th>\n",
       "      <td>2.0</td>\n",
       "      <td>2.000000</td>\n",
       "      <td>0.000000</td>\n",
       "      <td>2.0</td>\n",
       "      <td>2.0</td>\n",
       "      <td>2.0</td>\n",
       "      <td>2.0</td>\n",
       "      <td>2.0</td>\n",
       "      <td>2.0</td>\n",
       "      <td>33.81250</td>\n",
       "      <td>...</td>\n",
       "      <td>33.812500</td>\n",
       "      <td>33.81250</td>\n",
       "      <td>2.0</td>\n",
       "      <td>-118.3125</td>\n",
       "      <td>0.000000</td>\n",
       "      <td>-118.3125</td>\n",
       "      <td>-118.3125</td>\n",
       "      <td>-118.31250</td>\n",
       "      <td>-118.3125</td>\n",
       "      <td>-118.3125</td>\n",
       "    </tr>\n",
       "    <tr>\n",
       "      <th>I--10</th>\n",
       "      <td>1.0</td>\n",
       "      <td>2.000000</td>\n",
       "      <td>NaN</td>\n",
       "      <td>2.0</td>\n",
       "      <td>2.0</td>\n",
       "      <td>2.0</td>\n",
       "      <td>2.0</td>\n",
       "      <td>2.0</td>\n",
       "      <td>1.0</td>\n",
       "      <td>34.00000</td>\n",
       "      <td>...</td>\n",
       "      <td>34.000000</td>\n",
       "      <td>34.00000</td>\n",
       "      <td>1.0</td>\n",
       "      <td>-117.7500</td>\n",
       "      <td>NaN</td>\n",
       "      <td>-117.7500</td>\n",
       "      <td>-117.7500</td>\n",
       "      <td>-117.75000</td>\n",
       "      <td>-117.7500</td>\n",
       "      <td>-117.7500</td>\n",
       "    </tr>\n",
       "    <tr>\n",
       "      <th>I--27</th>\n",
       "      <td>1.0</td>\n",
       "      <td>2.000000</td>\n",
       "      <td>NaN</td>\n",
       "      <td>2.0</td>\n",
       "      <td>2.0</td>\n",
       "      <td>2.0</td>\n",
       "      <td>2.0</td>\n",
       "      <td>2.0</td>\n",
       "      <td>1.0</td>\n",
       "      <td>35.21875</td>\n",
       "      <td>...</td>\n",
       "      <td>35.218750</td>\n",
       "      <td>35.21875</td>\n",
       "      <td>1.0</td>\n",
       "      <td>-80.8750</td>\n",
       "      <td>NaN</td>\n",
       "      <td>-80.8750</td>\n",
       "      <td>-80.8750</td>\n",
       "      <td>-80.87500</td>\n",
       "      <td>-80.8750</td>\n",
       "      <td>-80.8750</td>\n",
       "    </tr>\n",
       "    <tr>\n",
       "      <th>I--88</th>\n",
       "      <td>2.0</td>\n",
       "      <td>1.000000</td>\n",
       "      <td>0.000000</td>\n",
       "      <td>1.0</td>\n",
       "      <td>1.0</td>\n",
       "      <td>1.0</td>\n",
       "      <td>1.0</td>\n",
       "      <td>1.0</td>\n",
       "      <td>2.0</td>\n",
       "      <td>37.65625</td>\n",
       "      <td>...</td>\n",
       "      <td>37.656250</td>\n",
       "      <td>37.65625</td>\n",
       "      <td>2.0</td>\n",
       "      <td>-122.0625</td>\n",
       "      <td>0.000000</td>\n",
       "      <td>-122.0625</td>\n",
       "      <td>-122.0625</td>\n",
       "      <td>-122.06250</td>\n",
       "      <td>-122.0625</td>\n",
       "      <td>-122.0625</td>\n",
       "    </tr>\n",
       "    <tr>\n",
       "      <th>...</th>\n",
       "      <td>...</td>\n",
       "      <td>...</td>\n",
       "      <td>...</td>\n",
       "      <td>...</td>\n",
       "      <td>...</td>\n",
       "      <td>...</td>\n",
       "      <td>...</td>\n",
       "      <td>...</td>\n",
       "      <td>...</td>\n",
       "      <td>...</td>\n",
       "      <td>...</td>\n",
       "      <td>...</td>\n",
       "      <td>...</td>\n",
       "      <td>...</td>\n",
       "      <td>...</td>\n",
       "      <td>...</td>\n",
       "      <td>...</td>\n",
       "      <td>...</td>\n",
       "      <td>...</td>\n",
       "      <td>...</td>\n",
       "      <td>...</td>\n",
       "    </tr>\n",
       "    <tr>\n",
       "      <th>I-TRU</th>\n",
       "      <td>8.0</td>\n",
       "      <td>2.000000</td>\n",
       "      <td>0.000000</td>\n",
       "      <td>2.0</td>\n",
       "      <td>2.0</td>\n",
       "      <td>2.0</td>\n",
       "      <td>2.0</td>\n",
       "      <td>2.0</td>\n",
       "      <td>8.0</td>\n",
       "      <td>45.68750</td>\n",
       "      <td>...</td>\n",
       "      <td>45.718750</td>\n",
       "      <td>45.71875</td>\n",
       "      <td>8.0</td>\n",
       "      <td>-109.5000</td>\n",
       "      <td>0.074707</td>\n",
       "      <td>-109.6250</td>\n",
       "      <td>-109.5625</td>\n",
       "      <td>-109.46875</td>\n",
       "      <td>-109.4375</td>\n",
       "      <td>-109.4375</td>\n",
       "    </tr>\n",
       "    <tr>\n",
       "      <th>I-VEH</th>\n",
       "      <td>17.0</td>\n",
       "      <td>2.117647</td>\n",
       "      <td>0.485071</td>\n",
       "      <td>2.0</td>\n",
       "      <td>2.0</td>\n",
       "      <td>2.0</td>\n",
       "      <td>2.0</td>\n",
       "      <td>4.0</td>\n",
       "      <td>17.0</td>\n",
       "      <td>42.84375</td>\n",
       "      <td>...</td>\n",
       "      <td>45.656250</td>\n",
       "      <td>45.84375</td>\n",
       "      <td>17.0</td>\n",
       "      <td>-101.3125</td>\n",
       "      <td>13.140625</td>\n",
       "      <td>-111.3125</td>\n",
       "      <td>-110.6250</td>\n",
       "      <td>-106.50000</td>\n",
       "      <td>-85.6875</td>\n",
       "      <td>-80.8750</td>\n",
       "    </tr>\n",
       "    <tr>\n",
       "      <th>I-WB</th>\n",
       "      <td>2.0</td>\n",
       "      <td>2.000000</td>\n",
       "      <td>0.000000</td>\n",
       "      <td>2.0</td>\n",
       "      <td>2.0</td>\n",
       "      <td>2.0</td>\n",
       "      <td>2.0</td>\n",
       "      <td>2.0</td>\n",
       "      <td>2.0</td>\n",
       "      <td>34.09375</td>\n",
       "      <td>...</td>\n",
       "      <td>34.109375</td>\n",
       "      <td>34.12500</td>\n",
       "      <td>2.0</td>\n",
       "      <td>-117.8750</td>\n",
       "      <td>0.000000</td>\n",
       "      <td>-117.8750</td>\n",
       "      <td>-117.8750</td>\n",
       "      <td>-117.87500</td>\n",
       "      <td>-117.8750</td>\n",
       "      <td>-117.8750</td>\n",
       "    </tr>\n",
       "    <tr>\n",
       "      <th>I-XC</th>\n",
       "      <td>1.0</td>\n",
       "      <td>2.000000</td>\n",
       "      <td>NaN</td>\n",
       "      <td>2.0</td>\n",
       "      <td>2.0</td>\n",
       "      <td>2.0</td>\n",
       "      <td>2.0</td>\n",
       "      <td>2.0</td>\n",
       "      <td>1.0</td>\n",
       "      <td>41.40625</td>\n",
       "      <td>...</td>\n",
       "      <td>41.406250</td>\n",
       "      <td>41.40625</td>\n",
       "      <td>1.0</td>\n",
       "      <td>-81.8750</td>\n",
       "      <td>NaN</td>\n",
       "      <td>-81.8750</td>\n",
       "      <td>-81.8750</td>\n",
       "      <td>-81.87500</td>\n",
       "      <td>-81.8750</td>\n",
       "      <td>-81.8750</td>\n",
       "    </tr>\n",
       "    <tr>\n",
       "      <th>I-ZAN</th>\n",
       "      <td>1.0</td>\n",
       "      <td>2.000000</td>\n",
       "      <td>NaN</td>\n",
       "      <td>2.0</td>\n",
       "      <td>2.0</td>\n",
       "      <td>2.0</td>\n",
       "      <td>2.0</td>\n",
       "      <td>2.0</td>\n",
       "      <td>1.0</td>\n",
       "      <td>39.71875</td>\n",
       "      <td>...</td>\n",
       "      <td>39.718750</td>\n",
       "      <td>39.71875</td>\n",
       "      <td>1.0</td>\n",
       "      <td>-82.6250</td>\n",
       "      <td>NaN</td>\n",
       "      <td>-82.6250</td>\n",
       "      <td>-82.6250</td>\n",
       "      <td>-82.62500</td>\n",
       "      <td>-82.6250</td>\n",
       "      <td>-82.6250</td>\n",
       "    </tr>\n",
       "  </tbody>\n",
       "</table>\n",
       "<p>839 rows × 24 columns</p>\n",
       "</div>"
      ],
      "text/plain": [
       "        Severity                                              Start_Lat  \\\n",
       "           count      mean       std  min  25%  50%  75%  max     count   \n",
       "Freeway                                                                   \n",
       "I-+63        1.0  2.000000       NaN  2.0  2.0  2.0  2.0  2.0       1.0   \n",
       "I---O        2.0  2.000000  0.000000  2.0  2.0  2.0  2.0  2.0       2.0   \n",
       "I--10        1.0  2.000000       NaN  2.0  2.0  2.0  2.0  2.0       1.0   \n",
       "I--27        1.0  2.000000       NaN  2.0  2.0  2.0  2.0  2.0       1.0   \n",
       "I--88        2.0  1.000000  0.000000  1.0  1.0  1.0  1.0  1.0       2.0   \n",
       "...          ...       ...       ...  ...  ...  ...  ...  ...       ...   \n",
       "I-TRU        8.0  2.000000  0.000000  2.0  2.0  2.0  2.0  2.0       8.0   \n",
       "I-VEH       17.0  2.117647  0.485071  2.0  2.0  2.0  2.0  4.0      17.0   \n",
       "I-WB         2.0  2.000000  0.000000  2.0  2.0  2.0  2.0  2.0       2.0   \n",
       "I-XC         1.0  2.000000       NaN  2.0  2.0  2.0  2.0  2.0       1.0   \n",
       "I-ZAN        1.0  2.000000       NaN  2.0  2.0  2.0  2.0  2.0       1.0   \n",
       "\n",
       "                   ...                      Start_Lng                       \\\n",
       "             mean  ...        75%       max     count      mean        std   \n",
       "Freeway            ...                                                       \n",
       "I-+63    32.90625  ...  32.906250  32.90625       1.0  -96.7500        NaN   \n",
       "I---O    33.81250  ...  33.812500  33.81250       2.0 -118.3125   0.000000   \n",
       "I--10    34.00000  ...  34.000000  34.00000       1.0 -117.7500        NaN   \n",
       "I--27    35.21875  ...  35.218750  35.21875       1.0  -80.8750        NaN   \n",
       "I--88    37.65625  ...  37.656250  37.65625       2.0 -122.0625   0.000000   \n",
       "...           ...  ...        ...       ...       ...       ...        ...   \n",
       "I-TRU    45.68750  ...  45.718750  45.71875       8.0 -109.5000   0.074707   \n",
       "I-VEH    42.84375  ...  45.656250  45.84375      17.0 -101.3125  13.140625   \n",
       "I-WB     34.09375  ...  34.109375  34.12500       2.0 -117.8750   0.000000   \n",
       "I-XC     41.40625  ...  41.406250  41.40625       1.0  -81.8750        NaN   \n",
       "I-ZAN    39.71875  ...  39.718750  39.71875       1.0  -82.6250        NaN   \n",
       "\n",
       "                                                            \n",
       "              min       25%        50%       75%       max  \n",
       "Freeway                                                     \n",
       "I-+63    -96.7500  -96.7500  -96.75000  -96.7500  -96.7500  \n",
       "I---O   -118.3125 -118.3125 -118.31250 -118.3125 -118.3125  \n",
       "I--10   -117.7500 -117.7500 -117.75000 -117.7500 -117.7500  \n",
       "I--27    -80.8750  -80.8750  -80.87500  -80.8750  -80.8750  \n",
       "I--88   -122.0625 -122.0625 -122.06250 -122.0625 -122.0625  \n",
       "...           ...       ...        ...       ...       ...  \n",
       "I-TRU   -109.6250 -109.5625 -109.46875 -109.4375 -109.4375  \n",
       "I-VEH   -111.3125 -110.6250 -106.50000  -85.6875  -80.8750  \n",
       "I-WB    -117.8750 -117.8750 -117.87500 -117.8750 -117.8750  \n",
       "I-XC     -81.8750  -81.8750  -81.87500  -81.8750  -81.8750  \n",
       "I-ZAN    -82.6250  -82.6250  -82.62500  -82.6250  -82.6250  \n",
       "\n",
       "[839 rows x 24 columns]"
      ]
     },
     "execution_count": 14,
     "metadata": {},
     "output_type": "execute_result"
    }
   ],
   "source": [
    "grp_freeway = df_freeway.groupby(['Freeway'])\n",
    "grp_freeway.describe()\n"
   ]
  },
  {
   "cell_type": "code",
   "execution_count": 15,
   "id": "1e47aa94",
   "metadata": {},
   "outputs": [
    {
     "name": "stdout",
     "output_type": "stream",
     "text": [
      "   Freeway   Count  Percentage\n",
      "0     I-95  240867    8.658217\n",
      "1     I-10  151029    5.428896\n",
      "2     I-05  130676    4.697286\n",
      "3     I-75  107184    3.852841\n",
      "4     I-80   95978    3.450030\n",
      "5     I-15   72164    2.594011\n",
      "6    I-405   70677    2.540559\n",
      "7     I-94   63062    2.266830\n",
      "8     I-85   61687    2.217404\n",
      "9     I-20   57271    2.058666\n",
      "10    I-90   56576    2.033684\n",
      "11    I-40   54518    1.959707\n",
      "12    I-35   52437    1.884903\n",
      "13   I-495   46285    1.663763\n",
      "14    I-70   45707    1.642986\n",
      "15    I-64   42160    1.515485\n",
      "16    I-65   38960    1.400458\n",
      "17    I-84   33376    1.199735\n",
      "18    I-26   33131    1.190929\n",
      "19    I-81   32535    1.169505\n",
      "20   I-295   31693    1.139238\n",
      "21    I-87   31563    1.134565\n",
      "22   I-880   29606    1.064219\n",
      "23   I-215   29399    1.056778\n",
      "24   I-580   28330    1.018352\n"
     ]
    }
   ],
   "source": [
    "counts = df_freeway.value_counts(['Freeway']).reset_index(name='Count')\n",
    "total_count = counts['Count'].sum()\n",
    "counts['Percentage'] = (counts['Count'] / total_count) * 100\n",
    "sorted_counts = counts.sort_values(by='Count', ascending=False)\n",
    "\n",
    "print(sorted_counts[:25])\n"
   ]
  },
  {
   "cell_type": "code",
   "execution_count": 16,
   "id": "23eb7b33",
   "metadata": {},
   "outputs": [],
   "source": [
    "import geopandas as gpd\n",
    "import cartopy.crs as ccrs\n",
    "import cartopy.feature as cfeature\n",
    "import matplotlib.cm as cm\n",
    "import matplotlib.colors as mcolors\n",
    "\n",
    "def freeway_maps(gdf_list, color_list):\n",
    "\n",
    "    # Create a new plot with Cartopy\n",
    "    plt.figure(figsize=(15, 10))\n",
    "    ax = plt.axes(projection=ccrs.PlateCarree())\n",
    "\n",
    "    # Add natural features like coastlines and borders\n",
    "    ax.add_feature(cfeature.COASTLINE)\n",
    "    ax.add_feature(cfeature.BORDERS, linestyle=':')\n",
    "\n",
    "    for gdf, color in zip(gdf_list, color_list):\n",
    "        gdf.plot(ax=ax, color=color, alpha=0.5, markersize=1, transform=ccrs.PlateCarree())\n",
    "\n",
    "\n",
    "    plt.title(\"Top 5 Haunted Freeways\")\n",
    "    plt.tight_layout()\n",
    "    plt.show()"
   ]
  },
  {
   "cell_type": "code",
   "execution_count": 17,
   "id": "2ec1afc2",
   "metadata": {},
   "outputs": [
    {
     "data": {
      "image/png": "[encoded data removed]",
      "text/plain": [
       "<Figure size 1500x1000 with 1 Axes>"
      ]
     },
     "metadata": {},
     "output_type": "display_data"
    }
   ],
   "source": [
    "no_of_freeway_plots = 5\n",
    "\n",
    "gfd_list = []\n",
    "red_to_green = mcolors.LinearSegmentedColormap.from_list(\"RedGreen\", [\"red\", \"green\"])\n",
    "color_list = [red_to_green(i / (no_of_freeway_plots - 1)) for i in range(no_of_freeway_plots)]\n",
    "\n",
    "for i in range(no_of_freeway_plots):\n",
    "    assert i < 20\n",
    "    df_temp = df_freeway[df_freeway['Freeway'] == sorted_counts.iloc[i, 0]]\n",
    "    gfd = gpd.GeoDataFrame(df_temp, geometry=gpd.points_from_xy(df_temp['Start_Lng'], df_temp['Start_Lat']))\n",
    "    gfd_list.append(gfd)\n",
    "\n",
    "freeway_maps(gfd_list, color_list)"
   ]
  },
  {
   "cell_type": "code",
   "execution_count": 18,
   "id": "e28a0d47",
   "metadata": {},
   "outputs": [
    {
     "data": {
      "image/png": "[encoded data removed]",
      "text/plain": [
       "<Figure size 640x480 with 1 Axes>"
      ]
     },
     "metadata": {},
     "output_type": "display_data"
    }
   ],
   "source": [
    "top_20_freeway = sorted_counts[:20]\n",
    "\n",
    "\n",
    "top_20_freeway.plot(kind='bar', x='Freeway', y='Percentage', legend=False)\n",
    "\n",
    "# Customize the plot\n",
    "plt.title(\"Freeway vs % of Total Accidents\")\n",
    "plt.xlabel(\"Freeway\")\n",
    "plt.ylabel(\"% of Total Accidents\")\n",
    "plt.show()"
   ]
  },
  {
   "cell_type": "code",
   "execution_count": 19,
   "id": "285c3de4",
   "metadata": {},
   "outputs": [],
   "source": [
    "def state_data(df):\n",
    "    state_cols = ['Severity', 'State']\n",
    "    df = df[state_cols]\n",
    "    return df\n",
    "\n",
    "df_state = state_data(df)"
   ]
  },
  {
   "cell_type": "code",
   "execution_count": 20,
   "id": "2b8b98fa",
   "metadata": {},
   "outputs": [
    {
     "data": {
      "application/vnd.plotly.v1+json": {
       "config": {
        "plotlyServerURL": "https://plot.ly"
       },
       "data": [
        {
         "alignmentgroup": "True",
         "hovertemplate": "Severity=2<br>State=%{x}<br>Counts=%{y}<extra></extra>",
         "legendgroup": "2",
         "marker": {
          "color": "#636efa",
          "pattern": {
           "shape": ""
          }
         },
         "name": "2",
         "offsetgroup": "2",
         "orientation": "v",
         "showlegend": true,
         "textposition": "auto",
         "type": "bar",
         "x": [
          "CA",
          "FL",
          "TX",
          "SC",
          "NY",
          "NC",
          "VA",
          "PA",
          "MN",
          "OR",
          "AZ",
          "GA",
          "IL",
          "TN",
          "MI",
          "LA",
          "NJ",
          "MD",
          "OH",
          "WA",
          "AL",
          "UT",
          "CO",
          "OK",
          "MO",
          "CT",
          "IN",
          "MA",
          "WI",
          "KY",
          "NE",
          "MT",
          "IA",
          "AR",
          "NV",
          "KS",
          "DC",
          "RI",
          "MS",
          "DE",
          "WV",
          "ID",
          "NM",
          "NH",
          "WY",
          "ND",
          "ME",
          "VT",
          "SD"
         ],
         "xaxis": "x",
         "y": [
          1445833,
          755895,
          450952,
          330817,
          265902,
          293066,
          230660,
          247991,
          160848,
          162713,
          140553,
          94206,
          105273,
          133054,
          113020,
          127647,
          113315,
          103558,
          79373,
          73339,
          76993,
          79801,
          56105,
          75059,
          48766,
          50392,
          45415,
          41326,
          21530,
          18255,
          24047,
          27894,
          17226,
          19239,
          17127,
          14837,
          16489,
          8935,
          10739,
          11596,
          12444,
          10604,
          6750,
          7818,
          3028,
          3455,
          2259,
          616,
          221
         ],
         "yaxis": "y"
        },
        {
         "alignmentgroup": "True",
         "hovertemplate": "Severity=4<br>State=%{x}<br>Counts=%{y}<extra></extra>",
         "legendgroup": "4",
         "marker": {
          "color": "#EF553B",
          "pattern": {
           "shape": ""
          }
         },
         "name": "4",
         "offsetgroup": "4",
         "orientation": "v",
         "showlegend": true,
         "textposition": "auto",
         "type": "bar",
         "x": [
          "CA",
          "FL",
          "TX",
          "SC",
          "NY",
          "NC",
          "VA",
          "PA",
          "MN",
          "OR",
          "AZ",
          "GA",
          "IL",
          "TN",
          "MI",
          "LA",
          "NJ",
          "MD",
          "OH",
          "WA",
          "AL",
          "UT",
          "CO",
          "OK",
          "MO",
          "CT",
          "IN",
          "MA",
          "WI",
          "KY",
          "NE",
          "MT",
          "IA",
          "AR",
          "NV",
          "KS",
          "DC",
          "RI",
          "MS",
          "DE",
          "WV",
          "ID",
          "NM",
          "NH",
          "WY",
          "ND",
          "ME",
          "VT",
          "SD"
         ],
         "xaxis": "x",
         "y": [
          13502,
          13149,
          7209,
          3095,
          10749,
          10404,
          18202,
          15867,
          863,
          5894,
          5116,
          12776,
          4317,
          3489,
          7635,
          1945,
          5887,
          10892,
          6447,
          4091,
          1828,
          1646,
          7504,
          485,
          2882,
          4172,
          5605,
          547,
          3462,
          1232,
          579,
          459,
          2069,
          2827,
          720,
          800,
          821,
          119,
          843,
          1552,
          823,
          546,
          573,
          254,
          547,
          17,
          119,
          90,
          60
         ],
         "yaxis": "y"
        },
        {
         "alignmentgroup": "True",
         "hovertemplate": "Severity=3<br>State=%{x}<br>Counts=%{y}<extra></extra>",
         "legendgroup": "3",
         "marker": {
          "color": "#00cc96",
          "pattern": {
           "shape": ""
          }
         },
         "name": "3",
         "offsetgroup": "3",
         "orientation": "v",
         "showlegend": true,
         "textposition": "auto",
         "type": "bar",
         "x": [
          "CA",
          "FL",
          "TX",
          "SC",
          "NY",
          "NC",
          "VA",
          "PA",
          "MN",
          "OR",
          "AZ",
          "GA",
          "IL",
          "TN",
          "MI",
          "LA",
          "NJ",
          "MD",
          "OH",
          "WA",
          "AL",
          "UT",
          "CO",
          "OK",
          "MO",
          "CT",
          "IN",
          "MA",
          "WI",
          "KY",
          "NE",
          "MT",
          "IA",
          "AR",
          "NV",
          "KS",
          "DC",
          "RI",
          "MS",
          "DE",
          "WV",
          "ID",
          "NM",
          "NH",
          "WY",
          "ND",
          "ME",
          "VT",
          "SD"
         ],
         "xaxis": "x",
         "y": [
          271814,
          104065,
          120443,
          42470,
          70062,
          29590,
          51324,
          31031,
          29884,
          9730,
          17551,
          61245,
          57748,
          28510,
          40488,
          17575,
          21318,
          25450,
          30589,
          29926,
          21542,
          15000,
          26306,
          6800,
          25405,
          16369,
          15877,
          18623,
          9606,
          12476,
          4151,
          143,
          6954,
          677,
          3690,
          5321,
          1177,
          7728,
          3570,
          715,
          524,
          225,
          2849,
          2059,
          182,
          14,
          316,
          217,
          8
         ],
         "yaxis": "y"
        },
        {
         "alignmentgroup": "True",
         "hovertemplate": "Severity=1<br>State=%{x}<br>Counts=%{y}<extra></extra>",
         "legendgroup": "1",
         "marker": {
          "color": "#ab63fa",
          "pattern": {
           "shape": ""
          }
         },
         "name": "1",
         "offsetgroup": "1",
         "orientation": "v",
         "showlegend": true,
         "textposition": "auto",
         "type": "bar",
         "x": [
          "CA",
          "FL",
          "TX",
          "SC",
          "NY",
          "NC",
          "VA",
          "PA",
          "MN",
          "OR",
          "AZ",
          "GA",
          "IL",
          "TN",
          "MI",
          "LA",
          "NJ",
          "MD",
          "OH",
          "WA",
          "AL",
          "UT",
          "CO",
          "OK",
          "MO",
          "CT",
          "IN",
          "MA",
          "WI",
          "KY",
          "NE",
          "IA",
          "AR",
          "NV",
          "KS",
          "DC",
          "RI",
          "MS",
          "DE",
          "WV",
          "ID",
          "NM",
          "NH",
          "ND",
          "ME",
          "VT"
         ],
         "xaxis": "x",
         "y": [
          10284,
          7083,
          4233,
          6175,
          1247,
          5139,
          3115,
          1731,
          489,
          1323,
          7389,
          1007,
          1620,
          2335,
          1048,
          2534,
          199,
          517,
          1706,
          865,
          681,
          632,
          970,
          1303,
          270,
          72,
          327,
          1500,
          90,
          291,
          93,
          58,
          37,
          128,
          34,
          143,
          189,
          29,
          234,
          2,
          1,
          153,
          82,
          1,
          4,
          3
         ],
         "yaxis": "y"
        }
       ],
       "layout": {
        "barmode": "relative",
        "legend": {
         "title": {
          "text": "Severity"
         },
         "tracegroupgap": 0
        },
        "template": {
         "data": {
          "bar": [
           {
            "error_x": {
             "color": "#2a3f5f"
            },
            "error_y": {
             "color": "#2a3f5f"
            },
            "marker": {
             "line": {
              "color": "#E5ECF6",
              "width": 0.5
             },
             "pattern": {
              "fillmode": "overlay",
              "size": 10,
              "solidity": 0.2
             }
            },
            "type": "bar"
           }
          ],
          "barpolar": [
           {
            "marker": {
             "line": {
              "color": "#E5ECF6",
              "width": 0.5
             },
             "pattern": {
              "fillmode": "overlay",
              "size": 10,
              "solidity": 0.2
             }
            },
            "type": "barpolar"
           }
          ],
          "carpet": [
           {
            "aaxis": {
             "endlinecolor": "#2a3f5f",
             "gridcolor": "white",
             "linecolor": "white",
             "minorgridcolor": "white",
             "startlinecolor": "#2a3f5f"
            },
            "baxis": {
             "endlinecolor": "#2a3f5f",
             "gridcolor": "white",
             "linecolor": "white",
             "minorgridcolor": "white",
             "startlinecolor": "#2a3f5f"
            },
            "type": "carpet"
           }
          ],
          "choropleth": [
           {
            "colorbar": {
             "outlinewidth": 0,
             "ticks": ""
            },
            "type": "choropleth"
           }
          ],
          "contour": [
           {
            "colorbar": {
             "outlinewidth": 0,
             "ticks": ""
            },
            "colorscale": [
             [
              0,
              "#0d0887"
             ],
             [
              0.1111111111111111,
              "#46039f"
             ],
             [
              0.2222222222222222,
              "#7201a8"
             ],
             [
              0.3333333333333333,
              "#9c179e"
             ],
             [
              0.4444444444444444,
              "#bd3786"
             ],
             [
              0.5555555555555556,
              "#d8576b"
             ],
             [
              0.6666666666666666,
              "#ed7953"
             ],
             [
              0.7777777777777778,
              "#fb9f3a"
             ],
             [
              0.8888888888888888,
              "#fdca26"
             ],
             [
              1,
              "#f0f921"
             ]
            ],
            "type": "contour"
           }
          ],
          "contourcarpet": [
           {
            "colorbar": {
             "outlinewidth": 0,
             "ticks": ""
            },
            "type": "contourcarpet"
           }
          ],
          "heatmap": [
           {
            "colorbar": {
             "outlinewidth": 0,
             "ticks": ""
            },
            "colorscale": [
             [
              0,
              "#0d0887"
             ],
             [
              0.1111111111111111,
              "#46039f"
             ],
             [
              0.2222222222222222,
              "#7201a8"
             ],
             [
              0.3333333333333333,
              "#9c179e"
             ],
             [
              0.4444444444444444,
              "#bd3786"
             ],
             [
              0.5555555555555556,
              "#d8576b"
             ],
             [
              0.6666666666666666,
              "#ed7953"
             ],
             [
              0.7777777777777778,
              "#fb9f3a"
             ],
             [
              0.8888888888888888,
              "#fdca26"
             ],
             [
              1,
              "#f0f921"
             ]
            ],
            "type": "heatmap"
           }
          ],
          "heatmapgl": [
           {
            "colorbar": {
             "outlinewidth": 0,
             "ticks": ""
            },
            "colorscale": [
             [
              0,
              "#0d0887"
             ],
             [
              0.1111111111111111,
              "#46039f"
             ],
             [
              0.2222222222222222,
              "#7201a8"
             ],
             [
              0.3333333333333333,
              "#9c179e"
             ],
             [
              0.4444444444444444,
              "#bd3786"
             ],
             [
              0.5555555555555556,
              "#d8576b"
             ],
             [
              0.6666666666666666,
              "#ed7953"
             ],
             [
              0.7777777777777778,
              "#fb9f3a"
             ],
             [
              0.8888888888888888,
              "#fdca26"
             ],
             [
              1,
              "#f0f921"
             ]
            ],
            "type": "heatmapgl"
           }
          ],
          "histogram": [
           {
            "marker": {
             "pattern": {
              "fillmode": "overlay",
              "size": 10,
              "solidity": 0.2
             }
            },
            "type": "histogram"
           }
          ],
          "histogram2d": [
           {
            "colorbar": {
             "outlinewidth": 0,
             "ticks": ""
            },
            "colorscale": [
             [
              0,
              "#0d0887"
             ],
             [
              0.1111111111111111,
              "#46039f"
             ],
             [
              0.2222222222222222,
              "#7201a8"
             ],
             [
              0.3333333333333333,
              "#9c179e"
             ],
             [
              0.4444444444444444,
              "#bd3786"
             ],
             [
              0.5555555555555556,
              "#d8576b"
             ],
             [
              0.6666666666666666,
              "#ed7953"
             ],
             [
              0.7777777777777778,
              "#fb9f3a"
             ],
             [
              0.8888888888888888,
              "#fdca26"
             ],
             [
              1,
              "#f0f921"
             ]
            ],
            "type": "histogram2d"
           }
          ],
          "histogram2dcontour": [
           {
            "colorbar": {
             "outlinewidth": 0,
             "ticks": ""
            },
            "colorscale": [
             [
              0,
              "#0d0887"
             ],
             [
              0.1111111111111111,
              "#46039f"
             ],
             [
              0.2222222222222222,
              "#7201a8"
             ],
             [
              0.3333333333333333,
              "#9c179e"
             ],
             [
              0.4444444444444444,
              "#bd3786"
             ],
             [
              0.5555555555555556,
              "#d8576b"
             ],
             [
              0.6666666666666666,
              "#ed7953"
             ],
             [
              0.7777777777777778,
              "#fb9f3a"
             ],
             [
              0.8888888888888888,
              "#fdca26"
             ],
             [
              1,
              "#f0f921"
             ]
            ],
            "type": "histogram2dcontour"
           }
          ],
          "mesh3d": [
           {
            "colorbar": {
             "outlinewidth": 0,
             "ticks": ""
            },
            "type": "mesh3d"
           }
          ],
          "parcoords": [
           {
            "line": {
             "colorbar": {
              "outlinewidth": 0,
              "ticks": ""
             }
            },
            "type": "parcoords"
           }
          ],
          "pie": [
           {
            "automargin": true,
            "type": "pie"
           }
          ],
          "scatter": [
           {
            "fillpattern": {
             "fillmode": "overlay",
             "size": 10,
             "solidity": 0.2
            },
            "type": "scatter"
           }
          ],
          "scatter3d": [
           {
            "line": {
             "colorbar": {
              "outlinewidth": 0,
              "ticks": ""
             }
            },
            "marker": {
             "colorbar": {
              "outlinewidth": 0,
              "ticks": ""
             }
            },
            "type": "scatter3d"
           }
          ],
          "scattercarpet": [
           {
            "marker": {
             "colorbar": {
              "outlinewidth": 0,
              "ticks": ""
             }
            },
            "type": "scattercarpet"
           }
          ],
          "scattergeo": [
           {
            "marker": {
             "colorbar": {
              "outlinewidth": 0,
              "ticks": ""
             }
            },
            "type": "scattergeo"
           }
          ],
          "scattergl": [
           {
            "marker": {
             "colorbar": {
              "outlinewidth": 0,
              "ticks": ""
             }
            },
            "type": "scattergl"
           }
          ],
          "scattermapbox": [
           {
            "marker": {
             "colorbar": {
              "outlinewidth": 0,
              "ticks": ""
             }
            },
            "type": "scattermapbox"
           }
          ],
          "scatterpolar": [
           {
            "marker": {
             "colorbar": {
              "outlinewidth": 0,
              "ticks": ""
             }
            },
            "type": "scatterpolar"
           }
          ],
          "scatterpolargl": [
           {
            "marker": {
             "colorbar": {
              "outlinewidth": 0,
              "ticks": ""
             }
            },
            "type": "scatterpolargl"
           }
          ],
          "scatterternary": [
           {
            "marker": {
             "colorbar": {
              "outlinewidth": 0,
              "ticks": ""
             }
            },
            "type": "scatterternary"
           }
          ],
          "surface": [
           {
            "colorbar": {
             "outlinewidth": 0,
             "ticks": ""
            },
            "colorscale": [
             [
              0,
              "#0d0887"
             ],
             [
              0.1111111111111111,
              "#46039f"
             ],
             [
              0.2222222222222222,
              "#7201a8"
             ],
             [
              0.3333333333333333,
              "#9c179e"
             ],
             [
              0.4444444444444444,
              "#bd3786"
             ],
             [
              0.5555555555555556,
              "#d8576b"
             ],
             [
              0.6666666666666666,
              "#ed7953"
             ],
             [
              0.7777777777777778,
              "#fb9f3a"
             ],
             [
              0.8888888888888888,
              "#fdca26"
             ],
             [
              1,
              "#f0f921"
             ]
            ],
            "type": "surface"
           }
          ],
          "table": [
           {
            "cells": {
             "fill": {
              "color": "#EBF0F8"
             },
             "line": {
              "color": "white"
             }
            },
            "header": {
             "fill": {
              "color": "#C8D4E3"
             },
             "line": {
              "color": "white"
             }
            },
            "type": "table"
           }
          ]
         },
         "layout": {
          "annotationdefaults": {
           "arrowcolor": "#2a3f5f",
           "arrowhead": 0,
           "arrowwidth": 1
          },
          "autotypenumbers": "strict",
          "coloraxis": {
           "colorbar": {
            "outlinewidth": 0,
            "ticks": ""
           }
          },
          "colorscale": {
           "diverging": [
            [
             0,
             "#8e0152"
            ],
            [
             0.1,
             "#c51b7d"
            ],
            [
             0.2,
             "#de77ae"
            ],
            [
             0.3,
             "#f1b6da"
            ],
            [
             0.4,
             "#fde0ef"
            ],
            [
             0.5,
             "#f7f7f7"
            ],
            [
             0.6,
             "#e6f5d0"
            ],
            [
             0.7,
             "#b8e186"
            ],
            [
             0.8,
             "#7fbc41"
            ],
            [
             0.9,
             "#4d9221"
            ],
            [
             1,
             "#276419"
            ]
           ],
           "sequential": [
            [
             0,
             "#0d0887"
            ],
            [
             0.1111111111111111,
             "#46039f"
            ],
            [
             0.2222222222222222,
             "#7201a8"
            ],
            [
             0.3333333333333333,
             "#9c179e"
            ],
            [
             0.4444444444444444,
             "#bd3786"
            ],
            [
             0.5555555555555556,
             "#d8576b"
            ],
            [
             0.6666666666666666,
             "#ed7953"
            ],
            [
             0.7777777777777778,
             "#fb9f3a"
            ],
            [
             0.8888888888888888,
             "#fdca26"
            ],
            [
             1,
             "#f0f921"
            ]
           ],
           "sequentialminus": [
            [
             0,
             "#0d0887"
            ],
            [
             0.1111111111111111,
             "#46039f"
            ],
            [
             0.2222222222222222,
             "#7201a8"
            ],
            [
             0.3333333333333333,
             "#9c179e"
            ],
            [
             0.4444444444444444,
             "#bd3786"
            ],
            [
             0.5555555555555556,
             "#d8576b"
            ],
            [
             0.6666666666666666,
             "#ed7953"
            ],
            [
             0.7777777777777778,
             "#fb9f3a"
            ],
            [
             0.8888888888888888,
             "#fdca26"
            ],
            [
             1,
             "#f0f921"
            ]
           ]
          },
          "colorway": [
           "#636efa",
           "#EF553B",
           "#00cc96",
           "#ab63fa",
           "#FFA15A",
           "#19d3f3",
           "#FF6692",
           "#B6E880",
           "#FF97FF",
           "#FECB52"
          ],
          "font": {
           "color": "#2a3f5f"
          },
          "geo": {
           "bgcolor": "white",
           "lakecolor": "white",
           "landcolor": "#E5ECF6",
           "showlakes": true,
           "showland": true,
           "subunitcolor": "white"
          },
          "hoverlabel": {
           "align": "left"
          },
          "hovermode": "closest",
          "mapbox": {
           "style": "light"
          },
          "paper_bgcolor": "white",
          "plot_bgcolor": "#E5ECF6",
          "polar": {
           "angularaxis": {
            "gridcolor": "white",
            "linecolor": "white",
            "ticks": ""
           },
           "bgcolor": "#E5ECF6",
           "radialaxis": {
            "gridcolor": "white",
            "linecolor": "white",
            "ticks": ""
           }
          },
          "scene": {
           "xaxis": {
            "backgroundcolor": "#E5ECF6",
            "gridcolor": "white",
            "gridwidth": 2,
            "linecolor": "white",
            "showbackground": true,
            "ticks": "",
            "zerolinecolor": "white"
           },
           "yaxis": {
            "backgroundcolor": "#E5ECF6",
            "gridcolor": "white",
            "gridwidth": 2,
            "linecolor": "white",
            "showbackground": true,
            "ticks": "",
            "zerolinecolor": "white"
           },
           "zaxis": {
            "backgroundcolor": "#E5ECF6",
            "gridcolor": "white",
            "gridwidth": 2,
            "linecolor": "white",
            "showbackground": true,
            "ticks": "",
            "zerolinecolor": "white"
           }
          },
          "shapedefaults": {
           "line": {
            "color": "#2a3f5f"
           }
          },
          "ternary": {
           "aaxis": {
            "gridcolor": "white",
            "linecolor": "white",
            "ticks": ""
           },
           "baxis": {
            "gridcolor": "white",
            "linecolor": "white",
            "ticks": ""
           },
           "bgcolor": "#E5ECF6",
           "caxis": {
            "gridcolor": "white",
            "linecolor": "white",
            "ticks": ""
           }
          },
          "title": {
           "x": 0.05
          },
          "xaxis": {
           "automargin": true,
           "gridcolor": "white",
           "linecolor": "white",
           "ticks": "",
           "title": {
            "standoff": 15
           },
           "zerolinecolor": "white",
           "zerolinewidth": 2
          },
          "yaxis": {
           "automargin": true,
           "gridcolor": "white",
           "linecolor": "white",
           "ticks": "",
           "title": {
            "standoff": 15
           },
           "zerolinecolor": "white",
           "zerolinewidth": 2
          }
         }
        },
        "title": {
         "text": "Number of Accidents per Severity for Each State"
        },
        "xaxis": {
         "anchor": "y",
         "domain": [
          0,
          1
         ],
         "tickangle": -45,
         "title": {
          "text": "State"
         }
        },
        "yaxis": {
         "anchor": "x",
         "domain": [
          0,
          1
         ],
         "title": {
          "text": "Accident Count"
         }
        }
       }
      }
     },
     "metadata": {},
     "output_type": "display_data"
    }
   ],
   "source": [
    "import plotly.express as px\n",
    "severity_counts = df_state.groupby(['State', 'Severity']).size().reset_index(name='Counts')\n",
    "\n",
    "# Group by State to get total accidents (for sorting purposes)\n",
    "total_accidents = severity_counts.groupby('State')['Counts'].sum().reset_index()\n",
    "total_accidents = total_accidents.sort_values(by='Counts', ascending=False)\n",
    "\n",
    "# Merge severity_counts with total_accidents to ensure the same order\n",
    "severity_counts = severity_counts.merge(total_accidents, on='State', suffixes=('', '_Total'))\n",
    "\n",
    "# Sort severity_counts by the total accident counts for consistent ordering\n",
    "severity_counts = severity_counts.sort_values(by='Counts_Total', ascending=False)\n",
    "\n",
    "# Define Severity as a categorical variable to ensure color ordering\n",
    "severity_order = severity_counts.groupby('Severity')['Counts'].sum().sort_values(ascending=False).index.tolist()\n",
    "severity_counts['Severity'] = pd.Categorical(severity_counts['Severity'], categories=severity_order, ordered=True)\n",
    "\n",
    "# Plot the original accident counts (Unnormalized)\n",
    "fig = px.bar(\n",
    "    severity_counts, \n",
    "    x='State', \n",
    "    y='Counts', \n",
    "    color='Severity', \n",
    "    title='Number of Accidents per Severity for Each State', \n",
    "    color_continuous_scale='Viridis'\n",
    ")\n",
    "fig.update_layout(xaxis_title='State', yaxis_title='Accident Count', xaxis_tickangle=-45)\n",
    "fig.show()"
   ]
  },
  {
   "cell_type": "code",
   "execution_count": 21,
   "id": "789474f1",
   "metadata": {},
   "outputs": [],
   "source": [
    "state_population = {\n",
    "    'AL': 5024279, 'AK': 733391, 'AZ': 7151502, 'AR': 3011524, 'CA': 39538223,\n",
    "    'CO': 5773714, 'CT': 3605944, 'DE': 989948, 'FL': 21538187, 'GA': 10711908,\n",
    "    'HI': 1455271, 'ID': 1839106, 'IL': 12812508, 'IN': 6785528, 'IA': 3190369,\n",
    "    'KS': 2937880, 'KY': 4505836, 'LA': 4657757, 'ME': 1362359, 'MD': 6177224,\n",
    "    'MA': 7029917, 'MI': 10077331, 'MN': 5706494, 'MS': 2961279, 'MO': 6154913,\n",
    "    'MT': 1084225, 'NE': 1961504, 'NV': 3104614, 'NH': 1377529, 'NJ': 9288994,\n",
    "    'NM': 2117522, 'NY': 20201249, 'NC': 10439388, 'ND': 779094, 'OH': 11799448,\n",
    "    'OK': 3959353, 'OR': 4237256, 'PA': 13002700, 'RI': 1097379, 'SC': 5118425,\n",
    "    'SD': 886667, 'TN': 6910840, 'TX': 29145505, 'UT': 3271616, 'VT': 643077,\n",
    "    'VA': 8631393, 'WA': 7705281, 'WV': 1793716, 'WI': 5893718, 'WY': 576851,\n",
    "    'DC': 689545\n",
    "}"
   ]
  },
  {
   "cell_type": "code",
   "execution_count": 22,
   "id": "32a99ffc",
   "metadata": {},
   "outputs": [
    {
     "data": {
      "text/html": [
       "<div>\n",
       "<style scoped>\n",
       "    .dataframe tbody tr th:only-of-type {\n",
       "        vertical-align: middle;\n",
       "    }\n",
       "\n",
       "    .dataframe tbody tr th {\n",
       "        vertical-align: top;\n",
       "    }\n",
       "\n",
       "    .dataframe thead th {\n",
       "        text-align: right;\n",
       "    }\n",
       "</style>\n",
       "<table border=\"1\" class=\"dataframe\">\n",
       "  <thead>\n",
       "    <tr style=\"text-align: right;\">\n",
       "      <th></th>\n",
       "      <th>State</th>\n",
       "      <th>Severity</th>\n",
       "      <th>Counts</th>\n",
       "      <th>Counts_Total</th>\n",
       "      <th>Population</th>\n",
       "      <th>Normalized_Count</th>\n",
       "    </tr>\n",
       "  </thead>\n",
       "  <tbody>\n",
       "    <tr>\n",
       "      <th>151</th>\n",
       "      <td>SC</td>\n",
       "      <td>1</td>\n",
       "      <td>6175</td>\n",
       "      <td>382557</td>\n",
       "      <td>5118425</td>\n",
       "      <td>7474.115573</td>\n",
       "    </tr>\n",
       "    <tr>\n",
       "      <th>153</th>\n",
       "      <td>SC</td>\n",
       "      <td>3</td>\n",
       "      <td>42470</td>\n",
       "      <td>382557</td>\n",
       "      <td>5118425</td>\n",
       "      <td>7474.115573</td>\n",
       "    </tr>\n",
       "    <tr>\n",
       "      <th>154</th>\n",
       "      <td>SC</td>\n",
       "      <td>4</td>\n",
       "      <td>3095</td>\n",
       "      <td>382557</td>\n",
       "      <td>5118425</td>\n",
       "      <td>7474.115573</td>\n",
       "    </tr>\n",
       "    <tr>\n",
       "      <th>152</th>\n",
       "      <td>SC</td>\n",
       "      <td>2</td>\n",
       "      <td>330817</td>\n",
       "      <td>382557</td>\n",
       "      <td>5118425</td>\n",
       "      <td>7474.115573</td>\n",
       "    </tr>\n",
       "  </tbody>\n",
       "</table>\n",
       "</div>"
      ],
      "text/plain": [
       "    State Severity  Counts  Counts_Total  Population  Normalized_Count\n",
       "151    SC        1    6175        382557     5118425       7474.115573\n",
       "153    SC        3   42470        382557     5118425       7474.115573\n",
       "154    SC        4    3095        382557     5118425       7474.115573\n",
       "152    SC        2  330817        382557     5118425       7474.115573"
      ]
     },
     "execution_count": 22,
     "metadata": {},
     "output_type": "execute_result"
    }
   ],
   "source": [
    "severity_counts['Population'] = severity_counts['State'].map(state_population)\n",
    "severity_counts['Normalized_Count'] = (severity_counts['Counts_Total'] / severity_counts['Population']) * 100000\n",
    "\n",
    "severity_counts[severity_counts['State'] == 'SC']"
   ]
  },
  {
   "cell_type": "code",
   "execution_count": 27,
   "id": "f63646a4",
   "metadata": {},
   "outputs": [
    {
     "data": {
      "application/vnd.plotly.v1+json": {
       "config": {
        "plotlyServerURL": "https://plot.ly"
       },
       "data": [
        {
         "alignmentgroup": "True",
         "hovertemplate": "Severity=2<br>State=%{x}<br>Counts=%{y}<extra></extra>",
         "legendgroup": "2",
         "marker": {
          "color": "#636efa",
          "pattern": {
           "shape": ""
          }
         },
         "name": "2",
         "offsetgroup": "2",
         "orientation": "v",
         "showlegend": true,
         "textposition": "auto",
         "type": "bar",
         "x": [
          "CA",
          "FL",
          "TX",
          "SC",
          "NY",
          "NC",
          "VA",
          "PA",
          "MN",
          "OR",
          "AZ",
          "GA",
          "IL",
          "TN",
          "MI",
          "LA",
          "NJ",
          "MD",
          "OH",
          "WA",
          "AL",
          "UT",
          "CO",
          "OK",
          "MO",
          "CT",
          "IN",
          "MA",
          "WI",
          "KY",
          "NE",
          "MT",
          "IA",
          "AR",
          "NV",
          "KS",
          "DC",
          "RI",
          "MS",
          "DE",
          "WV",
          "ID",
          "NM",
          "NH",
          "WY",
          "ND",
          "ME",
          "VT",
          "SD"
         ],
         "xaxis": "x",
         "y": [
          1445833,
          755895,
          450952,
          330817,
          265902,
          293066,
          230660,
          247991,
          160848,
          162713,
          140553,
          94206,
          105273,
          133054,
          113020,
          127647,
          113315,
          103558,
          79373,
          73339,
          76993,
          79801,
          56105,
          75059,
          48766,
          50392,
          45415,
          41326,
          21530,
          18255,
          24047,
          27894,
          17226,
          19239,
          17127,
          14837,
          16489,
          8935,
          10739,
          11596,
          12444,
          10604,
          6750,
          7818,
          3028,
          3455,
          2259,
          616,
          221
         ],
         "yaxis": "y"
        },
        {
         "alignmentgroup": "True",
         "hovertemplate": "Severity=4<br>State=%{x}<br>Counts=%{y}<extra></extra>",
         "legendgroup": "4",
         "marker": {
          "color": "#EF553B",
          "pattern": {
           "shape": ""
          }
         },
         "name": "4",
         "offsetgroup": "4",
         "orientation": "v",
         "showlegend": true,
         "textposition": "auto",
         "type": "bar",
         "x": [
          "CA",
          "FL",
          "TX",
          "SC",
          "NY",
          "NC",
          "VA",
          "PA",
          "MN",
          "OR",
          "AZ",
          "GA",
          "IL",
          "TN",
          "MI",
          "LA",
          "NJ",
          "MD",
          "OH",
          "WA",
          "AL",
          "UT",
          "CO",
          "OK",
          "MO",
          "CT",
          "IN",
          "MA",
          "WI",
          "KY",
          "NE",
          "MT",
          "IA",
          "AR",
          "NV",
          "KS",
          "DC",
          "RI",
          "MS",
          "DE",
          "WV",
          "ID",
          "NM",
          "NH",
          "WY",
          "ND",
          "ME",
          "VT",
          "SD"
         ],
         "xaxis": "x",
         "y": [
          13502,
          13149,
          7209,
          3095,
          10749,
          10404,
          18202,
          15867,
          863,
          5894,
          5116,
          12776,
          4317,
          3489,
          7635,
          1945,
          5887,
          10892,
          6447,
          4091,
          1828,
          1646,
          7504,
          485,
          2882,
          4172,
          5605,
          547,
          3462,
          1232,
          579,
          459,
          2069,
          2827,
          720,
          800,
          821,
          119,
          843,
          1552,
          823,
          546,
          573,
          254,
          547,
          17,
          119,
          90,
          60
         ],
         "yaxis": "y"
        },
        {
         "alignmentgroup": "True",
         "hovertemplate": "Severity=3<br>State=%{x}<br>Counts=%{y}<extra></extra>",
         "legendgroup": "3",
         "marker": {
          "color": "#00cc96",
          "pattern": {
           "shape": ""
          }
         },
         "name": "3",
         "offsetgroup": "3",
         "orientation": "v",
         "showlegend": true,
         "textposition": "auto",
         "type": "bar",
         "x": [
          "CA",
          "FL",
          "TX",
          "SC",
          "NY",
          "NC",
          "VA",
          "PA",
          "MN",
          "OR",
          "AZ",
          "GA",
          "IL",
          "TN",
          "MI",
          "LA",
          "NJ",
          "MD",
          "OH",
          "WA",
          "AL",
          "UT",
          "CO",
          "OK",
          "MO",
          "CT",
          "IN",
          "MA",
          "WI",
          "KY",
          "NE",
          "MT",
          "IA",
          "AR",
          "NV",
          "KS",
          "DC",
          "RI",
          "MS",
          "DE",
          "WV",
          "ID",
          "NM",
          "NH",
          "WY",
          "ND",
          "ME",
          "VT",
          "SD"
         ],
         "xaxis": "x",
         "y": [
          271814,
          104065,
          120443,
          42470,
          70062,
          29590,
          51324,
          31031,
          29884,
          9730,
          17551,
          61245,
          57748,
          28510,
          40488,
          17575,
          21318,
          25450,
          30589,
          29926,
          21542,
          15000,
          26306,
          6800,
          25405,
          16369,
          15877,
          18623,
          9606,
          12476,
          4151,
          143,
          6954,
          677,
          3690,
          5321,
          1177,
          7728,
          3570,
          715,
          524,
          225,
          2849,
          2059,
          182,
          14,
          316,
          217,
          8
         ],
         "yaxis": "y"
        },
        {
         "alignmentgroup": "True",
         "hovertemplate": "Severity=1<br>State=%{x}<br>Counts=%{y}<extra></extra>",
         "legendgroup": "1",
         "marker": {
          "color": "#ab63fa",
          "pattern": {
           "shape": ""
          }
         },
         "name": "1",
         "offsetgroup": "1",
         "orientation": "v",
         "showlegend": true,
         "textposition": "auto",
         "type": "bar",
         "x": [
          "CA",
          "FL",
          "TX",
          "SC",
          "NY",
          "NC",
          "VA",
          "PA",
          "MN",
          "OR",
          "AZ",
          "GA",
          "IL",
          "TN",
          "MI",
          "LA",
          "NJ",
          "MD",
          "OH",
          "WA",
          "AL",
          "UT",
          "CO",
          "OK",
          "MO",
          "CT",
          "IN",
          "MA",
          "WI",
          "KY",
          "NE",
          "IA",
          "AR",
          "NV",
          "KS",
          "DC",
          "RI",
          "MS",
          "DE",
          "WV",
          "ID",
          "NM",
          "NH",
          "ND",
          "ME",
          "VT"
         ],
         "xaxis": "x",
         "y": [
          10284,
          7083,
          4233,
          6175,
          1247,
          5139,
          3115,
          1731,
          489,
          1323,
          7389,
          1007,
          1620,
          2335,
          1048,
          2534,
          199,
          517,
          1706,
          865,
          681,
          632,
          970,
          1303,
          270,
          72,
          327,
          1500,
          90,
          291,
          93,
          58,
          37,
          128,
          34,
          143,
          189,
          29,
          234,
          2,
          1,
          153,
          82,
          1,
          4,
          3
         ],
         "yaxis": "y"
        },
        {
         "line": {
          "color": "red",
          "width": 2
         },
         "mode": "lines+markers",
         "name": "Total Counts Per Capita",
         "type": "scatter",
         "x": [
          "CA",
          "CA",
          "CA",
          "CA",
          "FL",
          "FL",
          "FL",
          "FL",
          "TX",
          "TX",
          "TX",
          "TX",
          "SC",
          "SC",
          "SC",
          "SC",
          "NY",
          "NY",
          "NY",
          "NY",
          "NC",
          "NC",
          "NC",
          "NC",
          "VA",
          "VA",
          "VA",
          "VA",
          "PA",
          "PA",
          "PA",
          "PA",
          "MN",
          "MN",
          "MN",
          "MN",
          "OR",
          "OR",
          "OR",
          "OR",
          "AZ",
          "AZ",
          "AZ",
          "AZ",
          "GA",
          "GA",
          "GA",
          "GA",
          "IL",
          "IL",
          "IL",
          "IL",
          "TN",
          "TN",
          "TN",
          "TN",
          "MI",
          "MI",
          "MI",
          "MI",
          "LA",
          "LA",
          "LA",
          "LA",
          "NJ",
          "NJ",
          "NJ",
          "NJ",
          "MD",
          "MD",
          "MD",
          "MD",
          "OH",
          "OH",
          "OH",
          "OH",
          "WA",
          "WA",
          "WA",
          "WA",
          "AL",
          "AL",
          "AL",
          "AL",
          "UT",
          "UT",
          "UT",
          "UT",
          "CO",
          "CO",
          "CO",
          "CO",
          "OK",
          "OK",
          "OK",
          "OK",
          "MO",
          "MO",
          "MO",
          "MO",
          "CT",
          "CT",
          "CT",
          "CT",
          "IN",
          "IN",
          "IN",
          "IN",
          "MA",
          "MA",
          "MA",
          "MA",
          "WI",
          "WI",
          "WI",
          "WI",
          "KY",
          "KY",
          "KY",
          "KY",
          "NE",
          "NE",
          "NE",
          "NE",
          "MT",
          "MT",
          "MT",
          "IA",
          "IA",
          "IA",
          "IA",
          "AR",
          "AR",
          "AR",
          "AR",
          "NV",
          "NV",
          "NV",
          "NV",
          "KS",
          "KS",
          "KS",
          "KS",
          "DC",
          "DC",
          "DC",
          "DC",
          "RI",
          "RI",
          "RI",
          "RI",
          "MS",
          "MS",
          "MS",
          "MS",
          "DE",
          "DE",
          "DE",
          "DE",
          "WV",
          "WV",
          "WV",
          "WV",
          "ID",
          "ID",
          "ID",
          "ID",
          "NM",
          "NM",
          "NM",
          "NM",
          "NH",
          "NH",
          "NH",
          "NH",
          "WY",
          "WY",
          "WY",
          "ND",
          "ND",
          "ND",
          "ND",
          "ME",
          "ME",
          "ME",
          "ME",
          "VT",
          "VT",
          "VT",
          "VT",
          "SD",
          "SD",
          "SD"
         ],
         "y": [
          4404.429101429268,
          4404.429101429268,
          4404.429101429268,
          4404.429101429268,
          4086.6578045775163,
          4086.6578045775163,
          4086.6578045775163,
          4086.6578045775163,
          1999.749189454772,
          1999.749189454772,
          1999.749189454772,
          1999.749189454772,
          7474.115572661512,
          7474.115572661512,
          7474.115572661512,
          7474.115572661512,
          1722.4677543452883,
          1722.4677543452883,
          1722.4677543452883,
          1722.4677543452883,
          3239.643933150104,
          3239.643933150104,
          3239.643933150104,
          3239.643933150104,
          3513.928748233339,
          3513.928748233339,
          3513.928748233339,
          3513.928748233339,
          2281.218516154337,
          2281.218516154337,
          2281.218516154337,
          2281.218516154337,
          3366.0597908277837,
          3366.0597908277837,
          3366.0597908277837,
          3366.0597908277837,
          4240.008156221857,
          4240.008156221857,
          4240.008156221857,
          4240.008156221857,
          2385.6387091830497,
          2385.6387091830497,
          2385.6387091830497,
          2385.6387091830497,
          1579.8679376260511,
          1579.8679376260511,
          1579.8679376260511,
          1579.8679376260511,
          1318.6957619850853,
          1318.6957619850853,
          1318.6957619850853,
          1318.6957619850853,
          2422.107876900637,
          2422.107876900637,
          2422.107876900637,
          2422.107876900637,
          1609.463855062417,
          1609.463855062417,
          1609.463855062417,
          1609.463855062417,
          3214.0148144267723,
          3214.0148144267723,
          3214.0148144267723,
          3214.0148144267723,
          1514.9003218217172,
          1514.9003218217172,
          1514.9003218217172,
          1514.9003218217172,
          2273.1408153565417,
          2273.1408153565417,
          2273.1408153565417,
          2273.1408153565417,
          1001.0214037131228,
          1001.0214037131228,
          1001.0214037131228,
          1001.0214037131228,
          1404.504261427974,
          1404.504261427974,
          1404.504261427974,
          1404.504261427974,
          2011.1144305481444,
          2011.1144305481444,
          2011.1144305481444,
          2011.1144305481444,
          2967.3103444903068,
          2967.3103444903068,
          2967.3103444903068,
          2967.3103444903068,
          1574.1167643565302,
          1574.1167643565302,
          1574.1167643565302,
          1574.1167643565302,
          2112.6431515452146,
          2112.6431515452146,
          2112.6431515452146,
          2112.6431515452146,
          1256.28095799242,
          1256.28095799242,
          1256.28095799242,
          1256.28095799242,
          1969.1098918896134,
          1969.1098918896134,
          1969.1098918896134,
          1969.1098918896134,
          990.6966709149237,
          990.6966709149237,
          990.6966709149237,
          990.6966709149237,
          881.8880791906931,
          881.8880791906931,
          881.8880791906931,
          881.8880791906931,
          588.5588689516533,
          588.5588689516533,
          588.5588689516533,
          588.5588689516533,
          715.8272072041681,
          715.8272072041681,
          715.8272072041681,
          715.8272072041681,
          1471.8297795976964,
          1471.8297795976964,
          1471.8297795976964,
          1471.8297795976964,
          2628.236758975305,
          2628.236758975305,
          2628.236758975305,
          824.5754644682166,
          824.5754644682166,
          824.5754644682166,
          824.5754644682166,
          756.4276426154996,
          756.4276426154996,
          756.4276426154996,
          756.4276426154996,
          697.8323231164969,
          697.8323231164969,
          697.8323231164969,
          697.8323231164969,
          714.5288439282748,
          714.5288439282748,
          714.5288439282748,
          714.5288439282748,
          2701.7816096121355,
          2701.7816096121355,
          2701.7816096121355,
          2701.7816096121355,
          1546.5030768768129,
          1546.5030768768129,
          1546.5030768768129,
          1546.5030768768129,
          512.6501082809151,
          512.6501082809151,
          512.6501082809151,
          512.6501082809151,
          1424.014190644357,
          1424.014190644357,
          1424.014190644357,
          1424.014190644357,
          768.9623106444944,
          768.9623106444944,
          768.9623106444944,
          768.9623106444944,
          618.5614097284224,
          618.5614097284224,
          618.5614097284224,
          618.5614097284224,
          487.5982398293855,
          487.5982398293855,
          487.5982398293855,
          487.5982398293855,
          741.3999995644375,
          741.3999995644375,
          741.3999995644375,
          741.3999995644375,
          651.2947017514056,
          651.2947017514056,
          651.2947017514056,
          447.5711531599524,
          447.5711531599524,
          447.5711531599524,
          447.5711531599524,
          198.03884291879015,
          198.03884291879015,
          198.03884291879015,
          198.03884291879015,
          143.9951980866988,
          143.9951980866988,
          143.9951980866988,
          143.9951980866988,
          32.59397270903282,
          32.59397270903282,
          32.59397270903282
         ],
         "yaxis": "y2"
        }
       ],
       "layout": {
        "barmode": "relative",
        "legend": {
         "orientation": "h",
         "title": {
          "text": "Severity"
         },
         "tracegroupgap": 0,
         "x": 0.5,
         "xanchor": "center",
         "y": 1.1,
         "yanchor": "bottom"
        },
        "template": {
         "data": {
          "bar": [
           {
            "error_x": {
             "color": "#2a3f5f"
            },
            "error_y": {
             "color": "#2a3f5f"
            },
            "marker": {
             "line": {
              "color": "#E5ECF6",
              "width": 0.5
             },
             "pattern": {
              "fillmode": "overlay",
              "size": 10,
              "solidity": 0.2
             }
            },
            "type": "bar"
           }
          ],
          "barpolar": [
           {
            "marker": {
             "line": {
              "color": "#E5ECF6",
              "width": 0.5
             },
             "pattern": {
              "fillmode": "overlay",
              "size": 10,
              "solidity": 0.2
             }
            },
            "type": "barpolar"
           }
          ],
          "carpet": [
           {
            "aaxis": {
             "endlinecolor": "#2a3f5f",
             "gridcolor": "white",
             "linecolor": "white",
             "minorgridcolor": "white",
             "startlinecolor": "#2a3f5f"
            },
            "baxis": {
             "endlinecolor": "#2a3f5f",
             "gridcolor": "white",
             "linecolor": "white",
             "minorgridcolor": "white",
             "startlinecolor": "#2a3f5f"
            },
            "type": "carpet"
           }
          ],
          "choropleth": [
           {
            "colorbar": {
             "outlinewidth": 0,
             "ticks": ""
            },
            "type": "choropleth"
           }
          ],
          "contour": [
           {
            "colorbar": {
             "outlinewidth": 0,
             "ticks": ""
            },
            "colorscale": [
             [
              0,
              "#0d0887"
             ],
             [
              0.1111111111111111,
              "#46039f"
             ],
             [
              0.2222222222222222,
              "#7201a8"
             ],
             [
              0.3333333333333333,
              "#9c179e"
             ],
             [
              0.4444444444444444,
              "#bd3786"
             ],
             [
              0.5555555555555556,
              "#d8576b"
             ],
             [
              0.6666666666666666,
              "#ed7953"
             ],
             [
              0.7777777777777778,
              "#fb9f3a"
             ],
             [
              0.8888888888888888,
              "#fdca26"
             ],
             [
              1,
              "#f0f921"
             ]
            ],
            "type": "contour"
           }
          ],
          "contourcarpet": [
           {
            "colorbar": {
             "outlinewidth": 0,
             "ticks": ""
            },
            "type": "contourcarpet"
           }
          ],
          "heatmap": [
           {
            "colorbar": {
             "outlinewidth": 0,
             "ticks": ""
            },
            "colorscale": [
             [
              0,
              "#0d0887"
             ],
             [
              0.1111111111111111,
              "#46039f"
             ],
             [
              0.2222222222222222,
              "#7201a8"
             ],
             [
              0.3333333333333333,
              "#9c179e"
             ],
             [
              0.4444444444444444,
              "#bd3786"
             ],
             [
              0.5555555555555556,
              "#d8576b"
             ],
             [
              0.6666666666666666,
              "#ed7953"
             ],
             [
              0.7777777777777778,
              "#fb9f3a"
             ],
             [
              0.8888888888888888,
              "#fdca26"
             ],
             [
              1,
              "#f0f921"
             ]
            ],
            "type": "heatmap"
           }
          ],
          "heatmapgl": [
           {
            "colorbar": {
             "outlinewidth": 0,
             "ticks": ""
            },
            "colorscale": [
             [
              0,
              "#0d0887"
             ],
             [
              0.1111111111111111,
              "#46039f"
             ],
             [
              0.2222222222222222,
              "#7201a8"
             ],
             [
              0.3333333333333333,
              "#9c179e"
             ],
             [
              0.4444444444444444,
              "#bd3786"
             ],
             [
              0.5555555555555556,
              "#d8576b"
             ],
             [
              0.6666666666666666,
              "#ed7953"
             ],
             [
              0.7777777777777778,
              "#fb9f3a"
             ],
             [
              0.8888888888888888,
              "#fdca26"
             ],
             [
              1,
              "#f0f921"
             ]
            ],
            "type": "heatmapgl"
           }
          ],
          "histogram": [
           {
            "marker": {
             "pattern": {
              "fillmode": "overlay",
              "size": 10,
              "solidity": 0.2
             }
            },
            "type": "histogram"
           }
          ],
          "histogram2d": [
           {
            "colorbar": {
             "outlinewidth": 0,
             "ticks": ""
            },
            "colorscale": [
             [
              0,
              "#0d0887"
             ],
             [
              0.1111111111111111,
              "#46039f"
             ],
             [
              0.2222222222222222,
              "#7201a8"
             ],
             [
              0.3333333333333333,
              "#9c179e"
             ],
             [
              0.4444444444444444,
              "#bd3786"
             ],
             [
              0.5555555555555556,
              "#d8576b"
             ],
             [
              0.6666666666666666,
              "#ed7953"
             ],
             [
              0.7777777777777778,
              "#fb9f3a"
             ],
             [
              0.8888888888888888,
              "#fdca26"
             ],
             [
              1,
              "#f0f921"
             ]
            ],
            "type": "histogram2d"
           }
          ],
          "histogram2dcontour": [
           {
            "colorbar": {
             "outlinewidth": 0,
             "ticks": ""
            },
            "colorscale": [
             [
              0,
              "#0d0887"
             ],
             [
              0.1111111111111111,
              "#46039f"
             ],
             [
              0.2222222222222222,
              "#7201a8"
             ],
             [
              0.3333333333333333,
              "#9c179e"
             ],
             [
              0.4444444444444444,
              "#bd3786"
             ],
             [
              0.5555555555555556,
              "#d8576b"
             ],
             [
              0.6666666666666666,
              "#ed7953"
             ],
             [
              0.7777777777777778,
              "#fb9f3a"
             ],
             [
              0.8888888888888888,
              "#fdca26"
             ],
             [
              1,
              "#f0f921"
             ]
            ],
            "type": "histogram2dcontour"
           }
          ],
          "mesh3d": [
           {
            "colorbar": {
             "outlinewidth": 0,
             "ticks": ""
            },
            "type": "mesh3d"
           }
          ],
          "parcoords": [
           {
            "line": {
             "colorbar": {
              "outlinewidth": 0,
              "ticks": ""
             }
            },
            "type": "parcoords"
           }
          ],
          "pie": [
           {
            "automargin": true,
            "type": "pie"
           }
          ],
          "scatter": [
           {
            "fillpattern": {
             "fillmode": "overlay",
             "size": 10,
             "solidity": 0.2
            },
            "type": "scatter"
           }
          ],
          "scatter3d": [
           {
            "line": {
             "colorbar": {
              "outlinewidth": 0,
              "ticks": ""
             }
            },
            "marker": {
             "colorbar": {
              "outlinewidth": 0,
              "ticks": ""
             }
            },
            "type": "scatter3d"
           }
          ],
          "scattercarpet": [
           {
            "marker": {
             "colorbar": {
              "outlinewidth": 0,
              "ticks": ""
             }
            },
            "type": "scattercarpet"
           }
          ],
          "scattergeo": [
           {
            "marker": {
             "colorbar": {
              "outlinewidth": 0,
              "ticks": ""
             }
            },
            "type": "scattergeo"
           }
          ],
          "scattergl": [
           {
            "marker": {
             "colorbar": {
              "outlinewidth": 0,
              "ticks": ""
             }
            },
            "type": "scattergl"
           }
          ],
          "scattermapbox": [
           {
            "marker": {
             "colorbar": {
              "outlinewidth": 0,
              "ticks": ""
             }
            },
            "type": "scattermapbox"
           }
          ],
          "scatterpolar": [
           {
            "marker": {
             "colorbar": {
              "outlinewidth": 0,
              "ticks": ""
             }
            },
            "type": "scatterpolar"
           }
          ],
          "scatterpolargl": [
           {
            "marker": {
             "colorbar": {
              "outlinewidth": 0,
              "ticks": ""
             }
            },
            "type": "scatterpolargl"
           }
          ],
          "scatterternary": [
           {
            "marker": {
             "colorbar": {
              "outlinewidth": 0,
              "ticks": ""
             }
            },
            "type": "scatterternary"
           }
          ],
          "surface": [
           {
            "colorbar": {
             "outlinewidth": 0,
             "ticks": ""
            },
            "colorscale": [
             [
              0,
              "#0d0887"
             ],
             [
              0.1111111111111111,
              "#46039f"
             ],
             [
              0.2222222222222222,
              "#7201a8"
             ],
             [
              0.3333333333333333,
              "#9c179e"
             ],
             [
              0.4444444444444444,
              "#bd3786"
             ],
             [
              0.5555555555555556,
              "#d8576b"
             ],
             [
              0.6666666666666666,
              "#ed7953"
             ],
             [
              0.7777777777777778,
              "#fb9f3a"
             ],
             [
              0.8888888888888888,
              "#fdca26"
             ],
             [
              1,
              "#f0f921"
             ]
            ],
            "type": "surface"
           }
          ],
          "table": [
           {
            "cells": {
             "fill": {
              "color": "#EBF0F8"
             },
             "line": {
              "color": "white"
             }
            },
            "header": {
             "fill": {
              "color": "#C8D4E3"
             },
             "line": {
              "color": "white"
             }
            },
            "type": "table"
           }
          ]
         },
         "layout": {
          "annotationdefaults": {
           "arrowcolor": "#2a3f5f",
           "arrowhead": 0,
           "arrowwidth": 1
          },
          "autotypenumbers": "strict",
          "coloraxis": {
           "colorbar": {
            "outlinewidth": 0,
            "ticks": ""
           }
          },
          "colorscale": {
           "diverging": [
            [
             0,
             "#8e0152"
            ],
            [
             0.1,
             "#c51b7d"
            ],
            [
             0.2,
             "#de77ae"
            ],
            [
             0.3,
             "#f1b6da"
            ],
            [
             0.4,
             "#fde0ef"
            ],
            [
             0.5,
             "#f7f7f7"
            ],
            [
             0.6,
             "#e6f5d0"
            ],
            [
             0.7,
             "#b8e186"
            ],
            [
             0.8,
             "#7fbc41"
            ],
            [
             0.9,
             "#4d9221"
            ],
            [
             1,
             "#276419"
            ]
           ],
           "sequential": [
            [
             0,
             "#0d0887"
            ],
            [
             0.1111111111111111,
             "#46039f"
            ],
            [
             0.2222222222222222,
             "#7201a8"
            ],
            [
             0.3333333333333333,
             "#9c179e"
            ],
            [
             0.4444444444444444,
             "#bd3786"
            ],
            [
             0.5555555555555556,
             "#d8576b"
            ],
            [
             0.6666666666666666,
             "#ed7953"
            ],
            [
             0.7777777777777778,
             "#fb9f3a"
            ],
            [
             0.8888888888888888,
             "#fdca26"
            ],
            [
             1,
             "#f0f921"
            ]
           ],
           "sequentialminus": [
            [
             0,
             "#0d0887"
            ],
            [
             0.1111111111111111,
             "#46039f"
            ],
            [
             0.2222222222222222,
             "#7201a8"
            ],
            [
             0.3333333333333333,
             "#9c179e"
            ],
            [
             0.4444444444444444,
             "#bd3786"
            ],
            [
             0.5555555555555556,
             "#d8576b"
            ],
            [
             0.6666666666666666,
             "#ed7953"
            ],
            [
             0.7777777777777778,
             "#fb9f3a"
            ],
            [
             0.8888888888888888,
             "#fdca26"
            ],
            [
             1,
             "#f0f921"
            ]
           ]
          },
          "colorway": [
           "#636efa",
           "#EF553B",
           "#00cc96",
           "#ab63fa",
           "#FFA15A",
           "#19d3f3",
           "#FF6692",
           "#B6E880",
           "#FF97FF",
           "#FECB52"
          ],
          "font": {
           "color": "#2a3f5f"
          },
          "geo": {
           "bgcolor": "white",
           "lakecolor": "white",
           "landcolor": "#E5ECF6",
           "showlakes": true,
           "showland": true,
           "subunitcolor": "white"
          },
          "hoverlabel": {
           "align": "left"
          },
          "hovermode": "closest",
          "mapbox": {
           "style": "light"
          },
          "paper_bgcolor": "white",
          "plot_bgcolor": "#E5ECF6",
          "polar": {
           "angularaxis": {
            "gridcolor": "white",
            "linecolor": "white",
            "ticks": ""
           },
           "bgcolor": "#E5ECF6",
           "radialaxis": {
            "gridcolor": "white",
            "linecolor": "white",
            "ticks": ""
           }
          },
          "scene": {
           "xaxis": {
            "backgroundcolor": "#E5ECF6",
            "gridcolor": "white",
            "gridwidth": 2,
            "linecolor": "white",
            "showbackground": true,
            "ticks": "",
            "zerolinecolor": "white"
           },
           "yaxis": {
            "backgroundcolor": "#E5ECF6",
            "gridcolor": "white",
            "gridwidth": 2,
            "linecolor": "white",
            "showbackground": true,
            "ticks": "",
            "zerolinecolor": "white"
           },
           "zaxis": {
            "backgroundcolor": "#E5ECF6",
            "gridcolor": "white",
            "gridwidth": 2,
            "linecolor": "white",
            "showbackground": true,
            "ticks": "",
            "zerolinecolor": "white"
           }
          },
          "shapedefaults": {
           "line": {
            "color": "#2a3f5f"
           }
          },
          "ternary": {
           "aaxis": {
            "gridcolor": "white",
            "linecolor": "white",
            "ticks": ""
           },
           "baxis": {
            "gridcolor": "white",
            "linecolor": "white",
            "ticks": ""
           },
           "bgcolor": "#E5ECF6",
           "caxis": {
            "gridcolor": "white",
            "linecolor": "white",
            "ticks": ""
           }
          },
          "title": {
           "x": 0.05
          },
          "xaxis": {
           "automargin": true,
           "gridcolor": "white",
           "linecolor": "white",
           "ticks": "",
           "title": {
            "standoff": 15
           },
           "zerolinecolor": "white",
           "zerolinewidth": 2
          },
          "yaxis": {
           "automargin": true,
           "gridcolor": "white",
           "linecolor": "white",
           "ticks": "",
           "title": {
            "standoff": 15
           },
           "zerolinecolor": "white",
           "zerolinewidth": 2
          }
         }
        },
        "title": {
         "text": "Statewise Accident Analysis"
        },
        "xaxis": {
         "anchor": "y",
         "domain": [
          0,
          1
         ],
         "title": {
          "text": "State"
         }
        },
        "yaxis": {
         "anchor": "x",
         "domain": [
          0,
          1
         ],
         "title": {
          "text": "Counts (Accidents)"
         }
        },
        "yaxis2": {
         "overlaying": "y",
         "showgrid": false,
         "side": "right",
         "title": {
          "text": "Total Counts Per Capita"
         }
        }
       }
      }
     },
     "metadata": {},
     "output_type": "display_data"
    }
   ],
   "source": [
    "import plotly.graph_objects as go\n",
    "\n",
    "# Create the bar chart using Plotly Express\n",
    "bar_fig = px.bar(\n",
    "    severity_counts,\n",
    "    x='State',\n",
    "    y='Counts',\n",
    "    color='Severity',\n",
    "    title='Number of Accidents per Severity for Each State (Unnormalized)',\n",
    "    color_continuous_scale='Viridis'\n",
    ")\n",
    "\n",
    "# Convert the Plotly Express figure to a go.Figure\n",
    "fig = go.Figure(bar_fig)\n",
    "\n",
    "# Add line graph\n",
    "fig.add_trace(\n",
    "    go.Scatter(\n",
    "        x=severity_counts['State'],\n",
    "        y=severity_counts['Normalized_Count'],\n",
    "        mode='lines+markers',\n",
    "        name='Total Counts Per Capita',\n",
    "        line=dict(color='red', width=2),\n",
    "        yaxis='y2'\n",
    "    )\n",
    ")\n",
    "\n",
    "fig.update_layout(\n",
    "    title=\"Statewise Accident Analysis\",\n",
    "    xaxis_title=\"State\",\n",
    "    yaxis_title=\"Counts (Accidents)\",  # Left y-axis label for bar plot\n",
    "    yaxis2=dict(\n",
    "        title=\"Total Counts Per Capita\",  # Right y-axis label for the line plot\n",
    "        overlaying='y',  # This ensures the line plot uses a secondary y-axis\n",
    "        side='right',  # Place secondary y-axis on the right\n",
    "        showgrid=False  # Optionally remove grid lines from the secondary y-axis\n",
    "    ),\n",
    "    legend_title=\"Severity\",\n",
    "    legend=dict(\n",
    "        orientation=\"h\",  # Horizontal legend\n",
    "        yanchor=\"bottom\",  # Align legend at the bottom of the top boundary\n",
    "        y=1.1,  # Position above the plot area\n",
    "        xanchor=\"center\",  # Center align the legend\n",
    "        x=0.5  # Center the legend horizontally\n",
    "    )\n",
    ")\n",
    "# Show the plot\n",
    "fig.show()"
   ]
  }
 ],
 "metadata": {
  "kaggle": {
   "accelerator": "none",
   "dataSources": [
    {
     "datasetId": 199387,
     "sourceId": 5793796,
     "sourceType": "datasetVersion"
    }
   ],
   "dockerImageVersionId": 30732,
   "isGpuEnabled": false,
   "isInternetEnabled": true,
   "language": "python",
   "sourceType": "notebook"
  },
  "kernelspec": {
   "display_name": ".venv",
   "language": "python",
   "name": "python3"
  },
  "language_info": {
   "codemirror_mode": {
    "name": "ipython",
    "version": 3
   },
   "file_extension": ".py",
   "mimetype": "text/x-python",
   "name": "python",
   "nbconvert_exporter": "python",
   "pygments_lexer": "ipython3",
   "version": "3.11.10"
  },
  "papermill": {
   "default_parameters": {},
   "duration": 246.278474,
   "end_time": "2024-06-29T07:21:50.942127",
   "environment_variables": {},
   "exception": null,
   "input_path": "__notebook__.ipynb",
   "output_path": "__notebook__.ipynb",
   "parameters": {},
   "start_time": "2024-06-29T07:17:44.663653",
   "version": "2.5.0"
  }
 },
 "nbformat": 4,
 "nbformat_minor": 5
}
