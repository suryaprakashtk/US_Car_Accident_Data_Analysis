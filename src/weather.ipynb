{
 "cells": [
  {
   "cell_type": "code",
   "execution_count": 1,
   "metadata": {},
   "outputs": [],
   "source": [
    "import numpy as np\n",
    "import pandas as pd\n",
    "import matplotlib.pyplot as plt\n",
    "\n",
    "import seaborn as sns\n",
    "import geopandas as gpd\n",
    "from folium import Map, CircleMarker"
   ]
  },
  {
   "cell_type": "code",
   "execution_count": 2,
   "metadata": {},
   "outputs": [],
   "source": [
    "# Load dataset\n",
    "def load_data(file_path):\n",
    "    return pd.read_csv(file_path)"
   ]
  },
  {
   "cell_type": "code",
   "execution_count": 37,
   "metadata": {},
   "outputs": [],
   "source": [
    "# Clean weather-related columns\n",
    "def clean_weather_data(df):\n",
    "    weather_cols = ['Start_Time', 'Start_Lng', 'Sunrise_Sunset', 'Start_Lat', 'Weather_Condition', 'Temperature(F)', 'Wind_Speed(mph)', \n",
    "                    'Visibility(mi)', 'Precipitation(in)', 'Humidity(%)', 'Severity']\n",
    "    df = df[weather_cols].dropna()\n",
    "    return df"
   ]
  },
  {
   "cell_type": "code",
   "execution_count": null,
   "metadata": {},
   "outputs": [],
   "source": [
    "def filter_severe_accidents(df):\n",
    "    # Ensure 'Severity' column exists\n",
    "    if 'Severity' in df.columns:\n",
    "        # Filter the DataFrame to include only severe accidents with Severity 3 or 4\n",
    "        severe_df = df[df['Severity'].isin([3, 4])]\n",
    "        return severe_df\n",
    "    else:\n",
    "        raise KeyError(\"The DataFrame does not contain a 'Severity' column.\")"
   ]
  },
  {
   "cell_type": "code",
   "execution_count": 4,
   "metadata": {},
   "outputs": [],
   "source": [
    "def analyze_weather_vs_severity(df):\n",
    "    # Group by 'Weather_Condition' and sum up the accident counts\n",
    "    weather_counts = df['Weather_Condition'].value_counts().nlargest(8)\n",
    "    \n",
    "    # Filter the original DataFrame to include only the top 8 weather conditions\n",
    "    top_weather_conditions = weather_counts.index\n",
    "    filtered_df = df[df['Weather_Condition'].isin(top_weather_conditions)]\n",
    "    \n",
    "    # Group by 'Weather_Condition' and 'Severity', then unstack\n",
    "    weather_severity = filtered_df.groupby(['Weather_Condition', 'Severity']).size().unstack(fill_value=0)\n",
    "    \n",
    "    # Plot the data\n",
    "    weather_severity.plot(kind='bar', stacked=True, figsize=(12, 6))\n",
    "    plt.title(\"Impact of Weather Conditions on Accident Severity\")\n",
    "    plt.xlabel(\"Weather Condition\")\n",
    "    plt.ylabel(\"Accident Count\")\n",
    "    plt.xticks(rotation=45)\n",
    "    plt.tight_layout()\n",
    "    plt.show()"
   ]
  },
  {
   "cell_type": "code",
   "execution_count": 5,
   "metadata": {},
   "outputs": [],
   "source": [
    "def analyze_temperature_ranges(df):\n",
    "    bins = [-10, 32, 50, 70, 90, 120]\n",
    "    labels = ['Very Cold', 'Cold', 'Moderate', 'Warm', 'Hot']\n",
    "    df['Temp_Range'] = pd.cut(df['Temperature(F)'], bins=bins, labels=labels)\n",
    "    temp_counts = df['Temp_Range'].value_counts().sort_index()\n",
    "    temp_counts.plot(kind='bar', color='skyblue', figsize=(8, 5))\n",
    "    plt.title(\"Accidents by Temperature Range\")\n",
    "    plt.xlabel(\"Temperature Range\")\n",
    "    plt.ylabel(\"Accident Count\")\n",
    "    plt.tight_layout()\n",
    "    plt.show()"
   ]
  },
  {
   "cell_type": "code",
   "execution_count": 6,
   "metadata": {},
   "outputs": [],
   "source": [
    "def analyze_weather_time_of_day(df):\n",
    "    # Convert 'Start_Time' to datetime, coercing errors to NaT\n",
    "    df['Start_Time'] = pd.to_datetime(df['Start_Time'], errors='coerce')\n",
    "    \n",
    "    # Drop rows where 'Start_Time' conversion resulted in NaT\n",
    "    df = df.dropna(subset=['Start_Time'])\n",
    "    \n",
    "    # Extract the hour from 'Start_Time'\n",
    "    df['Hour'] = df['Start_Time'].dt.hour\n",
    "    \n",
    "    # Determine the top 5 weather conditions by accident count\n",
    "    top_weather_conditions = df['Weather_Condition'].value_counts().nlargest(5).index\n",
    "    \n",
    "    # Filter the DataFrame to include only the top 5 weather conditions\n",
    "    df_top_weather = df[df['Weather_Condition'].isin(top_weather_conditions)]\n",
    "    \n",
    "    # Group by 'Weather_Condition' and 'Hour', then unstack\n",
    "    weather_hour = df_top_weather.groupby(['Weather_Condition', 'Hour']).size().unstack(fill_value=0)\n",
    "    \n",
    "    # Plot the heatmap\n",
    "    plt.figure(figsize=(12, 8))\n",
    "    sns.heatmap(weather_hour, cmap=\"YlGnBu\", linewidths=0.5)\n",
    "    plt.title(\"Accidents by Top 5 Weather Conditions and Time of Day\")\n",
    "    plt.xlabel(\"Hour of Day\")\n",
    "    plt.ylabel(\"Weather Condition\")\n",
    "    plt.tight_layout()\n",
    "    plt.show()"
   ]
  },
  {
   "cell_type": "code",
   "execution_count": 7,
   "metadata": {},
   "outputs": [],
   "source": [
    "def analyze_visibility(df):\n",
    "    # Define bins and labels for visibility ranges\n",
    "    bins = [0, 1, 3, 5, 10, 20, 50]\n",
    "    labels = ['Very Low', 'Low', 'Moderate', 'Good', 'Very Good', 'Excellent']\n",
    "    \n",
    "    # Create a new column 'Visibility_Range' based on the bins\n",
    "    df['Visibility_Range'] = pd.cut(df['Visibility(mi)'], bins=bins, labels=labels)\n",
    "    \n",
    "    # Count the number of accidents in each visibility range\n",
    "    visibility_counts = df['Visibility_Range'].value_counts().sort_index()\n",
    "    \n",
    "    # Plot the results\n",
    "    plt.figure(figsize=(8, 5))\n",
    "    visibility_counts.plot(kind='bar', color='purple')\n",
    "    plt.title(\"Accidents by Visibility Range\")\n",
    "    plt.xlabel(\"Visibility Range\")\n",
    "    plt.ylabel(\"Accident Count\")\n",
    "    plt.tight_layout()\n",
    "    plt.show()"
   ]
  },
  {
   "cell_type": "code",
   "execution_count": 8,
   "metadata": {},
   "outputs": [],
   "source": [
    "def analyze_precipitation(df):\n",
    "    plt.figure(figsize=(10, 6))\n",
    "    sns.scatterplot(x='Precipitation(in)', y='Severity', data=df, alpha=0.5)\n",
    "    plt.title(\"Precipitation vs. Accident Severity\")\n",
    "    plt.xlabel(\"Precipitation (in)\")\n",
    "    plt.ylabel(\"Severity\")\n",
    "    plt.tight_layout()\n",
    "    plt.show()"
   ]
  },
  {
   "cell_type": "code",
   "execution_count": 9,
   "metadata": {},
   "outputs": [],
   "source": [
    "def wind_speed_analysis(df):\n",
    "   if 'Wind_Speed(mph)' in df.columns:\n",
    "        wind_speed_severity = df.groupby(pd.cut(df['Wind_Speed(mph)'], bins=[0, 5, 10, 15, 20, 30])).Severity.mean()\n",
    "        \n",
    "        wind_speed_severity.plot(kind='bar', color='skyblue')\n",
    "\n",
    "        plt.title('Impact of Wind Speed on Accident Severity')\n",
    "        plt.xlabel('Wind Speed (mph)')\n",
    "        plt.ylabel('Average Severity')\n",
    "\n",
    "        plt.tight_layout()\n",
    "\n",
    "        plt.show()"
   ]
  },
  {
   "cell_type": "code",
   "execution_count": 10,
   "metadata": {},
   "outputs": [],
   "source": [
    "import cartopy.crs as ccrs\n",
    "import cartopy.feature as cfeature\n",
    "\n",
    "def map_weather_conditions(df):\n",
    "    # Convert DataFrame to a GeoDataFrame\n",
    "    gdf = gpd.GeoDataFrame(df, geometry=gpd.points_from_xy(df['Start_Lng'], df['Start_Lat']))\n",
    "\n",
    "    # Create a new plot with Cartopy\n",
    "    plt.figure(figsize=(15, 10))\n",
    "    ax = plt.axes(projection=ccrs.PlateCarree())\n",
    "\n",
    "    # Add natural features like coastlines and borders\n",
    "    ax.add_feature(cfeature.COASTLINE)\n",
    "    ax.add_feature(cfeature.BORDERS, linestyle=':')\n",
    "\n",
    "    # Plot accident points on top of the map\n",
    "    gdf.plot(ax=ax, color='blue', alpha=0.5, markersize=1, transform=ccrs.PlateCarree())\n",
    "\n",
    "    plt.title(\"Geospatial Distribution of Accidents by Weather Condition\")\n",
    "    plt.tight_layout()\n",
    "    plt.show()"
   ]
  },
  {
   "cell_type": "code",
   "execution_count": 11,
   "metadata": {},
   "outputs": [],
   "source": [
    "def analyze_monthly_accidents(df):\n",
    "    # Convert 'Start_Time' to datetime, coercing errors to NaT\n",
    "    df['Start_Time'] = pd.to_datetime(df['Start_Time'], errors='coerce')\n",
    "    \n",
    "    # Drop rows where 'Start_Time' conversion resulted in NaT\n",
    "    df = df.dropna(subset=['Start_Time'])\n",
    "    \n",
    "    df['Month'] = pd.to_datetime(df['Start_Time']).dt.month\n",
    "    monthly_counts = df.groupby('Month').size()\n",
    "    monthly_severity = df.groupby('Month')['Severity'].mean()\n",
    "\n",
    "    fig, ax1 = plt.subplots(figsize=(10, 6))\n",
    "\n",
    "    ax1.bar(monthly_counts.index, monthly_counts.values, color='b', alpha=0.6, label='Number of Accidents')\n",
    "    ax1.set_xlabel('Month')\n",
    "    ax1.set_ylabel('Number of Accidents', color='b')\n",
    "    \n",
    "    ax2 = ax1.twinx()\n",
    "    ax2.plot(monthly_severity.index, monthly_severity.values, color='r', marker='o', label='Average Severity')\n",
    "    ax2.set_ylabel('Average Severity', color='r')\n",
    "\n",
    "    plt.title('Monthly Analysis of Accidents and Severity')\n",
    "    fig.tight_layout()\n",
    "    plt.show()"
   ]
  },
  {
   "cell_type": "code",
   "execution_count": 12,
   "metadata": {},
   "outputs": [],
   "source": [
    "def daily_accident_trends(df):\n",
    "    df['Date'] = pd.to_datetime(df['Start_Time']).dt.date\n",
    "    daily_counts = df.groupby('Date').size()\n",
    "\n",
    "    plt.figure(figsize=(14, 6))\n",
    "    daily_counts.plot()\n",
    "    plt.title('Daily Accident Trends')\n",
    "    plt.xlabel('Date')\n",
    "    plt.ylabel('Number of Accidents')\n",
    "    plt.tight_layout()\n",
    "    plt.show()"
   ]
  },
  {
   "cell_type": "code",
   "execution_count": 13,
   "metadata": {},
   "outputs": [],
   "source": [
    "def weather_correlation_matrix(df):\n",
    "    weather_data = df[['Temperature(F)', 'Visibility(mi)', 'Precipitation(in)', 'Severity']]\n",
    "    corr_matrix = weather_data.corr()\n",
    "\n",
    "    plt.figure(figsize=(8, 6))\n",
    "    sns.heatmap(corr_matrix, annot=True, cmap='coolwarm', fmt=\".2f\")\n",
    "    plt.title('Correlation Matrix of Weather Features and Severity')\n",
    "    plt.tight_layout()\n",
    "    plt.show()"
   ]
  },
  {
   "cell_type": "code",
   "execution_count": 14,
   "metadata": {},
   "outputs": [],
   "source": [
    "from sklearn.cluster import KMeans\n",
    "\n",
    "def geospatial_clustering(df):\n",
    "    coords = df[['Start_Lng', 'Start_Lat']]\n",
    "    \n",
    "    kmeans = KMeans(n_clusters=5)\n",
    "    clusters = kmeans.fit_predict(coords)\n",
    "\n",
    "    df['Cluster'] = clusters\n",
    "\n",
    "    plt.figure(figsize=(10, 8))\n",
    "    sns.scatterplot(x='Start_Lng', y='Start_Lat', hue='Cluster', data=df, palette='viridis', s=10)\n",
    "    \n",
    "    plt.title('Geospatial Clustering of Accidents')\n",
    "    plt.xlabel('Longitude')\n",
    "    plt.ylabel('Latitude')\n",
    "    \n",
    "    plt.tight_layout()\n",
    "    plt.show()"
   ]
  },
  {
   "cell_type": "code",
   "execution_count": 15,
   "metadata": {},
   "outputs": [],
   "source": [
    "def boxplot_weather_severity(df):\n",
    "    # Determine the top 10 weather conditions by accident count\n",
    "    top_weather_conditions = df['Weather_Condition'].value_counts().nlargest(10).index\n",
    "\n",
    "    # Filter the DataFrame to include only the top 10 weather conditions\n",
    "    df_top_weather = df[df['Weather_Condition'].isin(top_weather_conditions)]\n",
    "\n",
    "    # Create the box plot\n",
    "    plt.figure(figsize=(12, 6))\n",
    "    sns.boxplot(x='Weather_Condition', y='Severity', data=df_top_weather)\n",
    "\n",
    "    plt.xticks(rotation=45)\n",
    "    plt.title('Severity Distribution Across Top 10 Weather Conditions')\n",
    "    plt.tight_layout()\n",
    "    plt.show()\n",
    "\n",
    "def boxplot_worst_weather_severity(df):\n",
    "    # Define a list of known hazardous weather conditions\n",
    "    worst_weather_conditions = [\n",
    "        'Rain', 'Snow', 'Sleet', 'Fog', 'Ice', 'Hail', 'Thunderstorm', \n",
    "        'Blizzard', 'Freezing Rain', 'Heavy Rain'\n",
    "    ]\n",
    "    \n",
    "    # Filter the DataFrame to include only these worst weather conditions\n",
    "    df_worst_weather = df[df['Weather_Condition'].isin(worst_weather_conditions)]\n",
    "\n",
    "    # Create the box plot\n",
    "    plt.figure(figsize=(12, 6))\n",
    "    sns.boxplot(x='Weather_Condition', y='Severity', data=df_worst_weather)\n",
    "    \n",
    "    plt.xticks(rotation=45)\n",
    "    plt.title('Severity Distribution Across Worst Weather Conditions')\n",
    "    plt.tight_layout()\n",
    "    plt.show()"
   ]
  },
  {
   "cell_type": "code",
   "execution_count": 16,
   "metadata": {},
   "outputs": [],
   "source": [
    "def day_night_accident_comparison(df):\n",
    "   if 'Sunrise_Sunset' in df.columns:\n",
    "        day_night_counts = df.groupby(['Sunrise_Sunset']).size()\n",
    "\n",
    "        day_night_counts.plot(kind='bar', color=['orange', 'navy'])\n",
    "\n",
    "        plt.title('Day vs Night Accidents by Weather Condition')\n",
    "\n",
    "        plt.xlabel('Time of Day')\n",
    "\n",
    "        plt.ylabel('Number of Accidents')\n",
    "\n",
    "        plt.xticks(rotation=0)\n",
    "\n",
    "        plt.tight_layout()\n",
    "\n",
    "        plt.show()"
   ]
  },
  {
   "cell_type": "code",
   "execution_count": 41,
   "metadata": {},
   "outputs": [],
   "source": [
    "def temperature_humidity_interaction(df):\n",
    "   if 'Humidity(%)' in df.columns:\n",
    "        # Construct dataset for plotting\n",
    "        temp_humidity_df = df[['Temperature(F)', 'Humidity(%)', 'Severity']]\n",
    "\n",
    "        # Create a joint plot with hexagonal bins\n",
    "        plt.figure(figsize=(10, 7))\n",
    "        joint_plot = sns.jointplot(x='Temperature(F)', y='Humidity(%)', data=temp_humidity_df, kind='hex', gridsize=30)\n",
    "\n",
    "        # Set titles and labels\n",
    "        joint_plot.fig.suptitle('Joint Analysis of Temperature and Humidity Effects on Accident Severity', y=1.05)\n",
    "        joint_plot.set_axis_labels('Temperature (°F)', 'Humidity (%)')\n",
    "\n",
    "        # Add a color bar indicating point density\n",
    "        plt.colorbar(label='Point Density')\n",
    "\n",
    "        plt.tight_layout()\n",
    "        plt.show()"
   ]
  },
  {
   "cell_type": "code",
   "execution_count": 18,
   "metadata": {},
   "outputs": [],
   "source": [
    "def severity_distribution_map(df):\n",
    "   if {'Start_Lng', 'Start_Lat'}.issubset(df.columns):\n",
    "        gdf = gpd.GeoDataFrame(df, geometry=gpd.points_from_xy(df['Start_Lng'], df['Start_Lat']))\n",
    "\n",
    "        fig, ax = plt.subplots(figsize=(15, 10), subplot_kw={'projection': ccrs.PlateCarree()})\n",
    "\n",
    "        ax.add_feature(cfeature.COASTLINE)\n",
    "\n",
    "        ax.add_feature(cfeature.BORDERS)\n",
    "\n",
    "        gdf.plot(ax=ax, column='Severity', cmap='OrRd', legend=True, markersize=5)\n",
    "\n",
    "        ax.set_title(\"Severity Distribution by Region\")\n",
    "\n",
    "        ax.set_extent([-130, -65, 20, 55]) # Rough extent for continental US\n",
    "        \n",
    "        fig.tight_layout()\n",
    "\n",
    "        plt.show()"
   ]
  },
  {
   "cell_type": "code",
   "execution_count": 19,
   "metadata": {},
   "outputs": [],
   "source": [
    "file_path = \"./dataset.csv\""
   ]
  },
  {
   "cell_type": "code",
   "execution_count": 38,
   "metadata": {},
   "outputs": [],
   "source": [
    "df = load_data(file_path)"
   ]
  },
  {
   "cell_type": "code",
   "execution_count": 39,
   "metadata": {},
   "outputs": [],
   "source": [
    "df = clean_weather_data(df)"
   ]
  },
  {
   "cell_type": "code",
   "execution_count": null,
   "metadata": {},
   "outputs": [],
   "source": [
    "df_severe = filter_severe_accidents(df)"
   ]
  },
  {
   "cell_type": "code",
   "execution_count": 22,
   "metadata": {},
   "outputs": [],
   "source": [
    "# analyze_weather_vs_severity(df)\n",
    "# analyze_weather_vs_severity(df_severe)"
   ]
  },
  {
   "cell_type": "code",
   "execution_count": 23,
   "metadata": {},
   "outputs": [],
   "source": [
    "# analyze_temperature_ranges(df)\n",
    "# analyze_temperature_ranges(df_severe)"
   ]
  },
  {
   "cell_type": "code",
   "execution_count": 24,
   "metadata": {},
   "outputs": [],
   "source": [
    "# analyze_weather_time_of_day(df)\n",
    "# analyze_weather_time_of_day(df_severe)"
   ]
  },
  {
   "cell_type": "code",
   "execution_count": 25,
   "metadata": {},
   "outputs": [],
   "source": [
    "# analyze_visibility(df)\n",
    "# analyze_visibility(df_severe)"
   ]
  },
  {
   "cell_type": "code",
   "execution_count": 26,
   "metadata": {},
   "outputs": [],
   "source": [
    "# analyze_precipitation(df)\n",
    "# analyze_precipitation(df_severe)"
   ]
  },
  {
   "cell_type": "code",
   "execution_count": 27,
   "metadata": {},
   "outputs": [],
   "source": [
    "# wind_speed_analysis(df)\n",
    "# wind_speed_analysis(df_severe)"
   ]
  },
  {
   "cell_type": "code",
   "execution_count": 28,
   "metadata": {},
   "outputs": [],
   "source": [
    "# map_weather_conditions(df)\n",
    "# map_weather_conditions(df_severe)"
   ]
  },
  {
   "cell_type": "code",
   "execution_count": 29,
   "metadata": {},
   "outputs": [],
   "source": [
    "# analyze_monthly_accidents(df)\n",
    "# analyze_monthly_accidents(df_severe)"
   ]
  },
  {
   "cell_type": "code",
   "execution_count": 30,
   "metadata": {},
   "outputs": [],
   "source": [
    "# daily_accident_trends(df)\n",
    "# daily_accident_trends(df_severe)"
   ]
  },
  {
   "cell_type": "code",
   "execution_count": 31,
   "metadata": {},
   "outputs": [],
   "source": [
    "# weather_correlation_matrix(df)\n",
    "# weather_correlation_matrix(df_severe)"
   ]
  },
  {
   "cell_type": "code",
   "execution_count": 32,
   "metadata": {},
   "outputs": [],
   "source": [
    "# geospatial_clustering(df)\n",
    "# geospatial_clustering(df_severe)"
   ]
  },
  {
   "cell_type": "code",
   "execution_count": 33,
   "metadata": {},
   "outputs": [],
   "source": [
    "# boxplot_weather_severity(df)\n",
    "# boxplot_worst_weather_severity(df)\n",
    "\n",
    "# boxplot_weather_severity(df_severe)\n",
    "# boxplot_worst_weather_severity(df_severe)"
   ]
  },
  {
   "cell_type": "code",
   "execution_count": 35,
   "metadata": {},
   "outputs": [],
   "source": [
    "# day_night_accident_comparison(df)\n",
    "# day_night_accident_comparison(df_severe)"
   ]
  },
  {
   "cell_type": "code",
   "execution_count": 43,
   "metadata": {},
   "outputs": [],
   "source": [
    "# temperature_humidity_interaction(df)\n",
    "# temperature_humidity_interaction(df_severe)"
   ]
  },
  {
   "cell_type": "code",
   "execution_count": 45,
   "metadata": {},
   "outputs": [],
   "source": [
    "# severity_distribution_map(df)\n",
    "# severity_distribution_map(df_severe)"
   ]
  },
  {
   "cell_type": "code",
   "execution_count": null,
   "metadata": {},
   "outputs": [],
   "source": []
  }
 ],
 "metadata": {
  "kernelspec": {
   "display_name": "Python 3",
   "language": "python",
   "name": "python3"
  },
  "language_info": {
   "codemirror_mode": {
    "name": "ipython",
    "version": 3
   },
   "file_extension": ".py",
   "mimetype": "text/x-python",
   "name": "python",
   "nbconvert_exporter": "python",
   "pygments_lexer": "ipython3",
   "version": "3.12.3"
  }
 },
 "nbformat": 4,
 "nbformat_minor": 4
}
