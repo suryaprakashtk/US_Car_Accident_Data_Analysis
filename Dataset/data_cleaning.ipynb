{
 "cells": [
  {
   "cell_type": "code",
   "execution_count": 1,
   "id": "0527c5cc",
   "metadata": {
    "_cell_guid": "b1076dfc-b9ad-4769-8c92-a6c4dae69d19",
    "_uuid": "8f2839f25d086af736a60e9eeb907d3b93b6e0e5",
    "papermill": {
     "duration": 0.956669,
     "end_time": "2024-06-29T07:17:48.760732",
     "exception": false,
     "start_time": "2024-06-29T07:17:47.804063",
     "status": "completed"
    },
    "tags": []
   },
   "outputs": [],
   "source": [
    "# This Python 3 environment comes with many helpful analytics libraries installed\n",
    "# It is defined by the kaggle/python Docker image: https://github.com/kaggle/docker-python\n",
    "# For example, here's several helpful packages to load\n",
    "\n",
    "import numpy as np # linear algebra\n",
    "import pandas as pd # data processing, CSV file I/O (e.g. pd.read_csv)\n",
    "import matplotlib.pyplot as plt  # 导入 pyplot 模块并重命名为 plt\n",
    "\n",
    "# Input data files are available in the read-only \"../input/\" directory\n",
    "# For example, running this (by clicking run or pressing Shift+Enter) will list all files under the input directory\n",
    "\n",
    "import os\n",
    "for dirname, _, filenames in os.walk('/kaggle/input'):\n",
    "    for filename in filenames:\n",
    "        print(os.path.join(dirname, filename))\n",
    "\n",
    "# You can write up to 20GB to the current directory (/kaggle/working/) that gets preserved as output when you create a version using \"Save & Run All\" \n",
    "# You can also write temporary files to /kaggle/temp/, but they won't be saved outside of the current session"
   ]
  },
  {
   "cell_type": "markdown",
   "id": "950ef90a",
   "metadata": {
    "papermill": {
     "duration": 0.014387,
     "end_time": "2024-06-29T07:17:48.789949",
     "exception": false,
     "start_time": "2024-06-29T07:17:48.775562",
     "status": "completed"
    },
    "tags": []
   },
   "source": [
    "# US Accidents Exploratory Data Analysis\n",
    "\n",
    "Dataset Details - \n",
    "1. This is a countrywide car accident dataset that covers 49 states of the USA. The accident data were collected from February 2016 to March 2023. The dataset currently contains approximately 7.7 million accident records.\n",
    "2. The dataset contains over 40 columns with data ranging from the severity, start and end time of accident to city, county of the accident.\n",
    "3. It also provides information about the weather condition and road condition along with a description of the accident.\n",
    "\n",
    "Goal - \n",
    "1. Analyse the average resolution time for accidents.\n",
    "2. Idenitfy the states with the highest number of accidents. What about most accidents of high severity?\n",
    "3. Analyse impact of weather conditions on no of accidents.\n",
    "4. Determine the time of days with most frequent accidents.\n",
    "5. Visualize the year on year trend of no of accidents."
   ]
  },
  {
   "cell_type": "markdown",
   "id": "03f6dd5d",
   "metadata": {
    "papermill": {
     "duration": 0.013823,
     "end_time": "2024-06-29T07:17:48.818430",
     "exception": false,
     "start_time": "2024-06-29T07:17:48.804607",
     "status": "completed"
    },
    "tags": []
   },
   "source": [
    "## Setup Dataset as DataFrame"
   ]
  },
  {
   "cell_type": "code",
   "execution_count": 2,
   "id": "f98b9c05",
   "metadata": {
    "papermill": {
     "duration": 1.454964,
     "end_time": "2024-06-29T07:17:50.289203",
     "exception": false,
     "start_time": "2024-06-29T07:17:48.834239",
     "status": "completed"
    },
    "tags": []
   },
   "outputs": [],
   "source": [
    "import pandas as pd\n",
    "import numpy as np\n",
    "import seaborn as sns"
   ]
  },
  {
   "cell_type": "code",
   "execution_count": 3,
   "id": "0c047064",
   "metadata": {
    "papermill": {
     "duration": 138.444711,
     "end_time": "2024-06-29T07:20:08.748269",
     "exception": false,
     "start_time": "2024-06-29T07:17:50.303558",
     "status": "completed"
    },
    "tags": []
   },
   "outputs": [
    {
     "data": {
      "text/html": [
       "<div>\n",
       "<style scoped>\n",
       "    .dataframe tbody tr th:only-of-type {\n",
       "        vertical-align: middle;\n",
       "    }\n",
       "\n",
       "    .dataframe tbody tr th {\n",
       "        vertical-align: top;\n",
       "    }\n",
       "\n",
       "    .dataframe thead th {\n",
       "        text-align: right;\n",
       "    }\n",
       "</style>\n",
       "<table border=\"1\" class=\"dataframe\">\n",
       "  <thead>\n",
       "    <tr style=\"text-align: right;\">\n",
       "      <th></th>\n",
       "      <th>ID</th>\n",
       "      <th>Source</th>\n",
       "      <th>Severity</th>\n",
       "      <th>Start_Time</th>\n",
       "      <th>End_Time</th>\n",
       "      <th>Start_Lat</th>\n",
       "      <th>Start_Lng</th>\n",
       "      <th>End_Lat</th>\n",
       "      <th>End_Lng</th>\n",
       "      <th>Distance(mi)</th>\n",
       "      <th>...</th>\n",
       "      <th>Roundabout</th>\n",
       "      <th>Station</th>\n",
       "      <th>Stop</th>\n",
       "      <th>Traffic_Calming</th>\n",
       "      <th>Traffic_Signal</th>\n",
       "      <th>Turning_Loop</th>\n",
       "      <th>Sunrise_Sunset</th>\n",
       "      <th>Civil_Twilight</th>\n",
       "      <th>Nautical_Twilight</th>\n",
       "      <th>Astronomical_Twilight</th>\n",
       "    </tr>\n",
       "  </thead>\n",
       "  <tbody>\n",
       "    <tr>\n",
       "      <th>0</th>\n",
       "      <td>A-2047758</td>\n",
       "      <td>Source2</td>\n",
       "      <td>2</td>\n",
       "      <td>2019-06-12 10:10:56</td>\n",
       "      <td>2019-06-12 10:55:58</td>\n",
       "      <td>30.641211</td>\n",
       "      <td>-91.153481</td>\n",
       "      <td>NaN</td>\n",
       "      <td>NaN</td>\n",
       "      <td>0.000</td>\n",
       "      <td>...</td>\n",
       "      <td>False</td>\n",
       "      <td>False</td>\n",
       "      <td>False</td>\n",
       "      <td>False</td>\n",
       "      <td>True</td>\n",
       "      <td>False</td>\n",
       "      <td>Day</td>\n",
       "      <td>Day</td>\n",
       "      <td>Day</td>\n",
       "      <td>Day</td>\n",
       "    </tr>\n",
       "    <tr>\n",
       "      <th>1</th>\n",
       "      <td>A-4694324</td>\n",
       "      <td>Source1</td>\n",
       "      <td>2</td>\n",
       "      <td>2022-12-03 23:37:14.000000000</td>\n",
       "      <td>2022-12-04 01:56:53.000000000</td>\n",
       "      <td>38.990562</td>\n",
       "      <td>-77.399070</td>\n",
       "      <td>38.990037</td>\n",
       "      <td>-77.398282</td>\n",
       "      <td>0.056</td>\n",
       "      <td>...</td>\n",
       "      <td>False</td>\n",
       "      <td>False</td>\n",
       "      <td>False</td>\n",
       "      <td>False</td>\n",
       "      <td>False</td>\n",
       "      <td>False</td>\n",
       "      <td>Night</td>\n",
       "      <td>Night</td>\n",
       "      <td>Night</td>\n",
       "      <td>Night</td>\n",
       "    </tr>\n",
       "    <tr>\n",
       "      <th>2</th>\n",
       "      <td>A-5006183</td>\n",
       "      <td>Source1</td>\n",
       "      <td>2</td>\n",
       "      <td>2022-08-20 13:13:00.000000000</td>\n",
       "      <td>2022-08-20 15:22:45.000000000</td>\n",
       "      <td>34.661189</td>\n",
       "      <td>-120.492822</td>\n",
       "      <td>34.661189</td>\n",
       "      <td>-120.492442</td>\n",
       "      <td>0.022</td>\n",
       "      <td>...</td>\n",
       "      <td>False</td>\n",
       "      <td>False</td>\n",
       "      <td>False</td>\n",
       "      <td>False</td>\n",
       "      <td>True</td>\n",
       "      <td>False</td>\n",
       "      <td>Day</td>\n",
       "      <td>Day</td>\n",
       "      <td>Day</td>\n",
       "      <td>Day</td>\n",
       "    </tr>\n",
       "    <tr>\n",
       "      <th>3</th>\n",
       "      <td>A-4237356</td>\n",
       "      <td>Source1</td>\n",
       "      <td>2</td>\n",
       "      <td>2022-02-21 17:43:04</td>\n",
       "      <td>2022-02-21 19:43:23</td>\n",
       "      <td>43.680592</td>\n",
       "      <td>-92.993317</td>\n",
       "      <td>43.680574</td>\n",
       "      <td>-92.972223</td>\n",
       "      <td>1.054</td>\n",
       "      <td>...</td>\n",
       "      <td>False</td>\n",
       "      <td>False</td>\n",
       "      <td>False</td>\n",
       "      <td>False</td>\n",
       "      <td>False</td>\n",
       "      <td>False</td>\n",
       "      <td>Day</td>\n",
       "      <td>Day</td>\n",
       "      <td>Day</td>\n",
       "      <td>Day</td>\n",
       "    </tr>\n",
       "    <tr>\n",
       "      <th>4</th>\n",
       "      <td>A-6690583</td>\n",
       "      <td>Source1</td>\n",
       "      <td>2</td>\n",
       "      <td>2020-12-04 01:46:00</td>\n",
       "      <td>2020-12-04 04:13:09</td>\n",
       "      <td>35.395484</td>\n",
       "      <td>-118.985176</td>\n",
       "      <td>35.395476</td>\n",
       "      <td>-118.985995</td>\n",
       "      <td>0.046</td>\n",
       "      <td>...</td>\n",
       "      <td>False</td>\n",
       "      <td>False</td>\n",
       "      <td>False</td>\n",
       "      <td>False</td>\n",
       "      <td>False</td>\n",
       "      <td>False</td>\n",
       "      <td>Night</td>\n",
       "      <td>Night</td>\n",
       "      <td>Night</td>\n",
       "      <td>Night</td>\n",
       "    </tr>\n",
       "    <tr>\n",
       "      <th>...</th>\n",
       "      <td>...</td>\n",
       "      <td>...</td>\n",
       "      <td>...</td>\n",
       "      <td>...</td>\n",
       "      <td>...</td>\n",
       "      <td>...</td>\n",
       "      <td>...</td>\n",
       "      <td>...</td>\n",
       "      <td>...</td>\n",
       "      <td>...</td>\n",
       "      <td>...</td>\n",
       "      <td>...</td>\n",
       "      <td>...</td>\n",
       "      <td>...</td>\n",
       "      <td>...</td>\n",
       "      <td>...</td>\n",
       "      <td>...</td>\n",
       "      <td>...</td>\n",
       "      <td>...</td>\n",
       "      <td>...</td>\n",
       "      <td>...</td>\n",
       "    </tr>\n",
       "    <tr>\n",
       "      <th>499995</th>\n",
       "      <td>A-6077227</td>\n",
       "      <td>Source1</td>\n",
       "      <td>2</td>\n",
       "      <td>2021-12-15 07:30:00</td>\n",
       "      <td>2021-12-15 07:50:30</td>\n",
       "      <td>45.522510</td>\n",
       "      <td>-123.084104</td>\n",
       "      <td>45.520225</td>\n",
       "      <td>-123.084211</td>\n",
       "      <td>0.158</td>\n",
       "      <td>...</td>\n",
       "      <td>False</td>\n",
       "      <td>False</td>\n",
       "      <td>False</td>\n",
       "      <td>False</td>\n",
       "      <td>False</td>\n",
       "      <td>False</td>\n",
       "      <td>Night</td>\n",
       "      <td>Day</td>\n",
       "      <td>Day</td>\n",
       "      <td>Day</td>\n",
       "    </tr>\n",
       "    <tr>\n",
       "      <th>499996</th>\n",
       "      <td>A-6323243</td>\n",
       "      <td>Source1</td>\n",
       "      <td>2</td>\n",
       "      <td>2021-12-19 16:25:00</td>\n",
       "      <td>2021-12-19 17:40:37</td>\n",
       "      <td>26.702570</td>\n",
       "      <td>-80.111169</td>\n",
       "      <td>26.703141</td>\n",
       "      <td>-80.111133</td>\n",
       "      <td>0.040</td>\n",
       "      <td>...</td>\n",
       "      <td>False</td>\n",
       "      <td>False</td>\n",
       "      <td>False</td>\n",
       "      <td>False</td>\n",
       "      <td>False</td>\n",
       "      <td>False</td>\n",
       "      <td>Day</td>\n",
       "      <td>Day</td>\n",
       "      <td>Day</td>\n",
       "      <td>Day</td>\n",
       "    </tr>\n",
       "    <tr>\n",
       "      <th>499997</th>\n",
       "      <td>A-3789256</td>\n",
       "      <td>Source1</td>\n",
       "      <td>2</td>\n",
       "      <td>2022-04-13 19:28:29</td>\n",
       "      <td>2022-04-13 21:33:44</td>\n",
       "      <td>34.561862</td>\n",
       "      <td>-112.259620</td>\n",
       "      <td>34.566822</td>\n",
       "      <td>-112.267150</td>\n",
       "      <td>0.549</td>\n",
       "      <td>...</td>\n",
       "      <td>False</td>\n",
       "      <td>False</td>\n",
       "      <td>False</td>\n",
       "      <td>False</td>\n",
       "      <td>True</td>\n",
       "      <td>False</td>\n",
       "      <td>Night</td>\n",
       "      <td>Night</td>\n",
       "      <td>Day</td>\n",
       "      <td>Day</td>\n",
       "    </tr>\n",
       "    <tr>\n",
       "      <th>499998</th>\n",
       "      <td>A-7030381</td>\n",
       "      <td>Source1</td>\n",
       "      <td>3</td>\n",
       "      <td>2020-05-15 17:20:56</td>\n",
       "      <td>2020-05-15 17:50:56</td>\n",
       "      <td>38.406680</td>\n",
       "      <td>-78.619310</td>\n",
       "      <td>38.406680</td>\n",
       "      <td>-78.619310</td>\n",
       "      <td>0.000</td>\n",
       "      <td>...</td>\n",
       "      <td>False</td>\n",
       "      <td>False</td>\n",
       "      <td>False</td>\n",
       "      <td>False</td>\n",
       "      <td>True</td>\n",
       "      <td>False</td>\n",
       "      <td>Day</td>\n",
       "      <td>Day</td>\n",
       "      <td>Day</td>\n",
       "      <td>Day</td>\n",
       "    </tr>\n",
       "    <tr>\n",
       "      <th>499999</th>\n",
       "      <td>A-5438901</td>\n",
       "      <td>Source1</td>\n",
       "      <td>2</td>\n",
       "      <td>2022-04-02 23:23:13</td>\n",
       "      <td>2022-04-03 00:49:48</td>\n",
       "      <td>35.069358</td>\n",
       "      <td>-85.234410</td>\n",
       "      <td>35.070505</td>\n",
       "      <td>-85.233836</td>\n",
       "      <td>0.086</td>\n",
       "      <td>...</td>\n",
       "      <td>False</td>\n",
       "      <td>False</td>\n",
       "      <td>False</td>\n",
       "      <td>False</td>\n",
       "      <td>False</td>\n",
       "      <td>False</td>\n",
       "      <td>Night</td>\n",
       "      <td>Night</td>\n",
       "      <td>Night</td>\n",
       "      <td>Night</td>\n",
       "    </tr>\n",
       "  </tbody>\n",
       "</table>\n",
       "<p>500000 rows × 46 columns</p>\n",
       "</div>"
      ],
      "text/plain": [
       "               ID   Source  Severity                     Start_Time  \\\n",
       "0       A-2047758  Source2         2            2019-06-12 10:10:56   \n",
       "1       A-4694324  Source1         2  2022-12-03 23:37:14.000000000   \n",
       "2       A-5006183  Source1         2  2022-08-20 13:13:00.000000000   \n",
       "3       A-4237356  Source1         2            2022-02-21 17:43:04   \n",
       "4       A-6690583  Source1         2            2020-12-04 01:46:00   \n",
       "...           ...      ...       ...                            ...   \n",
       "499995  A-6077227  Source1         2            2021-12-15 07:30:00   \n",
       "499996  A-6323243  Source1         2            2021-12-19 16:25:00   \n",
       "499997  A-3789256  Source1         2            2022-04-13 19:28:29   \n",
       "499998  A-7030381  Source1         3            2020-05-15 17:20:56   \n",
       "499999  A-5438901  Source1         2            2022-04-02 23:23:13   \n",
       "\n",
       "                             End_Time  Start_Lat   Start_Lng    End_Lat  \\\n",
       "0                 2019-06-12 10:55:58  30.641211  -91.153481        NaN   \n",
       "1       2022-12-04 01:56:53.000000000  38.990562  -77.399070  38.990037   \n",
       "2       2022-08-20 15:22:45.000000000  34.661189 -120.492822  34.661189   \n",
       "3                 2022-02-21 19:43:23  43.680592  -92.993317  43.680574   \n",
       "4                 2020-12-04 04:13:09  35.395484 -118.985176  35.395476   \n",
       "...                               ...        ...         ...        ...   \n",
       "499995            2021-12-15 07:50:30  45.522510 -123.084104  45.520225   \n",
       "499996            2021-12-19 17:40:37  26.702570  -80.111169  26.703141   \n",
       "499997            2022-04-13 21:33:44  34.561862 -112.259620  34.566822   \n",
       "499998            2020-05-15 17:50:56  38.406680  -78.619310  38.406680   \n",
       "499999            2022-04-03 00:49:48  35.069358  -85.234410  35.070505   \n",
       "\n",
       "           End_Lng  Distance(mi)  ... Roundabout Station   Stop  \\\n",
       "0              NaN         0.000  ...      False   False  False   \n",
       "1       -77.398282         0.056  ...      False   False  False   \n",
       "2      -120.492442         0.022  ...      False   False  False   \n",
       "3       -92.972223         1.054  ...      False   False  False   \n",
       "4      -118.985995         0.046  ...      False   False  False   \n",
       "...            ...           ...  ...        ...     ...    ...   \n",
       "499995 -123.084211         0.158  ...      False   False  False   \n",
       "499996  -80.111133         0.040  ...      False   False  False   \n",
       "499997 -112.267150         0.549  ...      False   False  False   \n",
       "499998  -78.619310         0.000  ...      False   False  False   \n",
       "499999  -85.233836         0.086  ...      False   False  False   \n",
       "\n",
       "       Traffic_Calming Traffic_Signal Turning_Loop Sunrise_Sunset  \\\n",
       "0                False           True        False            Day   \n",
       "1                False          False        False          Night   \n",
       "2                False           True        False            Day   \n",
       "3                False          False        False            Day   \n",
       "4                False          False        False          Night   \n",
       "...                ...            ...          ...            ...   \n",
       "499995           False          False        False          Night   \n",
       "499996           False          False        False            Day   \n",
       "499997           False           True        False          Night   \n",
       "499998           False           True        False            Day   \n",
       "499999           False          False        False          Night   \n",
       "\n",
       "       Civil_Twilight Nautical_Twilight Astronomical_Twilight  \n",
       "0                 Day               Day                   Day  \n",
       "1               Night             Night                 Night  \n",
       "2                 Day               Day                   Day  \n",
       "3                 Day               Day                   Day  \n",
       "4               Night             Night                 Night  \n",
       "...               ...               ...                   ...  \n",
       "499995            Day               Day                   Day  \n",
       "499996            Day               Day                   Day  \n",
       "499997          Night               Day                   Day  \n",
       "499998            Day               Day                   Day  \n",
       "499999          Night             Night                 Night  \n",
       "\n",
       "[500000 rows x 46 columns]"
      ]
     },
     "execution_count": 3,
     "metadata": {},
     "output_type": "execute_result"
    }
   ],
   "source": [
    "df = pd.read_csv(r'D:\\zhuomianshangdedawu\\US_Accidents_March23_sampled_500k\\US_Accidents_March23_sampled_500k.csv')\n"
   ]
  },
  {
   "cell_type": "markdown",
   "id": "71f580b1",
   "metadata": {
    "papermill": {
     "duration": 0.014468,
     "end_time": "2024-06-29T07:20:08.777402",
     "exception": false,
     "start_time": "2024-06-29T07:20:08.762934",
     "status": "completed"
    },
    "tags": []
   },
   "source": [
    "## Perform Data Preparation and Cleaning\n",
    "\n",
    "- Look at dataframe details.\n",
    "- Identify and correct invalid or NA values"
   ]
  },
  {
   "cell_type": "code",
   "execution_count": 4,
   "id": "b157881d",
   "metadata": {
    "papermill": {
     "duration": 0.043237,
     "end_time": "2024-06-29T07:20:08.835585",
     "exception": false,
     "start_time": "2024-06-29T07:20:08.792348",
     "status": "completed"
    },
    "tags": []
   },
   "outputs": [
    {
     "name": "stdout",
     "output_type": "stream",
     "text": [
      "<class 'pandas.core.frame.DataFrame'>\n",
      "RangeIndex: 500000 entries, 0 to 499999\n",
      "Data columns (total 46 columns):\n",
      " #   Column                 Non-Null Count   Dtype  \n",
      "---  ------                 --------------   -----  \n",
      " 0   ID                     500000 non-null  object \n",
      " 1   Source                 500000 non-null  object \n",
      " 2   Severity               500000 non-null  int64  \n",
      " 3   Start_Time             500000 non-null  object \n",
      " 4   End_Time               500000 non-null  object \n",
      " 5   Start_Lat              500000 non-null  float64\n",
      " 6   Start_Lng              500000 non-null  float64\n",
      " 7   End_Lat                279623 non-null  float64\n",
      " 8   End_Lng                279623 non-null  float64\n",
      " 9   Distance(mi)           500000 non-null  float64\n",
      " 10  Description            499999 non-null  object \n",
      " 11  Street                 499309 non-null  object \n",
      " 12  City                   499981 non-null  object \n",
      " 13  County                 500000 non-null  object \n",
      " 14  State                  500000 non-null  object \n",
      " 15  Zipcode                499884 non-null  object \n",
      " 16  Country                500000 non-null  object \n",
      " 17  Timezone               499493 non-null  object \n",
      " 18  Airport_Code           498554 non-null  object \n",
      " 19  Weather_Timestamp      492326 non-null  object \n",
      " 20  Temperature(F)         489534 non-null  float64\n",
      " 21  Wind_Chill(F)          370983 non-null  float64\n",
      " 22  Humidity(%)            488870 non-null  float64\n",
      " 23  Pressure(in)           491072 non-null  float64\n",
      " 24  Visibility(mi)         488709 non-null  float64\n",
      " 25  Wind_Direction         488803 non-null  object \n",
      " 26  Wind_Speed(mph)        463013 non-null  float64\n",
      " 27  Precipitation(in)      357384 non-null  float64\n",
      " 28  Weather_Condition      488899 non-null  object \n",
      " 29  Amenity                500000 non-null  bool   \n",
      " 30  Bump                   500000 non-null  bool   \n",
      " 31  Crossing               500000 non-null  bool   \n",
      " 32  Give_Way               500000 non-null  bool   \n",
      " 33  Junction               500000 non-null  bool   \n",
      " 34  No_Exit                500000 non-null  bool   \n",
      " 35  Railway                500000 non-null  bool   \n",
      " 36  Roundabout             500000 non-null  bool   \n",
      " 37  Station                500000 non-null  bool   \n",
      " 38  Stop                   500000 non-null  bool   \n",
      " 39  Traffic_Calming        500000 non-null  bool   \n",
      " 40  Traffic_Signal         500000 non-null  bool   \n",
      " 41  Turning_Loop           500000 non-null  bool   \n",
      " 42  Sunrise_Sunset         498517 non-null  object \n",
      " 43  Civil_Twilight         498517 non-null  object \n",
      " 44  Nautical_Twilight      498517 non-null  object \n",
      " 45  Astronomical_Twilight  498517 non-null  object \n",
      "dtypes: bool(13), float64(12), int64(1), object(20)\n",
      "memory usage: 132.1+ MB\n"
     ]
    }
   ],
   "source": [
    "df.info()"
   ]
  },
  {
   "cell_type": "code",
   "execution_count": 5,
   "id": "da6fefd7",
   "metadata": {
    "papermill": {
     "duration": 41.961402,
     "end_time": "2024-06-29T07:20:50.812372",
     "exception": false,
     "start_time": "2024-06-29T07:20:08.850970",
     "status": "completed"
    },
    "tags": []
   },
   "outputs": [
    {
     "data": {
      "text/plain": [
       "ID                       500000\n",
       "Source                        3\n",
       "Severity                      4\n",
       "Start_Time               487027\n",
       "End_Time                 493821\n",
       "Start_Lat                368965\n",
       "Start_Lng                370195\n",
       "End_Lat                  220333\n",
       "End_Lng                  221463\n",
       "Distance(mi)              10627\n",
       "Description              408146\n",
       "Street                    88272\n",
       "City                       9488\n",
       "County                     1606\n",
       "State                        49\n",
       "Zipcode                  127804\n",
       "Country                       1\n",
       "Timezone                      4\n",
       "Airport_Code               1878\n",
       "Weather_Timestamp        255623\n",
       "Temperature(F)              712\n",
       "Wind_Chill(F)               797\n",
       "Humidity(%)                 100\n",
       "Pressure(in)                980\n",
       "Visibility(mi)               65\n",
       "Wind_Direction               24\n",
       "Wind_Speed(mph)              95\n",
       "Precipitation(in)           175\n",
       "Weather_Condition           108\n",
       "Amenity                       2\n",
       "Bump                          2\n",
       "Crossing                      2\n",
       "Give_Way                      2\n",
       "Junction                      2\n",
       "No_Exit                       2\n",
       "Railway                       2\n",
       "Roundabout                    2\n",
       "Station                       2\n",
       "Stop                          2\n",
       "Traffic_Calming               2\n",
       "Traffic_Signal                2\n",
       "Turning_Loop                  1\n",
       "Sunrise_Sunset                2\n",
       "Civil_Twilight                2\n",
       "Nautical_Twilight             2\n",
       "Astronomical_Twilight         2\n",
       "dtype: int64"
      ]
     },
     "execution_count": 5,
     "metadata": {},
     "output_type": "execute_result"
    }
   ],
   "source": [
    "df.nunique()\n",
    "# can use source, severity as category"
   ]
  },
  {
   "cell_type": "code",
   "execution_count": 6,
   "id": "db730af6",
   "metadata": {
    "papermill": {
     "duration": 4.802165,
     "end_time": "2024-06-29T07:20:55.629886",
     "exception": false,
     "start_time": "2024-06-29T07:20:50.827721",
     "status": "completed"
    },
    "tags": []
   },
   "outputs": [
    {
     "data": {
      "text/html": [
       "<div>\n",
       "<style scoped>\n",
       "    .dataframe tbody tr th:only-of-type {\n",
       "        vertical-align: middle;\n",
       "    }\n",
       "\n",
       "    .dataframe tbody tr th {\n",
       "        vertical-align: top;\n",
       "    }\n",
       "\n",
       "    .dataframe thead th {\n",
       "        text-align: right;\n",
       "    }\n",
       "</style>\n",
       "<table border=\"1\" class=\"dataframe\">\n",
       "  <thead>\n",
       "    <tr style=\"text-align: right;\">\n",
       "      <th></th>\n",
       "      <th>Severity</th>\n",
       "      <th>Start_Lat</th>\n",
       "      <th>Start_Lng</th>\n",
       "      <th>End_Lat</th>\n",
       "      <th>End_Lng</th>\n",
       "      <th>Distance(mi)</th>\n",
       "      <th>Temperature(F)</th>\n",
       "      <th>Wind_Chill(F)</th>\n",
       "      <th>Humidity(%)</th>\n",
       "      <th>Pressure(in)</th>\n",
       "      <th>Visibility(mi)</th>\n",
       "      <th>Wind_Speed(mph)</th>\n",
       "      <th>Precipitation(in)</th>\n",
       "    </tr>\n",
       "  </thead>\n",
       "  <tbody>\n",
       "    <tr>\n",
       "      <th>count</th>\n",
       "      <td>500000.000000</td>\n",
       "      <td>500000.000000</td>\n",
       "      <td>500000.000000</td>\n",
       "      <td>279623.000000</td>\n",
       "      <td>279623.000000</td>\n",
       "      <td>500000.000000</td>\n",
       "      <td>489534.000000</td>\n",
       "      <td>370983.000000</td>\n",
       "      <td>488870.000000</td>\n",
       "      <td>491072.000000</td>\n",
       "      <td>488709.000000</td>\n",
       "      <td>463013.000000</td>\n",
       "      <td>357384.000000</td>\n",
       "    </tr>\n",
       "    <tr>\n",
       "      <th>mean</th>\n",
       "      <td>2.212748</td>\n",
       "      <td>36.206421</td>\n",
       "      <td>-94.736583</td>\n",
       "      <td>36.273192</td>\n",
       "      <td>-95.776553</td>\n",
       "      <td>0.564317</td>\n",
       "      <td>61.646254</td>\n",
       "      <td>58.229028</td>\n",
       "      <td>64.834921</td>\n",
       "      <td>29.536621</td>\n",
       "      <td>9.091540</td>\n",
       "      <td>7.681347</td>\n",
       "      <td>0.008289</td>\n",
       "    </tr>\n",
       "    <tr>\n",
       "      <th>std</th>\n",
       "      <td>0.486661</td>\n",
       "      <td>5.071411</td>\n",
       "      <td>17.405761</td>\n",
       "      <td>5.265333</td>\n",
       "      <td>18.120211</td>\n",
       "      <td>1.774872</td>\n",
       "      <td>19.000133</td>\n",
       "      <td>22.352246</td>\n",
       "      <td>22.826158</td>\n",
       "      <td>1.008666</td>\n",
       "      <td>2.708083</td>\n",
       "      <td>5.431361</td>\n",
       "      <td>0.101865</td>\n",
       "    </tr>\n",
       "    <tr>\n",
       "      <th>min</th>\n",
       "      <td>1.000000</td>\n",
       "      <td>24.562117</td>\n",
       "      <td>-124.497420</td>\n",
       "      <td>24.570110</td>\n",
       "      <td>-124.497419</td>\n",
       "      <td>0.000000</td>\n",
       "      <td>-77.800000</td>\n",
       "      <td>-53.200000</td>\n",
       "      <td>1.000000</td>\n",
       "      <td>0.120000</td>\n",
       "      <td>0.000000</td>\n",
       "      <td>0.000000</td>\n",
       "      <td>0.000000</td>\n",
       "    </tr>\n",
       "    <tr>\n",
       "      <th>25%</th>\n",
       "      <td>2.000000</td>\n",
       "      <td>33.416823</td>\n",
       "      <td>-117.233047</td>\n",
       "      <td>33.474773</td>\n",
       "      <td>-117.778324</td>\n",
       "      <td>0.000000</td>\n",
       "      <td>49.000000</td>\n",
       "      <td>43.000000</td>\n",
       "      <td>48.000000</td>\n",
       "      <td>29.370000</td>\n",
       "      <td>10.000000</td>\n",
       "      <td>4.600000</td>\n",
       "      <td>0.000000</td>\n",
       "    </tr>\n",
       "    <tr>\n",
       "      <th>50%</th>\n",
       "      <td>2.000000</td>\n",
       "      <td>35.832147</td>\n",
       "      <td>-87.794365</td>\n",
       "      <td>36.192669</td>\n",
       "      <td>-88.039013</td>\n",
       "      <td>0.029000</td>\n",
       "      <td>64.000000</td>\n",
       "      <td>62.000000</td>\n",
       "      <td>67.000000</td>\n",
       "      <td>29.860000</td>\n",
       "      <td>10.000000</td>\n",
       "      <td>7.000000</td>\n",
       "      <td>0.000000</td>\n",
       "    </tr>\n",
       "    <tr>\n",
       "      <th>75%</th>\n",
       "      <td>2.000000</td>\n",
       "      <td>40.082443</td>\n",
       "      <td>-80.359601</td>\n",
       "      <td>40.181341</td>\n",
       "      <td>-80.252449</td>\n",
       "      <td>0.465000</td>\n",
       "      <td>76.000000</td>\n",
       "      <td>75.000000</td>\n",
       "      <td>84.000000</td>\n",
       "      <td>30.030000</td>\n",
       "      <td>10.000000</td>\n",
       "      <td>10.400000</td>\n",
       "      <td>0.000000</td>\n",
       "    </tr>\n",
       "    <tr>\n",
       "      <th>max</th>\n",
       "      <td>4.000000</td>\n",
       "      <td>48.999569</td>\n",
       "      <td>-67.484130</td>\n",
       "      <td>48.998901</td>\n",
       "      <td>-67.484130</td>\n",
       "      <td>193.479996</td>\n",
       "      <td>207.000000</td>\n",
       "      <td>207.000000</td>\n",
       "      <td>100.000000</td>\n",
       "      <td>38.440000</td>\n",
       "      <td>130.000000</td>\n",
       "      <td>822.800000</td>\n",
       "      <td>10.130000</td>\n",
       "    </tr>\n",
       "  </tbody>\n",
       "</table>\n",
       "</div>"
      ],
      "text/plain": [
       "            Severity      Start_Lat      Start_Lng        End_Lat  \\\n",
       "count  500000.000000  500000.000000  500000.000000  279623.000000   \n",
       "mean        2.212748      36.206421     -94.736583      36.273192   \n",
       "std         0.486661       5.071411      17.405761       5.265333   \n",
       "min         1.000000      24.562117    -124.497420      24.570110   \n",
       "25%         2.000000      33.416823    -117.233047      33.474773   \n",
       "50%         2.000000      35.832147     -87.794365      36.192669   \n",
       "75%         2.000000      40.082443     -80.359601      40.181341   \n",
       "max         4.000000      48.999569     -67.484130      48.998901   \n",
       "\n",
       "             End_Lng   Distance(mi)  Temperature(F)  Wind_Chill(F)  \\\n",
       "count  279623.000000  500000.000000   489534.000000  370983.000000   \n",
       "mean      -95.776553       0.564317       61.646254      58.229028   \n",
       "std        18.120211       1.774872       19.000133      22.352246   \n",
       "min      -124.497419       0.000000      -77.800000     -53.200000   \n",
       "25%      -117.778324       0.000000       49.000000      43.000000   \n",
       "50%       -88.039013       0.029000       64.000000      62.000000   \n",
       "75%       -80.252449       0.465000       76.000000      75.000000   \n",
       "max       -67.484130     193.479996      207.000000     207.000000   \n",
       "\n",
       "         Humidity(%)   Pressure(in)  Visibility(mi)  Wind_Speed(mph)  \\\n",
       "count  488870.000000  491072.000000   488709.000000    463013.000000   \n",
       "mean       64.834921      29.536621        9.091540         7.681347   \n",
       "std        22.826158       1.008666        2.708083         5.431361   \n",
       "min         1.000000       0.120000        0.000000         0.000000   \n",
       "25%        48.000000      29.370000       10.000000         4.600000   \n",
       "50%        67.000000      29.860000       10.000000         7.000000   \n",
       "75%        84.000000      30.030000       10.000000        10.400000   \n",
       "max       100.000000      38.440000      130.000000       822.800000   \n",
       "\n",
       "       Precipitation(in)  \n",
       "count      357384.000000  \n",
       "mean            0.008289  \n",
       "std             0.101865  \n",
       "min             0.000000  \n",
       "25%             0.000000  \n",
       "50%             0.000000  \n",
       "75%             0.000000  \n",
       "max            10.130000  "
      ]
     },
     "execution_count": 6,
     "metadata": {},
     "output_type": "execute_result"
    }
   ],
   "source": [
    "df.describe()"
   ]
  },
  {
   "cell_type": "code",
   "execution_count": 7,
   "id": "3ce42f90",
   "metadata": {
    "papermill": {
     "duration": 0.323652,
     "end_time": "2024-06-29T07:20:55.969269",
     "exception": false,
     "start_time": "2024-06-29T07:20:55.645617",
     "status": "completed"
    },
    "tags": []
   },
   "outputs": [
    {
     "data": {
      "text/plain": [
       "13"
      ]
     },
     "execution_count": 7,
     "metadata": {},
     "output_type": "execute_result"
    }
   ],
   "source": [
    "# Getting count of numeric columns i9n dataset\n",
    "numerics = ['int16', 'int32', 'int64', 'float16', 'float32', 'float64']\n",
    "numeric_df = df.select_dtypes(include = numerics)\n",
    "len(numeric_df.columns)"
   ]
  },
  {
   "cell_type": "code",
   "execution_count": 8,
   "id": "d6f3c0ad",
   "metadata": {
    "papermill": {
     "duration": 17.383231,
     "end_time": "2024-06-29T07:21:13.368408",
     "exception": false,
     "start_time": "2024-06-29T07:20:55.985177",
     "status": "completed"
    },
    "tags": []
   },
   "outputs": [
    {
     "data": {
      "text/plain": [
       "<Axes: >"
      ]
     },
     "execution_count": 8,
     "metadata": {},
     "output_type": "execute_result"
    },
    {
     "data": {
      "image/png": "[encoded data removed]",
      "text/plain": [
       "<Figure size 640x480 with 1 Axes>"
      ]
     },
     "metadata": {},
     "output_type": "display_data"
    }
   ],
   "source": [
    "# Percent of missing values per column\n",
    "percent_missing = df.isnull().sum().sort_values(ascending = False) * 100 / len(df)\n",
    "percent_missing[percent_missing!= 0].plot(kind = 'barh')\n",
    "\n",
    "# Usually columns with greater then 50% missing percent can be dropped."
   ]
  },
  {
   "cell_type": "markdown",
   "id": "ef8298c0",
   "metadata": {
    "papermill": {
     "duration": 0.016753,
     "end_time": "2024-06-29T07:21:13.401994",
     "exception": false,
     "start_time": "2024-06-29T07:21:13.385241",
     "status": "completed"
    },
    "tags": []
   },
   "source": [
    "## Perform Exploratory Analysis and Visualization\n",
    "\n",
    "### Columns to analyse \n",
    "- Start_Time \n",
    "- End_Time\n",
    "- State\n",
    "- Severity\n",
    "- Weather_Condition\n",
    "\n",
    "### Relations to Visualize\n",
    "- Accidents per State\n",
    "- Accidents by Severity per State\n",
    "- Accidents by Weather Condition\n",
    "- Average Resolution Time based on Severity of accidents\n",
    "- Year on Year Trend of no of accidents"
   ]
  },
  {
   "cell_type": "markdown",
   "id": "b939f358",
   "metadata": {
    "papermill": {
     "duration": 0.016447,
     "end_time": "2024-06-29T07:21:13.435417",
     "exception": false,
     "start_time": "2024-06-29T07:21:13.418970",
     "status": "completed"
    },
    "tags": []
   },
   "source": [
    "### Analyze State"
   ]
  },
  {
   "cell_type": "code",
   "execution_count": 9,
   "id": "a4725c12",
   "metadata": {
    "papermill": {
     "duration": 2.038567,
     "end_time": "2024-06-29T07:21:15.490768",
     "exception": false,
     "start_time": "2024-06-29T07:21:13.452201",
     "status": "completed"
    },
    "tags": []
   },
   "outputs": [
    {
     "data": {
      "text/html": [
       "<div>\n",
       "<style scoped>\n",
       "    .dataframe tbody tr th:only-of-type {\n",
       "        vertical-align: middle;\n",
       "    }\n",
       "\n",
       "    .dataframe tbody tr th {\n",
       "        vertical-align: top;\n",
       "    }\n",
       "\n",
       "    .dataframe thead th {\n",
       "        text-align: right;\n",
       "    }\n",
       "</style>\n",
       "<table border=\"1\" class=\"dataframe\">\n",
       "  <thead>\n",
       "    <tr style=\"text-align: right;\">\n",
       "      <th></th>\n",
       "      <th>State</th>\n",
       "      <th>Count</th>\n",
       "    </tr>\n",
       "  </thead>\n",
       "  <tbody>\n",
       "    <tr>\n",
       "      <th>0</th>\n",
       "      <td>CA</td>\n",
       "      <td>113274</td>\n",
       "    </tr>\n",
       "    <tr>\n",
       "      <th>1</th>\n",
       "      <td>FL</td>\n",
       "      <td>56710</td>\n",
       "    </tr>\n",
       "    <tr>\n",
       "      <th>2</th>\n",
       "      <td>TX</td>\n",
       "      <td>37355</td>\n",
       "    </tr>\n",
       "    <tr>\n",
       "      <th>3</th>\n",
       "      <td>SC</td>\n",
       "      <td>24737</td>\n",
       "    </tr>\n",
       "    <tr>\n",
       "      <th>4</th>\n",
       "      <td>NY</td>\n",
       "      <td>22594</td>\n",
       "    </tr>\n",
       "  </tbody>\n",
       "</table>\n",
       "</div>"
      ],
      "text/plain": [
       "  State   Count\n",
       "0    CA  113274\n",
       "1    FL   56710\n",
       "2    TX   37355\n",
       "3    SC   24737\n",
       "4    NY   22594"
      ]
     },
     "execution_count": 9,
     "metadata": {},
     "output_type": "execute_result"
    }
   ],
   "source": [
    "states = df.State.unique()\n",
    "len(states) # output - 49\n",
    "states_by_accidents = df.State.value_counts().reset_index(name='Count')\n",
    "# states_by_accidents.sort_values('Count', ascending = False)\n",
    "states_by_accidents.head()"
   ]
  },
  {
   "cell_type": "code",
   "execution_count": 10,
   "id": "e533b359",
   "metadata": {
    "papermill": {
     "duration": 0.034414,
     "end_time": "2024-06-29T07:21:15.542362",
     "exception": false,
     "start_time": "2024-06-29T07:21:15.507948",
     "status": "completed"
    },
    "tags": []
   },
   "outputs": [
    {
     "name": "stdout",
     "output_type": "stream",
     "text": [
      "5\n",
      "20\n"
     ]
    },
    {
     "data": {
      "text/plain": [
       "10.204081632653061"
      ]
     },
     "execution_count": 10,
     "metadata": {},
     "output_type": "execute_result"
    }
   ],
   "source": [
    "high_accident_states = states_by_accidents[states_by_accidents['Count'] >=  states_by_accidents['Count'].quantile(0.9)]\n",
    "print(len(high_accident_states))\n",
    "low_accident_states = states_by_accidents[states_by_accidents['Count'] < states_by_accidents['Count'].quantile(0.4)]\n",
    "print(len(low_accident_states))\n",
    "\n",
    "percent_high_acc_states = len(high_accident_states) * 100 / len(states)\n",
    "percent_high_acc_states"
   ]
  },
  {
   "cell_type": "markdown",
   "id": "0008873f",
   "metadata": {
    "papermill": {
     "duration": 0.017005,
     "end_time": "2024-06-29T07:21:15.576635",
     "exception": false,
     "start_time": "2024-06-29T07:21:15.559630",
     "status": "completed"
    },
    "tags": []
   },
   "source": [
    "#### Visualize - Accidents per State"
   ]
  },
  {
   "cell_type": "code",
   "execution_count": 11,
   "id": "7b599b49",
   "metadata": {
    "papermill": {
     "duration": 0.281056,
     "end_time": "2024-06-29T07:21:15.874903",
     "exception": false,
     "start_time": "2024-06-29T07:21:15.593847",
     "status": "completed"
    },
    "tags": []
   },
   "outputs": [
    {
     "data": {
      "text/plain": [
       "<Axes: xlabel='No of Accidents', ylabel='State'>"
      ]
     },
     "execution_count": 11,
     "metadata": {},
     "output_type": "execute_result"
    },
    {
     "data": {
      "image/png": "[encoded data removed]",
      "text/plain": [
       "<Figure size 640x480 with 1 Axes>"
      ]
     },
     "metadata": {},
     "output_type": "display_data"
    }
   ],
   "source": [
    "states_by_accidents.head(5).plot(kind='barh',x = 'State', y = 'Count', xlabel='No of Accidents')"
   ]
  },
  {
   "cell_type": "markdown",
   "id": "ef4b4190",
   "metadata": {
    "papermill": {
     "duration": 0.017526,
     "end_time": "2024-06-29T07:21:15.910149",
     "exception": false,
     "start_time": "2024-06-29T07:21:15.892623",
     "status": "completed"
    },
    "tags": []
   },
   "source": [
    "#### Visualize - Accidents per State (Seaborn)"
   ]
  },
  {
   "cell_type": "code",
   "execution_count": 12,
   "id": "6e374cba",
   "metadata": {
    "papermill": {
     "duration": 0.442457,
     "end_time": "2024-06-29T07:21:16.370481",
     "exception": false,
     "start_time": "2024-06-29T07:21:15.928024",
     "status": "completed"
    },
    "tags": []
   },
   "outputs": [
    {
     "data": {
      "text/plain": [
       "<Axes: xlabel='Count', ylabel='State'>"
      ]
     },
     "execution_count": 12,
     "metadata": {},
     "output_type": "execute_result"
    },
    {
     "data": {
      "image/png": "[encoded data removed]",
      "text/plain": [
       "<Figure size 640x480 with 1 Axes>"
      ]
     },
     "metadata": {},
     "output_type": "display_data"
    }
   ],
   "source": [
    "sns.set_style(style = 'darkgrid')\n",
    "sns.barplot(states_by_accidents.head(5), y='State', x='Count')"
   ]
  },
  {
   "cell_type": "markdown",
   "id": "9b742cbe",
   "metadata": {
    "papermill": {
     "duration": 0.018337,
     "end_time": "2024-06-29T07:21:16.407401",
     "exception": false,
     "start_time": "2024-06-29T07:21:16.389064",
     "status": "completed"
    },
    "tags": []
   },
   "source": [
    "### Analyze States and Severity"
   ]
  },
  {
   "cell_type": "code",
   "execution_count": 13,
   "id": "608caf76",
   "metadata": {
    "papermill": {
     "duration": 0.960571,
     "end_time": "2024-06-29T07:21:17.386846",
     "exception": false,
     "start_time": "2024-06-29T07:21:16.426275",
     "status": "completed"
    },
    "tags": []
   },
   "outputs": [
    {
     "data": {
      "text/html": [
       "<div>\n",
       "<style scoped>\n",
       "    .dataframe tbody tr th:only-of-type {\n",
       "        vertical-align: middle;\n",
       "    }\n",
       "\n",
       "    .dataframe tbody tr th {\n",
       "        vertical-align: top;\n",
       "    }\n",
       "\n",
       "    .dataframe thead th {\n",
       "        text-align: right;\n",
       "    }\n",
       "</style>\n",
       "<table border=\"1\" class=\"dataframe\">\n",
       "  <thead>\n",
       "    <tr style=\"text-align: right;\">\n",
       "      <th></th>\n",
       "      <th>Severity</th>\n",
       "      <th>State</th>\n",
       "      <th>Count</th>\n",
       "    </tr>\n",
       "  </thead>\n",
       "  <tbody>\n",
       "    <tr>\n",
       "      <th>180</th>\n",
       "      <td>4</td>\n",
       "      <td>VA</td>\n",
       "      <td>1123</td>\n",
       "    </tr>\n",
       "    <tr>\n",
       "      <th>173</th>\n",
       "      <td>4</td>\n",
       "      <td>PA</td>\n",
       "      <td>1008</td>\n",
       "    </tr>\n",
       "    <tr>\n",
       "      <th>140</th>\n",
       "      <td>4</td>\n",
       "      <td>CA</td>\n",
       "      <td>866</td>\n",
       "    </tr>\n",
       "    <tr>\n",
       "      <th>145</th>\n",
       "      <td>4</td>\n",
       "      <td>FL</td>\n",
       "      <td>825</td>\n",
       "    </tr>\n",
       "    <tr>\n",
       "      <th>146</th>\n",
       "      <td>4</td>\n",
       "      <td>GA</td>\n",
       "      <td>796</td>\n",
       "    </tr>\n",
       "    <tr>\n",
       "      <th>...</th>\n",
       "      <td>...</td>\n",
       "      <td>...</td>\n",
       "      <td>...</td>\n",
       "    </tr>\n",
       "    <tr>\n",
       "      <th>10</th>\n",
       "      <td>1</td>\n",
       "      <td>IA</td>\n",
       "      <td>4</td>\n",
       "    </tr>\n",
       "    <tr>\n",
       "      <th>24</th>\n",
       "      <td>1</td>\n",
       "      <td>NH</td>\n",
       "      <td>4</td>\n",
       "    </tr>\n",
       "    <tr>\n",
       "      <th>21</th>\n",
       "      <td>1</td>\n",
       "      <td>MS</td>\n",
       "      <td>3</td>\n",
       "    </tr>\n",
       "    <tr>\n",
       "      <th>13</th>\n",
       "      <td>1</td>\n",
       "      <td>KS</td>\n",
       "      <td>2</td>\n",
       "    </tr>\n",
       "    <tr>\n",
       "      <th>1</th>\n",
       "      <td>1</td>\n",
       "      <td>AR</td>\n",
       "      <td>1</td>\n",
       "    </tr>\n",
       "  </tbody>\n",
       "</table>\n",
       "<p>186 rows × 3 columns</p>\n",
       "</div>"
      ],
      "text/plain": [
       "     Severity State  Count\n",
       "180         4    VA   1123\n",
       "173         4    PA   1008\n",
       "140         4    CA    866\n",
       "145         4    FL    825\n",
       "146         4    GA    796\n",
       "..        ...   ...    ...\n",
       "10          1    IA      4\n",
       "24          1    NH      4\n",
       "21          1    MS      3\n",
       "13          1    KS      2\n",
       "1           1    AR      1\n",
       "\n",
       "[186 rows x 3 columns]"
      ]
     },
     "execution_count": 13,
     "metadata": {},
     "output_type": "execute_result"
    }
   ],
   "source": [
    "groupedby_states_severity = df.groupby(by=['Severity', 'State']).size().reset_index(name='Count')\n",
    "groupedby_states_severity.sort_values(['Severity', 'Count'], ascending = [False, False])"
   ]
  },
  {
   "cell_type": "markdown",
   "id": "340acc8f",
   "metadata": {
    "papermill": {
     "duration": 0.096785,
     "end_time": "2024-06-29T07:21:17.502299",
     "exception": false,
     "start_time": "2024-06-29T07:21:17.405514",
     "status": "completed"
    },
    "tags": []
   },
   "source": [
    "#### Visualize - Accidents by Severity per State"
   ]
  },
  {
   "cell_type": "code",
   "execution_count": 14,
   "id": "14d4c442",
   "metadata": {
    "papermill": {
     "duration": 0.522818,
     "end_time": "2024-06-29T07:21:18.043955",
     "exception": false,
     "start_time": "2024-06-29T07:21:17.521137",
     "status": "completed"
    },
    "tags": []
   },
   "outputs": [
    {
     "data": {
      "text/plain": [
       "<Axes: xlabel='Count', ylabel='State'>"
      ]
     },
     "execution_count": 14,
     "metadata": {},
     "output_type": "execute_result"
    },
    {
     "data": {
      "image/png": "[encoded data removed]",
      "text/plain": [
       "<Figure size 640x480 with 1 Axes>"
      ]
     },
     "metadata": {},
     "output_type": "display_data"
    }
   ],
   "source": [
    "'''\n",
    ".pivot(index='State', columns='Severity', values='counts'): This reshapes the DataFrame to have states as the index, severity levels as the columns, and counts as the values.\n",
    ".plot(kind='bar'): This generates a bar plot with the reshaped DataFrame\n",
    "'''\n",
    "pivoted_states_severity = groupedby_states_severity.pivot(index='State', columns='Severity', values='Count')\n",
    "# Showing states with highest number of high severity accidents\n",
    "pivoted_states_severity.sort_values([4,3,2,1], ascending = False).head(3).plot(kind='barh', xlabel='Count')"
   ]
  },
  {
   "cell_type": "markdown",
   "id": "c416c183",
   "metadata": {
    "papermill": {
     "duration": 0.019974,
     "end_time": "2024-06-29T07:21:18.083886",
     "exception": false,
     "start_time": "2024-06-29T07:21:18.063912",
     "status": "completed"
    },
    "tags": []
   },
   "source": [
    "#### Visualize - Accidents by Severity per State (Seaborn)"
   ]
  },
  {
   "cell_type": "code",
   "execution_count": 15,
   "id": "e3ed5fcf",
   "metadata": {
    "papermill": {
     "duration": 0.520563,
     "end_time": "2024-06-29T07:21:18.624991",
     "exception": false,
     "start_time": "2024-06-29T07:21:18.104428",
     "status": "completed"
    },
    "tags": []
   },
   "outputs": [
    {
     "data": {
      "text/plain": [
       "<Axes: xlabel='State'>"
      ]
     },
     "execution_count": 15,
     "metadata": {},
     "output_type": "execute_result"
    },
    {
     "data": {
      "image/png": "[encoded data removed]",
      "text/plain": [
       "<Figure size 640x480 with 1 Axes>"
      ]
     },
     "metadata": {},
     "output_type": "display_data"
    }
   ],
   "source": [
    "sns.scatterplot(pivoted_states_severity.head(5))"
   ]
  },
  {
   "cell_type": "markdown",
   "id": "90849273",
   "metadata": {
    "papermill": {
     "duration": 0.020697,
     "end_time": "2024-06-29T07:21:18.666120",
     "exception": false,
     "start_time": "2024-06-29T07:21:18.645423",
     "status": "completed"
    },
    "tags": []
   },
   "source": [
    "### Analyse Weather Conditions"
   ]
  },
  {
   "cell_type": "code",
   "execution_count": 16,
   "id": "e3b90494",
   "metadata": {
    "papermill": {
     "duration": 2.189255,
     "end_time": "2024-06-29T07:21:20.875482",
     "exception": false,
     "start_time": "2024-06-29T07:21:18.686227",
     "status": "completed"
    },
    "tags": []
   },
   "outputs": [
    {
     "data": {
      "text/html": [
       "<div>\n",
       "<style scoped>\n",
       "    .dataframe tbody tr th:only-of-type {\n",
       "        vertical-align: middle;\n",
       "    }\n",
       "\n",
       "    .dataframe tbody tr th {\n",
       "        vertical-align: top;\n",
       "    }\n",
       "\n",
       "    .dataframe thead th {\n",
       "        text-align: right;\n",
       "    }\n",
       "</style>\n",
       "<table border=\"1\" class=\"dataframe\">\n",
       "  <thead>\n",
       "    <tr style=\"text-align: right;\">\n",
       "      <th></th>\n",
       "      <th>Weather_Condition</th>\n",
       "      <th>Count</th>\n",
       "    </tr>\n",
       "  </thead>\n",
       "  <tbody>\n",
       "    <tr>\n",
       "      <th>0</th>\n",
       "      <td>Fair</td>\n",
       "      <td>166053</td>\n",
       "    </tr>\n",
       "    <tr>\n",
       "      <th>1</th>\n",
       "      <td>Mostly Cloudy</td>\n",
       "      <td>65398</td>\n",
       "    </tr>\n",
       "    <tr>\n",
       "      <th>2</th>\n",
       "      <td>Cloudy</td>\n",
       "      <td>53107</td>\n",
       "    </tr>\n",
       "    <tr>\n",
       "      <th>3</th>\n",
       "      <td>Clear</td>\n",
       "      <td>52379</td>\n",
       "    </tr>\n",
       "    <tr>\n",
       "      <th>4</th>\n",
       "      <td>Partly Cloudy</td>\n",
       "      <td>45125</td>\n",
       "    </tr>\n",
       "  </tbody>\n",
       "</table>\n",
       "</div>"
      ],
      "text/plain": [
       "  Weather_Condition   Count\n",
       "0              Fair  166053\n",
       "1     Mostly Cloudy   65398\n",
       "2            Cloudy   53107\n",
       "3             Clear   52379\n",
       "4     Partly Cloudy   45125"
      ]
     },
     "execution_count": 16,
     "metadata": {},
     "output_type": "execute_result"
    }
   ],
   "source": [
    "weather_conditions = df['Weather_Condition'].unique()\n",
    "weather_conditions_accidents = df['Weather_Condition'].value_counts().reset_index(name='Count')\n",
    "weather_conditions_accidents.head(5)"
   ]
  },
  {
   "cell_type": "markdown",
   "id": "00adca8e",
   "metadata": {
    "papermill": {
     "duration": 0.019999,
     "end_time": "2024-06-29T07:21:20.915729",
     "exception": false,
     "start_time": "2024-06-29T07:21:20.895730",
     "status": "completed"
    },
    "tags": []
   },
   "source": [
    "#### Visualize - Accidents by Weather Conditions"
   ]
  },
  {
   "cell_type": "code",
   "execution_count": 17,
   "id": "5fed6859",
   "metadata": {
    "papermill": {
     "duration": 0.512791,
     "end_time": "2024-06-29T07:21:21.448466",
     "exception": false,
     "start_time": "2024-06-29T07:21:20.935675",
     "status": "completed"
    },
    "tags": []
   },
   "outputs": [
    {
     "data": {
      "text/plain": [
       "<Axes: xlabel='Count', ylabel='Weather'>"
      ]
     },
     "execution_count": 17,
     "metadata": {},
     "output_type": "execute_result"
    },
    {
     "data": {
      "image/png": "[encoded data removed]",
      "text/plain": [
       "<Figure size 640x480 with 1 Axes>"
      ]
     },
     "metadata": {},
     "output_type": "display_data"
    }
   ],
   "source": [
    "weather_conditions_accidents.head(10).plot(kind ='barh', x='Weather_Condition', y='Count', ylabel='Weather', xlabel='Count')\n",
    "# , x='Weather_Condition', y='Count'"
   ]
  },
  {
   "cell_type": "markdown",
   "id": "af5c2d9f",
   "metadata": {
    "papermill": {
     "duration": 0.020591,
     "end_time": "2024-06-29T07:21:21.490510",
     "exception": false,
     "start_time": "2024-06-29T07:21:21.469919",
     "status": "completed"
    },
    "tags": []
   },
   "source": [
    "#### Visualize - Accidents by Weather Conditions (Seaborn)"
   ]
  },
  {
   "cell_type": "code",
   "execution_count": 18,
   "id": "8df413f3",
   "metadata": {
    "papermill": {
     "duration": 0.497102,
     "end_time": "2024-06-29T07:21:22.009712",
     "exception": false,
     "start_time": "2024-06-29T07:21:21.512610",
     "status": "completed"
    },
    "tags": []
   },
   "outputs": [
    {
     "data": {
      "text/plain": [
       "<Axes: xlabel='Count', ylabel='Weather_Condition'>"
      ]
     },
     "execution_count": 18,
     "metadata": {},
     "output_type": "execute_result"
    },
    {
     "data": {
      "image/png": "[encoded data removed]",
      "text/plain": [
       "<Figure size 640x480 with 1 Axes>"
      ]
     },
     "metadata": {},
     "output_type": "display_data"
    }
   ],
   "source": [
    "sns.barplot(weather_conditions_accidents.head(10), x='Count', y='Weather_Condition')"
   ]
  },
  {
   "cell_type": "markdown",
   "id": "257416cd",
   "metadata": {
    "papermill": {
     "duration": 0.021383,
     "end_time": "2024-06-29T07:21:22.053146",
     "exception": false,
     "start_time": "2024-06-29T07:21:22.031763",
     "status": "completed"
    },
    "tags": []
   },
   "source": [
    "### Analyze Start_Time and End_Time"
   ]
  },
  {
   "cell_type": "code",
   "execution_count": 19,
   "id": "f5266157",
   "metadata": {
    "papermill": {
     "duration": 17.575146,
     "end_time": "2024-06-29T07:21:39.649950",
     "exception": false,
     "start_time": "2024-06-29T07:21:22.074804",
     "status": "completed"
    },
    "tags": []
   },
   "outputs": [
    {
     "data": {
      "text/html": [
       "<div>\n",
       "<style scoped>\n",
       "    .dataframe tbody tr th:only-of-type {\n",
       "        vertical-align: middle;\n",
       "    }\n",
       "\n",
       "    .dataframe tbody tr th {\n",
       "        vertical-align: top;\n",
       "    }\n",
       "\n",
       "    .dataframe thead th {\n",
       "        text-align: right;\n",
       "    }\n",
       "</style>\n",
       "<table border=\"1\" class=\"dataframe\">\n",
       "  <thead>\n",
       "    <tr style=\"text-align: right;\">\n",
       "      <th></th>\n",
       "      <th>ID</th>\n",
       "      <th>Source</th>\n",
       "      <th>Severity</th>\n",
       "      <th>Start_Time</th>\n",
       "      <th>End_Time</th>\n",
       "      <th>Start_Lat</th>\n",
       "      <th>Start_Lng</th>\n",
       "      <th>End_Lat</th>\n",
       "      <th>End_Lng</th>\n",
       "      <th>Distance(mi)</th>\n",
       "      <th>...</th>\n",
       "      <th>Station</th>\n",
       "      <th>Stop</th>\n",
       "      <th>Traffic_Calming</th>\n",
       "      <th>Traffic_Signal</th>\n",
       "      <th>Turning_Loop</th>\n",
       "      <th>Sunrise_Sunset</th>\n",
       "      <th>Civil_Twilight</th>\n",
       "      <th>Nautical_Twilight</th>\n",
       "      <th>Astronomical_Twilight</th>\n",
       "      <th>Resolution_Time</th>\n",
       "    </tr>\n",
       "  </thead>\n",
       "  <tbody>\n",
       "    <tr>\n",
       "      <th>0</th>\n",
       "      <td>A-2047758</td>\n",
       "      <td>Source2</td>\n",
       "      <td>2</td>\n",
       "      <td>2019-06-12 10:10:56</td>\n",
       "      <td>2019-06-12 10:55:58</td>\n",
       "      <td>30.641211</td>\n",
       "      <td>-91.153481</td>\n",
       "      <td>NaN</td>\n",
       "      <td>NaN</td>\n",
       "      <td>0.000</td>\n",
       "      <td>...</td>\n",
       "      <td>False</td>\n",
       "      <td>False</td>\n",
       "      <td>False</td>\n",
       "      <td>True</td>\n",
       "      <td>False</td>\n",
       "      <td>Day</td>\n",
       "      <td>Day</td>\n",
       "      <td>Day</td>\n",
       "      <td>Day</td>\n",
       "      <td>0.750556</td>\n",
       "    </tr>\n",
       "    <tr>\n",
       "      <th>1</th>\n",
       "      <td>A-4694324</td>\n",
       "      <td>Source1</td>\n",
       "      <td>2</td>\n",
       "      <td>2022-12-03 23:37:14</td>\n",
       "      <td>2022-12-04 01:56:53</td>\n",
       "      <td>38.990562</td>\n",
       "      <td>-77.399070</td>\n",
       "      <td>38.990037</td>\n",
       "      <td>-77.398282</td>\n",
       "      <td>0.056</td>\n",
       "      <td>...</td>\n",
       "      <td>False</td>\n",
       "      <td>False</td>\n",
       "      <td>False</td>\n",
       "      <td>False</td>\n",
       "      <td>False</td>\n",
       "      <td>Night</td>\n",
       "      <td>Night</td>\n",
       "      <td>Night</td>\n",
       "      <td>Night</td>\n",
       "      <td>2.327500</td>\n",
       "    </tr>\n",
       "    <tr>\n",
       "      <th>2</th>\n",
       "      <td>A-5006183</td>\n",
       "      <td>Source1</td>\n",
       "      <td>2</td>\n",
       "      <td>2022-08-20 13:13:00</td>\n",
       "      <td>2022-08-20 15:22:45</td>\n",
       "      <td>34.661189</td>\n",
       "      <td>-120.492822</td>\n",
       "      <td>34.661189</td>\n",
       "      <td>-120.492442</td>\n",
       "      <td>0.022</td>\n",
       "      <td>...</td>\n",
       "      <td>False</td>\n",
       "      <td>False</td>\n",
       "      <td>False</td>\n",
       "      <td>True</td>\n",
       "      <td>False</td>\n",
       "      <td>Day</td>\n",
       "      <td>Day</td>\n",
       "      <td>Day</td>\n",
       "      <td>Day</td>\n",
       "      <td>2.162500</td>\n",
       "    </tr>\n",
       "    <tr>\n",
       "      <th>3</th>\n",
       "      <td>A-4237356</td>\n",
       "      <td>Source1</td>\n",
       "      <td>2</td>\n",
       "      <td>2022-02-21 17:43:04</td>\n",
       "      <td>2022-02-21 19:43:23</td>\n",
       "      <td>43.680592</td>\n",
       "      <td>-92.993317</td>\n",
       "      <td>43.680574</td>\n",
       "      <td>-92.972223</td>\n",
       "      <td>1.054</td>\n",
       "      <td>...</td>\n",
       "      <td>False</td>\n",
       "      <td>False</td>\n",
       "      <td>False</td>\n",
       "      <td>False</td>\n",
       "      <td>False</td>\n",
       "      <td>Day</td>\n",
       "      <td>Day</td>\n",
       "      <td>Day</td>\n",
       "      <td>Day</td>\n",
       "      <td>2.005278</td>\n",
       "    </tr>\n",
       "    <tr>\n",
       "      <th>4</th>\n",
       "      <td>A-6690583</td>\n",
       "      <td>Source1</td>\n",
       "      <td>2</td>\n",
       "      <td>2020-12-04 01:46:00</td>\n",
       "      <td>2020-12-04 04:13:09</td>\n",
       "      <td>35.395484</td>\n",
       "      <td>-118.985176</td>\n",
       "      <td>35.395476</td>\n",
       "      <td>-118.985995</td>\n",
       "      <td>0.046</td>\n",
       "      <td>...</td>\n",
       "      <td>False</td>\n",
       "      <td>False</td>\n",
       "      <td>False</td>\n",
       "      <td>False</td>\n",
       "      <td>False</td>\n",
       "      <td>Night</td>\n",
       "      <td>Night</td>\n",
       "      <td>Night</td>\n",
       "      <td>Night</td>\n",
       "      <td>2.452500</td>\n",
       "    </tr>\n",
       "    <tr>\n",
       "      <th>...</th>\n",
       "      <td>...</td>\n",
       "      <td>...</td>\n",
       "      <td>...</td>\n",
       "      <td>...</td>\n",
       "      <td>...</td>\n",
       "      <td>...</td>\n",
       "      <td>...</td>\n",
       "      <td>...</td>\n",
       "      <td>...</td>\n",
       "      <td>...</td>\n",
       "      <td>...</td>\n",
       "      <td>...</td>\n",
       "      <td>...</td>\n",
       "      <td>...</td>\n",
       "      <td>...</td>\n",
       "      <td>...</td>\n",
       "      <td>...</td>\n",
       "      <td>...</td>\n",
       "      <td>...</td>\n",
       "      <td>...</td>\n",
       "      <td>...</td>\n",
       "    </tr>\n",
       "    <tr>\n",
       "      <th>499995</th>\n",
       "      <td>A-6077227</td>\n",
       "      <td>Source1</td>\n",
       "      <td>2</td>\n",
       "      <td>2021-12-15 07:30:00</td>\n",
       "      <td>2021-12-15 07:50:30</td>\n",
       "      <td>45.522510</td>\n",
       "      <td>-123.084104</td>\n",
       "      <td>45.520225</td>\n",
       "      <td>-123.084211</td>\n",
       "      <td>0.158</td>\n",
       "      <td>...</td>\n",
       "      <td>False</td>\n",
       "      <td>False</td>\n",
       "      <td>False</td>\n",
       "      <td>False</td>\n",
       "      <td>False</td>\n",
       "      <td>Night</td>\n",
       "      <td>Day</td>\n",
       "      <td>Day</td>\n",
       "      <td>Day</td>\n",
       "      <td>0.341667</td>\n",
       "    </tr>\n",
       "    <tr>\n",
       "      <th>499996</th>\n",
       "      <td>A-6323243</td>\n",
       "      <td>Source1</td>\n",
       "      <td>2</td>\n",
       "      <td>2021-12-19 16:25:00</td>\n",
       "      <td>2021-12-19 17:40:37</td>\n",
       "      <td>26.702570</td>\n",
       "      <td>-80.111169</td>\n",
       "      <td>26.703141</td>\n",
       "      <td>-80.111133</td>\n",
       "      <td>0.040</td>\n",
       "      <td>...</td>\n",
       "      <td>False</td>\n",
       "      <td>False</td>\n",
       "      <td>False</td>\n",
       "      <td>False</td>\n",
       "      <td>False</td>\n",
       "      <td>Day</td>\n",
       "      <td>Day</td>\n",
       "      <td>Day</td>\n",
       "      <td>Day</td>\n",
       "      <td>1.260278</td>\n",
       "    </tr>\n",
       "    <tr>\n",
       "      <th>499997</th>\n",
       "      <td>A-3789256</td>\n",
       "      <td>Source1</td>\n",
       "      <td>2</td>\n",
       "      <td>2022-04-13 19:28:29</td>\n",
       "      <td>2022-04-13 21:33:44</td>\n",
       "      <td>34.561862</td>\n",
       "      <td>-112.259620</td>\n",
       "      <td>34.566822</td>\n",
       "      <td>-112.267150</td>\n",
       "      <td>0.549</td>\n",
       "      <td>...</td>\n",
       "      <td>False</td>\n",
       "      <td>False</td>\n",
       "      <td>False</td>\n",
       "      <td>True</td>\n",
       "      <td>False</td>\n",
       "      <td>Night</td>\n",
       "      <td>Night</td>\n",
       "      <td>Day</td>\n",
       "      <td>Day</td>\n",
       "      <td>2.087500</td>\n",
       "    </tr>\n",
       "    <tr>\n",
       "      <th>499998</th>\n",
       "      <td>A-7030381</td>\n",
       "      <td>Source1</td>\n",
       "      <td>3</td>\n",
       "      <td>2020-05-15 17:20:56</td>\n",
       "      <td>2020-05-15 17:50:56</td>\n",
       "      <td>38.406680</td>\n",
       "      <td>-78.619310</td>\n",
       "      <td>38.406680</td>\n",
       "      <td>-78.619310</td>\n",
       "      <td>0.000</td>\n",
       "      <td>...</td>\n",
       "      <td>False</td>\n",
       "      <td>False</td>\n",
       "      <td>False</td>\n",
       "      <td>True</td>\n",
       "      <td>False</td>\n",
       "      <td>Day</td>\n",
       "      <td>Day</td>\n",
       "      <td>Day</td>\n",
       "      <td>Day</td>\n",
       "      <td>0.500000</td>\n",
       "    </tr>\n",
       "    <tr>\n",
       "      <th>499999</th>\n",
       "      <td>A-5438901</td>\n",
       "      <td>Source1</td>\n",
       "      <td>2</td>\n",
       "      <td>2022-04-02 23:23:13</td>\n",
       "      <td>2022-04-03 00:49:48</td>\n",
       "      <td>35.069358</td>\n",
       "      <td>-85.234410</td>\n",
       "      <td>35.070505</td>\n",
       "      <td>-85.233836</td>\n",
       "      <td>0.086</td>\n",
       "      <td>...</td>\n",
       "      <td>False</td>\n",
       "      <td>False</td>\n",
       "      <td>False</td>\n",
       "      <td>False</td>\n",
       "      <td>False</td>\n",
       "      <td>Night</td>\n",
       "      <td>Night</td>\n",
       "      <td>Night</td>\n",
       "      <td>Night</td>\n",
       "      <td>1.443056</td>\n",
       "    </tr>\n",
       "  </tbody>\n",
       "</table>\n",
       "<p>500000 rows × 47 columns</p>\n",
       "</div>"
      ],
      "text/plain": [
       "               ID   Source  Severity          Start_Time            End_Time  \\\n",
       "0       A-2047758  Source2         2 2019-06-12 10:10:56 2019-06-12 10:55:58   \n",
       "1       A-4694324  Source1         2 2022-12-03 23:37:14 2022-12-04 01:56:53   \n",
       "2       A-5006183  Source1         2 2022-08-20 13:13:00 2022-08-20 15:22:45   \n",
       "3       A-4237356  Source1         2 2022-02-21 17:43:04 2022-02-21 19:43:23   \n",
       "4       A-6690583  Source1         2 2020-12-04 01:46:00 2020-12-04 04:13:09   \n",
       "...           ...      ...       ...                 ...                 ...   \n",
       "499995  A-6077227  Source1         2 2021-12-15 07:30:00 2021-12-15 07:50:30   \n",
       "499996  A-6323243  Source1         2 2021-12-19 16:25:00 2021-12-19 17:40:37   \n",
       "499997  A-3789256  Source1         2 2022-04-13 19:28:29 2022-04-13 21:33:44   \n",
       "499998  A-7030381  Source1         3 2020-05-15 17:20:56 2020-05-15 17:50:56   \n",
       "499999  A-5438901  Source1         2 2022-04-02 23:23:13 2022-04-03 00:49:48   \n",
       "\n",
       "        Start_Lat   Start_Lng    End_Lat     End_Lng  Distance(mi)  ...  \\\n",
       "0       30.641211  -91.153481        NaN         NaN         0.000  ...   \n",
       "1       38.990562  -77.399070  38.990037  -77.398282         0.056  ...   \n",
       "2       34.661189 -120.492822  34.661189 -120.492442         0.022  ...   \n",
       "3       43.680592  -92.993317  43.680574  -92.972223         1.054  ...   \n",
       "4       35.395484 -118.985176  35.395476 -118.985995         0.046  ...   \n",
       "...           ...         ...        ...         ...           ...  ...   \n",
       "499995  45.522510 -123.084104  45.520225 -123.084211         0.158  ...   \n",
       "499996  26.702570  -80.111169  26.703141  -80.111133         0.040  ...   \n",
       "499997  34.561862 -112.259620  34.566822 -112.267150         0.549  ...   \n",
       "499998  38.406680  -78.619310  38.406680  -78.619310         0.000  ...   \n",
       "499999  35.069358  -85.234410  35.070505  -85.233836         0.086  ...   \n",
       "\n",
       "       Station   Stop Traffic_Calming Traffic_Signal Turning_Loop  \\\n",
       "0        False  False           False           True        False   \n",
       "1        False  False           False          False        False   \n",
       "2        False  False           False           True        False   \n",
       "3        False  False           False          False        False   \n",
       "4        False  False           False          False        False   \n",
       "...        ...    ...             ...            ...          ...   \n",
       "499995   False  False           False          False        False   \n",
       "499996   False  False           False          False        False   \n",
       "499997   False  False           False           True        False   \n",
       "499998   False  False           False           True        False   \n",
       "499999   False  False           False          False        False   \n",
       "\n",
       "       Sunrise_Sunset Civil_Twilight Nautical_Twilight Astronomical_Twilight  \\\n",
       "0                 Day            Day               Day                   Day   \n",
       "1               Night          Night             Night                 Night   \n",
       "2                 Day            Day               Day                   Day   \n",
       "3                 Day            Day               Day                   Day   \n",
       "4               Night          Night             Night                 Night   \n",
       "...               ...            ...               ...                   ...   \n",
       "499995          Night            Day               Day                   Day   \n",
       "499996            Day            Day               Day                   Day   \n",
       "499997          Night          Night               Day                   Day   \n",
       "499998            Day            Day               Day                   Day   \n",
       "499999          Night          Night             Night                 Night   \n",
       "\n",
       "       Resolution_Time  \n",
       "0             0.750556  \n",
       "1             2.327500  \n",
       "2             2.162500  \n",
       "3             2.005278  \n",
       "4             2.452500  \n",
       "...                ...  \n",
       "499995        0.341667  \n",
       "499996        1.260278  \n",
       "499997        2.087500  \n",
       "499998        0.500000  \n",
       "499999        1.443056  \n",
       "\n",
       "[500000 rows x 47 columns]"
      ]
     },
     "execution_count": 19,
     "metadata": {},
     "output_type": "execute_result"
    }
   ],
   "source": [
    "df['Start_Time'] = pd.to_datetime(df['Start_Time'], format='mixed')\n",
    "df['End_Time'] = pd.to_datetime(df['End_Time'], format='mixed')\n",
    "df['Resolution_Time'] = (df['End_Time'] - df['Start_Time']) / pd.Timedelta(hours=1)\n",
    "df\n",
    "# resolution_time = resolution_time / pd.Timedelta(hours=1)\n",
    "# resolution_time.sample(10)"
   ]
  },
  {
   "cell_type": "code",
   "execution_count": 20,
   "id": "c5d9abbc",
   "metadata": {
    "papermill": {
     "duration": 0.187425,
     "end_time": "2024-06-29T07:21:39.859405",
     "exception": false,
     "start_time": "2024-06-29T07:21:39.671980",
     "status": "completed"
    },
    "tags": []
   },
   "outputs": [
    {
     "data": {
      "text/plain": [
       "Severity\n",
       "1     0.765973\n",
       "2     7.633767\n",
       "3     1.284505\n",
       "4    27.943797\n",
       "Name: Resolution_Time, dtype: float64"
      ]
     },
     "execution_count": 20,
     "metadata": {},
     "output_type": "execute_result"
    }
   ],
   "source": [
    "resolution_time_severity= df.groupby('Severity')['Resolution_Time'].mean()\n",
    "resolution_time_severity"
   ]
  },
  {
   "cell_type": "markdown",
   "id": "29f3f433",
   "metadata": {
    "papermill": {
     "duration": 0.022167,
     "end_time": "2024-06-29T07:21:39.903846",
     "exception": false,
     "start_time": "2024-06-29T07:21:39.881679",
     "status": "completed"
    },
    "tags": []
   },
   "source": [
    "#### Visualize - Average Resolution Time"
   ]
  },
  {
   "cell_type": "code",
   "execution_count": 21,
   "id": "40ea7c1b",
   "metadata": {
    "papermill": {
     "duration": 0.398623,
     "end_time": "2024-06-29T07:21:40.324634",
     "exception": false,
     "start_time": "2024-06-29T07:21:39.926011",
     "status": "completed"
    },
    "tags": []
   },
   "outputs": [
    {
     "data": {
      "text/plain": [
       "<Axes: xlabel='Time(Hours)', ylabel='Severity'>"
      ]
     },
     "execution_count": 21,
     "metadata": {},
     "output_type": "execute_result"
    },
    {
     "data": {
      "image/png": "[encoded data removed]",
      "text/plain": [
       "<Figure size 640x480 with 1 Axes>"
      ]
     },
     "metadata": {},
     "output_type": "display_data"
    }
   ],
   "source": [
    "resolution_time_severity.plot(kind='barh', x='Resolution_Time', y='Severity', xlabel='Time(Hours)')"
   ]
  },
  {
   "cell_type": "markdown",
   "id": "caa876f1",
   "metadata": {
    "papermill": {
     "duration": 0.022446,
     "end_time": "2024-06-29T07:21:40.370089",
     "exception": false,
     "start_time": "2024-06-29T07:21:40.347643",
     "status": "completed"
    },
    "tags": []
   },
   "source": [
    "#### Visualize - Average Resolution Time (Seaborn)"
   ]
  },
  {
   "cell_type": "code",
   "execution_count": 22,
   "id": "d32ce19f",
   "metadata": {
    "papermill": {
     "duration": 0.45772,
     "end_time": "2024-06-29T07:21:40.850623",
     "exception": false,
     "start_time": "2024-06-29T07:21:40.392903",
     "status": "completed"
    },
    "tags": []
   },
   "outputs": [
    {
     "name": "stderr",
     "output_type": "stream",
     "text": [
      "D:\\anaconda1\\Lib\\site-packages\\seaborn\\_oldcore.py:1119: FutureWarning: use_inf_as_na option is deprecated and will be removed in a future version. Convert inf values to NaN before operating instead.\n",
      "  with pd.option_context('mode.use_inf_as_na', True):\n",
      "D:\\anaconda1\\Lib\\site-packages\\seaborn\\_oldcore.py:1119: FutureWarning: use_inf_as_na option is deprecated and will be removed in a future version. Convert inf values to NaN before operating instead.\n",
      "  with pd.option_context('mode.use_inf_as_na', True):\n"
     ]
    },
    {
     "data": {
      "text/plain": [
       "<Axes: xlabel='Severity', ylabel='Resolution_Time'>"
      ]
     },
     "execution_count": 22,
     "metadata": {},
     "output_type": "execute_result"
    },
    {
     "data": {
      "image/png": "[encoded data removed]",
      "text/plain": [
       "<Figure size 640x480 with 1 Axes>"
      ]
     },
     "metadata": {},
     "output_type": "display_data"
    }
   ],
   "source": [
    "sns.lineplot(resolution_time_severity)"
   ]
  },
  {
   "cell_type": "markdown",
   "id": "c02e8b93",
   "metadata": {
    "papermill": {
     "duration": 0.022994,
     "end_time": "2024-06-29T07:21:40.897013",
     "exception": false,
     "start_time": "2024-06-29T07:21:40.874019",
     "status": "completed"
    },
    "tags": []
   },
   "source": [
    "### Analyze Start Time to answer - What time of the days have most accidents occured?"
   ]
  },
  {
   "cell_type": "code",
   "execution_count": 23,
   "id": "f00046a6",
   "metadata": {
    "papermill": {
     "duration": 0.351986,
     "end_time": "2024-06-29T07:21:41.272247",
     "exception": false,
     "start_time": "2024-06-29T07:21:40.920261",
     "status": "completed"
    },
    "tags": []
   },
   "outputs": [],
   "source": [
    "hour_counts = pd.to_datetime(df['Start_Time']).dt.hour.value_counts().sort_index().reset_index(name='Count')\n",
    "hour_counts.columns = ['Hour', 'Counts']"
   ]
  },
  {
   "cell_type": "markdown",
   "id": "53876b8c",
   "metadata": {
    "papermill": {
     "duration": 0.024081,
     "end_time": "2024-06-29T07:21:41.320392",
     "exception": false,
     "start_time": "2024-06-29T07:21:41.296311",
     "status": "completed"
    },
    "tags": []
   },
   "source": [
    "#### Visualize accidents across the hours of the day"
   ]
  },
  {
   "cell_type": "code",
   "execution_count": 24,
   "id": "e13e25c3",
   "metadata": {
    "papermill": {
     "duration": 0.457506,
     "end_time": "2024-06-29T07:21:41.802035",
     "exception": false,
     "start_time": "2024-06-29T07:21:41.344529",
     "status": "completed"
    },
    "tags": []
   },
   "outputs": [
    {
     "data": {
      "text/plain": [
       "<Axes: xlabel='Time Of Day'>"
      ]
     },
     "execution_count": 24,
     "metadata": {},
     "output_type": "execute_result"
    },
    {
     "data": {
      "image/png": "[encoded data removed]",
      "text/plain": [
       "<Figure size 640x480 with 1 Axes>"
      ]
     },
     "metadata": {},
     "output_type": "display_data"
    }
   ],
   "source": [
    "hour_counts.plot(kind='line', x='Hour', y='Counts', marker='o', xlabel='Time Of Day')"
   ]
  },
  {
   "cell_type": "markdown",
   "id": "260fb33b",
   "metadata": {
    "papermill": {
     "duration": 0.024289,
     "end_time": "2024-06-29T07:21:41.851114",
     "exception": false,
     "start_time": "2024-06-29T07:21:41.826825",
     "status": "completed"
    },
    "tags": []
   },
   "source": [
    "#### Visualize accidents across the hours of the day (Seaborn)"
   ]
  },
  {
   "cell_type": "code",
   "execution_count": 25,
   "id": "27300599",
   "metadata": {
    "papermill": {
     "duration": 0.439161,
     "end_time": "2024-06-29T07:21:42.314801",
     "exception": false,
     "start_time": "2024-06-29T07:21:41.875640",
     "status": "completed"
    },
    "tags": []
   },
   "outputs": [
    {
     "name": "stderr",
     "output_type": "stream",
     "text": [
      "D:\\anaconda1\\Lib\\site-packages\\seaborn\\_oldcore.py:1119: FutureWarning: use_inf_as_na option is deprecated and will be removed in a future version. Convert inf values to NaN before operating instead.\n",
      "  with pd.option_context('mode.use_inf_as_na', True):\n",
      "D:\\anaconda1\\Lib\\site-packages\\seaborn\\_oldcore.py:1119: FutureWarning: use_inf_as_na option is deprecated and will be removed in a future version. Convert inf values to NaN before operating instead.\n",
      "  with pd.option_context('mode.use_inf_as_na', True):\n"
     ]
    },
    {
     "data": {
      "text/plain": [
       "<Axes: xlabel='Hour', ylabel='Counts'>"
      ]
     },
     "execution_count": 25,
     "metadata": {},
     "output_type": "execute_result"
    },
    {
     "data": {
      "image/png": "[encoded data removed]",
      "text/plain": [
       "<Figure size 640x480 with 1 Axes>"
      ]
     },
     "metadata": {},
     "output_type": "display_data"
    }
   ],
   "source": [
    "sns.lineplot(x='Hour', y='Counts', marker='o', data=hour_counts)"
   ]
  },
  {
   "cell_type": "markdown",
   "id": "8b4e91ad",
   "metadata": {
    "papermill": {
     "duration": 0.024997,
     "end_time": "2024-06-29T07:21:42.365060",
     "exception": false,
     "start_time": "2024-06-29T07:21:42.340063",
     "status": "completed"
    },
    "tags": []
   },
   "source": [
    "### Analyze Start Time to derive Year on Year trend"
   ]
  },
  {
   "cell_type": "code",
   "execution_count": 26,
   "id": "09c2842e",
   "metadata": {
    "papermill": {
     "duration": 4.320884,
     "end_time": "2024-06-29T07:21:46.711463",
     "exception": false,
     "start_time": "2024-06-29T07:21:42.390579",
     "status": "completed"
    },
    "tags": []
   },
   "outputs": [
    {
     "data": {
      "text/html": [
       "<div>\n",
       "<style scoped>\n",
       "    .dataframe tbody tr th:only-of-type {\n",
       "        vertical-align: middle;\n",
       "    }\n",
       "\n",
       "    .dataframe tbody tr th {\n",
       "        vertical-align: top;\n",
       "    }\n",
       "\n",
       "    .dataframe thead th {\n",
       "        text-align: right;\n",
       "    }\n",
       "</style>\n",
       "<table border=\"1\" class=\"dataframe\">\n",
       "  <thead>\n",
       "    <tr style=\"text-align: right;\">\n",
       "      <th></th>\n",
       "      <th>ID</th>\n",
       "      <th>Source</th>\n",
       "      <th>Severity</th>\n",
       "      <th>Start_Time</th>\n",
       "      <th>End_Time</th>\n",
       "      <th>Start_Lat</th>\n",
       "      <th>Start_Lng</th>\n",
       "      <th>End_Lat</th>\n",
       "      <th>End_Lng</th>\n",
       "      <th>Distance(mi)</th>\n",
       "      <th>...</th>\n",
       "      <th>Stop</th>\n",
       "      <th>Traffic_Calming</th>\n",
       "      <th>Traffic_Signal</th>\n",
       "      <th>Turning_Loop</th>\n",
       "      <th>Sunrise_Sunset</th>\n",
       "      <th>Civil_Twilight</th>\n",
       "      <th>Nautical_Twilight</th>\n",
       "      <th>Astronomical_Twilight</th>\n",
       "      <th>Resolution_Time</th>\n",
       "      <th>Year_Of_Accident</th>\n",
       "    </tr>\n",
       "  </thead>\n",
       "  <tbody>\n",
       "    <tr>\n",
       "      <th>0</th>\n",
       "      <td>A-2047758</td>\n",
       "      <td>Source2</td>\n",
       "      <td>2</td>\n",
       "      <td>2019-06-12 10:10:56</td>\n",
       "      <td>2019-06-12 10:55:58</td>\n",
       "      <td>30.641211</td>\n",
       "      <td>-91.153481</td>\n",
       "      <td>NaN</td>\n",
       "      <td>NaN</td>\n",
       "      <td>0.000</td>\n",
       "      <td>...</td>\n",
       "      <td>False</td>\n",
       "      <td>False</td>\n",
       "      <td>True</td>\n",
       "      <td>False</td>\n",
       "      <td>Day</td>\n",
       "      <td>Day</td>\n",
       "      <td>Day</td>\n",
       "      <td>Day</td>\n",
       "      <td>0.750556</td>\n",
       "      <td>2019</td>\n",
       "    </tr>\n",
       "    <tr>\n",
       "      <th>1</th>\n",
       "      <td>A-4694324</td>\n",
       "      <td>Source1</td>\n",
       "      <td>2</td>\n",
       "      <td>2022-12-03 23:37:14</td>\n",
       "      <td>2022-12-04 01:56:53</td>\n",
       "      <td>38.990562</td>\n",
       "      <td>-77.399070</td>\n",
       "      <td>38.990037</td>\n",
       "      <td>-77.398282</td>\n",
       "      <td>0.056</td>\n",
       "      <td>...</td>\n",
       "      <td>False</td>\n",
       "      <td>False</td>\n",
       "      <td>False</td>\n",
       "      <td>False</td>\n",
       "      <td>Night</td>\n",
       "      <td>Night</td>\n",
       "      <td>Night</td>\n",
       "      <td>Night</td>\n",
       "      <td>2.327500</td>\n",
       "      <td>2022</td>\n",
       "    </tr>\n",
       "    <tr>\n",
       "      <th>2</th>\n",
       "      <td>A-5006183</td>\n",
       "      <td>Source1</td>\n",
       "      <td>2</td>\n",
       "      <td>2022-08-20 13:13:00</td>\n",
       "      <td>2022-08-20 15:22:45</td>\n",
       "      <td>34.661189</td>\n",
       "      <td>-120.492822</td>\n",
       "      <td>34.661189</td>\n",
       "      <td>-120.492442</td>\n",
       "      <td>0.022</td>\n",
       "      <td>...</td>\n",
       "      <td>False</td>\n",
       "      <td>False</td>\n",
       "      <td>True</td>\n",
       "      <td>False</td>\n",
       "      <td>Day</td>\n",
       "      <td>Day</td>\n",
       "      <td>Day</td>\n",
       "      <td>Day</td>\n",
       "      <td>2.162500</td>\n",
       "      <td>2022</td>\n",
       "    </tr>\n",
       "    <tr>\n",
       "      <th>3</th>\n",
       "      <td>A-4237356</td>\n",
       "      <td>Source1</td>\n",
       "      <td>2</td>\n",
       "      <td>2022-02-21 17:43:04</td>\n",
       "      <td>2022-02-21 19:43:23</td>\n",
       "      <td>43.680592</td>\n",
       "      <td>-92.993317</td>\n",
       "      <td>43.680574</td>\n",
       "      <td>-92.972223</td>\n",
       "      <td>1.054</td>\n",
       "      <td>...</td>\n",
       "      <td>False</td>\n",
       "      <td>False</td>\n",
       "      <td>False</td>\n",
       "      <td>False</td>\n",
       "      <td>Day</td>\n",
       "      <td>Day</td>\n",
       "      <td>Day</td>\n",
       "      <td>Day</td>\n",
       "      <td>2.005278</td>\n",
       "      <td>2022</td>\n",
       "    </tr>\n",
       "    <tr>\n",
       "      <th>4</th>\n",
       "      <td>A-6690583</td>\n",
       "      <td>Source1</td>\n",
       "      <td>2</td>\n",
       "      <td>2020-12-04 01:46:00</td>\n",
       "      <td>2020-12-04 04:13:09</td>\n",
       "      <td>35.395484</td>\n",
       "      <td>-118.985176</td>\n",
       "      <td>35.395476</td>\n",
       "      <td>-118.985995</td>\n",
       "      <td>0.046</td>\n",
       "      <td>...</td>\n",
       "      <td>False</td>\n",
       "      <td>False</td>\n",
       "      <td>False</td>\n",
       "      <td>False</td>\n",
       "      <td>Night</td>\n",
       "      <td>Night</td>\n",
       "      <td>Night</td>\n",
       "      <td>Night</td>\n",
       "      <td>2.452500</td>\n",
       "      <td>2020</td>\n",
       "    </tr>\n",
       "    <tr>\n",
       "      <th>...</th>\n",
       "      <td>...</td>\n",
       "      <td>...</td>\n",
       "      <td>...</td>\n",
       "      <td>...</td>\n",
       "      <td>...</td>\n",
       "      <td>...</td>\n",
       "      <td>...</td>\n",
       "      <td>...</td>\n",
       "      <td>...</td>\n",
       "      <td>...</td>\n",
       "      <td>...</td>\n",
       "      <td>...</td>\n",
       "      <td>...</td>\n",
       "      <td>...</td>\n",
       "      <td>...</td>\n",
       "      <td>...</td>\n",
       "      <td>...</td>\n",
       "      <td>...</td>\n",
       "      <td>...</td>\n",
       "      <td>...</td>\n",
       "      <td>...</td>\n",
       "    </tr>\n",
       "    <tr>\n",
       "      <th>499995</th>\n",
       "      <td>A-6077227</td>\n",
       "      <td>Source1</td>\n",
       "      <td>2</td>\n",
       "      <td>2021-12-15 07:30:00</td>\n",
       "      <td>2021-12-15 07:50:30</td>\n",
       "      <td>45.522510</td>\n",
       "      <td>-123.084104</td>\n",
       "      <td>45.520225</td>\n",
       "      <td>-123.084211</td>\n",
       "      <td>0.158</td>\n",
       "      <td>...</td>\n",
       "      <td>False</td>\n",
       "      <td>False</td>\n",
       "      <td>False</td>\n",
       "      <td>False</td>\n",
       "      <td>Night</td>\n",
       "      <td>Day</td>\n",
       "      <td>Day</td>\n",
       "      <td>Day</td>\n",
       "      <td>0.341667</td>\n",
       "      <td>2021</td>\n",
       "    </tr>\n",
       "    <tr>\n",
       "      <th>499996</th>\n",
       "      <td>A-6323243</td>\n",
       "      <td>Source1</td>\n",
       "      <td>2</td>\n",
       "      <td>2021-12-19 16:25:00</td>\n",
       "      <td>2021-12-19 17:40:37</td>\n",
       "      <td>26.702570</td>\n",
       "      <td>-80.111169</td>\n",
       "      <td>26.703141</td>\n",
       "      <td>-80.111133</td>\n",
       "      <td>0.040</td>\n",
       "      <td>...</td>\n",
       "      <td>False</td>\n",
       "      <td>False</td>\n",
       "      <td>False</td>\n",
       "      <td>False</td>\n",
       "      <td>Day</td>\n",
       "      <td>Day</td>\n",
       "      <td>Day</td>\n",
       "      <td>Day</td>\n",
       "      <td>1.260278</td>\n",
       "      <td>2021</td>\n",
       "    </tr>\n",
       "    <tr>\n",
       "      <th>499997</th>\n",
       "      <td>A-3789256</td>\n",
       "      <td>Source1</td>\n",
       "      <td>2</td>\n",
       "      <td>2022-04-13 19:28:29</td>\n",
       "      <td>2022-04-13 21:33:44</td>\n",
       "      <td>34.561862</td>\n",
       "      <td>-112.259620</td>\n",
       "      <td>34.566822</td>\n",
       "      <td>-112.267150</td>\n",
       "      <td>0.549</td>\n",
       "      <td>...</td>\n",
       "      <td>False</td>\n",
       "      <td>False</td>\n",
       "      <td>True</td>\n",
       "      <td>False</td>\n",
       "      <td>Night</td>\n",
       "      <td>Night</td>\n",
       "      <td>Day</td>\n",
       "      <td>Day</td>\n",
       "      <td>2.087500</td>\n",
       "      <td>2022</td>\n",
       "    </tr>\n",
       "    <tr>\n",
       "      <th>499998</th>\n",
       "      <td>A-7030381</td>\n",
       "      <td>Source1</td>\n",
       "      <td>3</td>\n",
       "      <td>2020-05-15 17:20:56</td>\n",
       "      <td>2020-05-15 17:50:56</td>\n",
       "      <td>38.406680</td>\n",
       "      <td>-78.619310</td>\n",
       "      <td>38.406680</td>\n",
       "      <td>-78.619310</td>\n",
       "      <td>0.000</td>\n",
       "      <td>...</td>\n",
       "      <td>False</td>\n",
       "      <td>False</td>\n",
       "      <td>True</td>\n",
       "      <td>False</td>\n",
       "      <td>Day</td>\n",
       "      <td>Day</td>\n",
       "      <td>Day</td>\n",
       "      <td>Day</td>\n",
       "      <td>0.500000</td>\n",
       "      <td>2020</td>\n",
       "    </tr>\n",
       "    <tr>\n",
       "      <th>499999</th>\n",
       "      <td>A-5438901</td>\n",
       "      <td>Source1</td>\n",
       "      <td>2</td>\n",
       "      <td>2022-04-02 23:23:13</td>\n",
       "      <td>2022-04-03 00:49:48</td>\n",
       "      <td>35.069358</td>\n",
       "      <td>-85.234410</td>\n",
       "      <td>35.070505</td>\n",
       "      <td>-85.233836</td>\n",
       "      <td>0.086</td>\n",
       "      <td>...</td>\n",
       "      <td>False</td>\n",
       "      <td>False</td>\n",
       "      <td>False</td>\n",
       "      <td>False</td>\n",
       "      <td>Night</td>\n",
       "      <td>Night</td>\n",
       "      <td>Night</td>\n",
       "      <td>Night</td>\n",
       "      <td>1.443056</td>\n",
       "      <td>2022</td>\n",
       "    </tr>\n",
       "  </tbody>\n",
       "</table>\n",
       "<p>500000 rows × 48 columns</p>\n",
       "</div>"
      ],
      "text/plain": [
       "               ID   Source  Severity          Start_Time            End_Time  \\\n",
       "0       A-2047758  Source2         2 2019-06-12 10:10:56 2019-06-12 10:55:58   \n",
       "1       A-4694324  Source1         2 2022-12-03 23:37:14 2022-12-04 01:56:53   \n",
       "2       A-5006183  Source1         2 2022-08-20 13:13:00 2022-08-20 15:22:45   \n",
       "3       A-4237356  Source1         2 2022-02-21 17:43:04 2022-02-21 19:43:23   \n",
       "4       A-6690583  Source1         2 2020-12-04 01:46:00 2020-12-04 04:13:09   \n",
       "...           ...      ...       ...                 ...                 ...   \n",
       "499995  A-6077227  Source1         2 2021-12-15 07:30:00 2021-12-15 07:50:30   \n",
       "499996  A-6323243  Source1         2 2021-12-19 16:25:00 2021-12-19 17:40:37   \n",
       "499997  A-3789256  Source1         2 2022-04-13 19:28:29 2022-04-13 21:33:44   \n",
       "499998  A-7030381  Source1         3 2020-05-15 17:20:56 2020-05-15 17:50:56   \n",
       "499999  A-5438901  Source1         2 2022-04-02 23:23:13 2022-04-03 00:49:48   \n",
       "\n",
       "        Start_Lat   Start_Lng    End_Lat     End_Lng  Distance(mi)  ...  \\\n",
       "0       30.641211  -91.153481        NaN         NaN         0.000  ...   \n",
       "1       38.990562  -77.399070  38.990037  -77.398282         0.056  ...   \n",
       "2       34.661189 -120.492822  34.661189 -120.492442         0.022  ...   \n",
       "3       43.680592  -92.993317  43.680574  -92.972223         1.054  ...   \n",
       "4       35.395484 -118.985176  35.395476 -118.985995         0.046  ...   \n",
       "...           ...         ...        ...         ...           ...  ...   \n",
       "499995  45.522510 -123.084104  45.520225 -123.084211         0.158  ...   \n",
       "499996  26.702570  -80.111169  26.703141  -80.111133         0.040  ...   \n",
       "499997  34.561862 -112.259620  34.566822 -112.267150         0.549  ...   \n",
       "499998  38.406680  -78.619310  38.406680  -78.619310         0.000  ...   \n",
       "499999  35.069358  -85.234410  35.070505  -85.233836         0.086  ...   \n",
       "\n",
       "         Stop Traffic_Calming Traffic_Signal Turning_Loop Sunrise_Sunset  \\\n",
       "0       False           False           True        False            Day   \n",
       "1       False           False          False        False          Night   \n",
       "2       False           False           True        False            Day   \n",
       "3       False           False          False        False            Day   \n",
       "4       False           False          False        False          Night   \n",
       "...       ...             ...            ...          ...            ...   \n",
       "499995  False           False          False        False          Night   \n",
       "499996  False           False          False        False            Day   \n",
       "499997  False           False           True        False          Night   \n",
       "499998  False           False           True        False            Day   \n",
       "499999  False           False          False        False          Night   \n",
       "\n",
       "       Civil_Twilight Nautical_Twilight Astronomical_Twilight Resolution_Time  \\\n",
       "0                 Day               Day                   Day        0.750556   \n",
       "1               Night             Night                 Night        2.327500   \n",
       "2                 Day               Day                   Day        2.162500   \n",
       "3                 Day               Day                   Day        2.005278   \n",
       "4               Night             Night                 Night        2.452500   \n",
       "...               ...               ...                   ...             ...   \n",
       "499995            Day               Day                   Day        0.341667   \n",
       "499996            Day               Day                   Day        1.260278   \n",
       "499997          Night               Day                   Day        2.087500   \n",
       "499998            Day               Day                   Day        0.500000   \n",
       "499999          Night             Night                 Night        1.443056   \n",
       "\n",
       "       Year_Of_Accident  \n",
       "0                  2019  \n",
       "1                  2022  \n",
       "2                  2022  \n",
       "3                  2022  \n",
       "4                  2020  \n",
       "...                 ...  \n",
       "499995             2021  \n",
       "499996             2021  \n",
       "499997             2022  \n",
       "499998             2020  \n",
       "499999             2022  \n",
       "\n",
       "[500000 rows x 48 columns]"
      ]
     },
     "execution_count": 26,
     "metadata": {},
     "output_type": "execute_result"
    }
   ],
   "source": [
    "df['Year_Of_Accident'] = pd.to_datetime(df['Start_Time']).dt.year\n",
    "df"
   ]
  },
  {
   "cell_type": "markdown",
   "id": "ca2e318b",
   "metadata": {
    "papermill": {
     "duration": 0.025483,
     "end_time": "2024-06-29T07:21:46.762687",
     "exception": false,
     "start_time": "2024-06-29T07:21:46.737204",
     "status": "completed"
    },
    "tags": []
   },
   "source": [
    "#### Visualize Year on Year trend"
   ]
  },
  {
   "cell_type": "code",
   "execution_count": 27,
   "id": "5326c1b8",
   "metadata": {
    "papermill": {
     "duration": 0.563228,
     "end_time": "2024-06-29T07:21:47.351754",
     "exception": false,
     "start_time": "2024-06-29T07:21:46.788526",
     "status": "completed"
    },
    "tags": []
   },
   "outputs": [
    {
     "data": {
      "text/plain": [
       "<Axes: xlabel='Year_Of_Accident', ylabel='Count'>"
      ]
     },
     "execution_count": 27,
     "metadata": {},
     "output_type": "execute_result"
    },
    {
     "data": {
      "image/png": "[encoded data removed]",
      "text/plain": [
       "<Figure size 640x480 with 1 Axes>"
      ]
     },
     "metadata": {},
     "output_type": "display_data"
    }
   ],
   "source": [
    "year_counts = df['Year_Of_Accident'].value_counts().sort_index().reset_index(name='Counts')\n",
    "year_counts\n",
    "year_counts.columns = ['Year_Of_Accident', 'Counts']\n",
    "year_counts.plot(kind='line', x='Year_Of_Accident', y='Counts', marker='o', ylabel='Count')"
   ]
  },
  {
   "cell_type": "markdown",
   "id": "f10a9b4a",
   "metadata": {
    "papermill": {
     "duration": 0.026647,
     "end_time": "2024-06-29T07:21:47.404949",
     "exception": false,
     "start_time": "2024-06-29T07:21:47.378302",
     "status": "completed"
    },
    "tags": []
   },
   "source": [
    "#### Visualize Year on Year trend (Seaborn)"
   ]
  },
  {
   "cell_type": "code",
   "execution_count": 28,
   "id": "ae636823",
   "metadata": {
    "papermill": {
     "duration": 0.55082,
     "end_time": "2024-06-29T07:21:47.982336",
     "exception": false,
     "start_time": "2024-06-29T07:21:47.431516",
     "status": "completed"
    },
    "tags": []
   },
   "outputs": [
    {
     "name": "stderr",
     "output_type": "stream",
     "text": [
      "D:\\anaconda1\\Lib\\site-packages\\seaborn\\_oldcore.py:1119: FutureWarning: use_inf_as_na option is deprecated and will be removed in a future version. Convert inf values to NaN before operating instead.\n",
      "  with pd.option_context('mode.use_inf_as_na', True):\n",
      "D:\\anaconda1\\Lib\\site-packages\\seaborn\\_oldcore.py:1119: FutureWarning: use_inf_as_na option is deprecated and will be removed in a future version. Convert inf values to NaN before operating instead.\n",
      "  with pd.option_context('mode.use_inf_as_na', True):\n"
     ]
    },
    {
     "data": {
      "text/plain": [
       "<Axes: xlabel='Year_Of_Accident', ylabel='Counts'>"
      ]
     },
     "execution_count": 28,
     "metadata": {},
     "output_type": "execute_result"
    },
    {
     "data": {
      "image/png": "[encoded data removed]",
      "text/plain": [
       "<Figure size 640x480 with 1 Axes>"
      ]
     },
     "metadata": {},
     "output_type": "display_data"
    }
   ],
   "source": [
    "sns.lineplot(x='Year_Of_Accident', y='Counts', marker='o', data=df['Year_Of_Accident'].value_counts(ascending = True).reset_index(name='Counts'))"
   ]
  },
  {
   "cell_type": "code",
   "execution_count": 29,
   "id": "118a389a-4d3b-4c2c-a8cf-e642fba1feed",
   "metadata": {},
   "outputs": [
    {
     "data": {
      "text/plain": [
       "0         2019-06-12 10:10:56\n",
       "1         2022-12-03 23:37:14\n",
       "2         2022-08-20 13:13:00\n",
       "3         2022-02-21 17:43:04\n",
       "4         2020-12-04 01:46:00\n",
       "                 ...         \n",
       "499995    2021-12-15 07:30:00\n",
       "499996    2021-12-19 16:25:00\n",
       "499997    2022-04-13 19:28:29\n",
       "499998    2020-05-15 17:20:56\n",
       "499999    2022-04-02 23:23:13\n",
       "Name: Start_Time, Length: 500000, dtype: object"
      ]
     },
     "execution_count": 29,
     "metadata": {},
     "output_type": "execute_result"
    }
   ],
   "source": [
    "df['Start_Time'].astype('object')"
   ]
  },
  {
   "cell_type": "code",
   "execution_count": 30,
   "id": "afc08cd3-7cd1-40dc-8fd4-4ae219462455",
   "metadata": {},
   "outputs": [],
   "source": [
    "df['Start_Time'] = pd.to_datetime(df['Start_Time'], format='mixed')"
   ]
  },
  {
   "cell_type": "code",
   "execution_count": 31,
   "id": "1f3698ff-6971-40e2-8985-0ee50d4faf13",
   "metadata": {},
   "outputs": [],
   "source": [
    "df['years'] = df['Start_Time'].dt.year\n",
    "df['months'] = df['Start_Time'].dt.month\n",
    "df['days'] = df['Start_Time'].dt.day\n",
    "df['hours'] = df['Start_Time'].dt.hour\n",
    "\n",
    "\n",
    "df['count'] = df.groupby(['years', 'months', 'Street'])['years'].transform('count')"
   ]
  },
  {
   "cell_type": "code",
   "execution_count": 34,
   "id": "72d32003-5557-497a-8203-336a2ae32369",
   "metadata": {},
   "outputs": [
    {
     "data": {
      "text/html": [
       "<div>\n",
       "<style scoped>\n",
       "    .dataframe tbody tr th:only-of-type {\n",
       "        vertical-align: middle;\n",
       "    }\n",
       "\n",
       "    .dataframe tbody tr th {\n",
       "        vertical-align: top;\n",
       "    }\n",
       "\n",
       "    .dataframe thead th {\n",
       "        text-align: right;\n",
       "    }\n",
       "</style>\n",
       "<table border=\"1\" class=\"dataframe\">\n",
       "  <thead>\n",
       "    <tr style=\"text-align: right;\">\n",
       "      <th></th>\n",
       "      <th>years</th>\n",
       "      <th>months</th>\n",
       "      <th>Street</th>\n",
       "      <th>count</th>\n",
       "    </tr>\n",
       "  </thead>\n",
       "  <tbody>\n",
       "    <tr>\n",
       "      <th>150060</th>\n",
       "      <td>2020</td>\n",
       "      <td>10</td>\n",
       "      <td>I-95 S</td>\n",
       "      <td>39601.0</td>\n",
       "    </tr>\n",
       "    <tr>\n",
       "      <th>156101</th>\n",
       "      <td>2020</td>\n",
       "      <td>11</td>\n",
       "      <td>I-95 S</td>\n",
       "      <td>29929.0</td>\n",
       "    </tr>\n",
       "    <tr>\n",
       "      <th>162152</th>\n",
       "      <td>2020</td>\n",
       "      <td>12</td>\n",
       "      <td>I-95 S</td>\n",
       "      <td>24964.0</td>\n",
       "    </tr>\n",
       "    <tr>\n",
       "      <th>241830</th>\n",
       "      <td>2022</td>\n",
       "      <td>4</td>\n",
       "      <td>I-95</td>\n",
       "      <td>21316.0</td>\n",
       "    </tr>\n",
       "    <tr>\n",
       "      <th>156100</th>\n",
       "      <td>2020</td>\n",
       "      <td>11</td>\n",
       "      <td>I-95 N</td>\n",
       "      <td>20164.0</td>\n",
       "    </tr>\n",
       "    <tr>\n",
       "      <th>...</th>\n",
       "      <td>...</td>\n",
       "      <td>...</td>\n",
       "      <td>...</td>\n",
       "      <td>...</td>\n",
       "    </tr>\n",
       "    <tr>\n",
       "      <th>38249</th>\n",
       "      <td>2017</td>\n",
       "      <td>10</td>\n",
       "      <td>I-75 S</td>\n",
       "      <td>1369.0</td>\n",
       "    </tr>\n",
       "    <tr>\n",
       "      <th>225805</th>\n",
       "      <td>2022</td>\n",
       "      <td>1</td>\n",
       "      <td>I-5 N</td>\n",
       "      <td>1369.0</td>\n",
       "    </tr>\n",
       "    <tr>\n",
       "      <th>155478</th>\n",
       "      <td>2020</td>\n",
       "      <td>11</td>\n",
       "      <td>Florida's Tpke S</td>\n",
       "      <td>1369.0</td>\n",
       "    </tr>\n",
       "    <tr>\n",
       "      <th>236207</th>\n",
       "      <td>2022</td>\n",
       "      <td>3</td>\n",
       "      <td>I-90 W</td>\n",
       "      <td>1369.0</td>\n",
       "    </tr>\n",
       "    <tr>\n",
       "      <th>239609</th>\n",
       "      <td>2022</td>\n",
       "      <td>4</td>\n",
       "      <td>S Dixie Hwy</td>\n",
       "      <td>1369.0</td>\n",
       "    </tr>\n",
       "  </tbody>\n",
       "</table>\n",
       "<p>500 rows × 4 columns</p>\n",
       "</div>"
      ],
      "text/plain": [
       "        years  months            Street    count\n",
       "150060   2020      10            I-95 S  39601.0\n",
       "156101   2020      11            I-95 S  29929.0\n",
       "162152   2020      12            I-95 S  24964.0\n",
       "241830   2022       4              I-95  21316.0\n",
       "156100   2020      11            I-95 N  20164.0\n",
       "...       ...     ...               ...      ...\n",
       "38249    2017      10            I-75 S   1369.0\n",
       "225805   2022       1             I-5 N   1369.0\n",
       "155478   2020      11  Florida's Tpke S   1369.0\n",
       "236207   2022       3            I-90 W   1369.0\n",
       "239609   2022       4       S Dixie Hwy   1369.0\n",
       "\n",
       "[500 rows x 4 columns]"
      ]
     },
     "execution_count": 34,
     "metadata": {},
     "output_type": "execute_result"
    }
   ],
   "source": [
    "data_years_months_days_street = df.groupby(['years', 'months', 'Street'], as_index=False)['count'].sum()\n",
    "data_years_months_days_street = data_years_months_days_street.sort_values(by='count', ascending=False)\n",
    "data_years_months_days_street = data_years_months_days_street.iloc[:500, :]\n",
    "data_years_months_days_street"
   ]
  },
  {
   "cell_type": "code",
   "execution_count": 37,
   "id": "e1ece1d7-dede-4267-a561-cfe0ee645ed2",
   "metadata": {},
   "outputs": [
    {
     "data": {
      "image/png": "[encoded data removed]",
      "text/plain": [
       "<Figure size 900x600 with 1 Axes>"
      ]
     },
     "metadata": {},
     "output_type": "display_data"
    }
   ],
   "source": [
    "sns.catplot(kind='bar', data=data_years_months_days_street, x='Street', y='count', errorbar=None,height=6, aspect=1.5)\n",
    "plt.xticks(rotation=90)\n",
    "plt.show()"
   ]
  },
  {
   "cell_type": "code",
   "execution_count": 43,
   "id": "b655973d-b48e-4a41-9a24-cf853a5b15c5",
   "metadata": {},
   "outputs": [
    {
     "data": {
      "text/html": [
       "<div>\n",
       "<style scoped>\n",
       "    .dataframe tbody tr th:only-of-type {\n",
       "        vertical-align: middle;\n",
       "    }\n",
       "\n",
       "    .dataframe tbody tr th {\n",
       "        vertical-align: top;\n",
       "    }\n",
       "\n",
       "    .dataframe thead th {\n",
       "        text-align: right;\n",
       "    }\n",
       "</style>\n",
       "<table border=\"1\" class=\"dataframe\">\n",
       "  <thead>\n",
       "    <tr style=\"text-align: right;\">\n",
       "      <th></th>\n",
       "      <th>years</th>\n",
       "      <th>months</th>\n",
       "      <th>State</th>\n",
       "      <th>Wind_Speed(mph)</th>\n",
       "      <th>Temperature(F)</th>\n",
       "      <th>Humidity(%)</th>\n",
       "      <th>Visibility(mi)</th>\n",
       "    </tr>\n",
       "  </thead>\n",
       "  <tbody>\n",
       "    <tr>\n",
       "      <th>0</th>\n",
       "      <td>2016</td>\n",
       "      <td>1</td>\n",
       "      <td>PA</td>\n",
       "      <td>3.000000</td>\n",
       "      <td>31.000000</td>\n",
       "      <td>69.000000</td>\n",
       "      <td>10.000000</td>\n",
       "    </tr>\n",
       "    <tr>\n",
       "      <th>1</th>\n",
       "      <td>2016</td>\n",
       "      <td>2</td>\n",
       "      <td>IN</td>\n",
       "      <td>21.300000</td>\n",
       "      <td>33.816667</td>\n",
       "      <td>86.166667</td>\n",
       "      <td>3.666667</td>\n",
       "    </tr>\n",
       "    <tr>\n",
       "      <th>2</th>\n",
       "      <td>2016</td>\n",
       "      <td>2</td>\n",
       "      <td>OH</td>\n",
       "      <td>10.204762</td>\n",
       "      <td>30.614894</td>\n",
       "      <td>76.765957</td>\n",
       "      <td>6.761702</td>\n",
       "    </tr>\n",
       "    <tr>\n",
       "      <th>3</th>\n",
       "      <td>2016</td>\n",
       "      <td>2</td>\n",
       "      <td>PA</td>\n",
       "      <td>7.620000</td>\n",
       "      <td>20.800000</td>\n",
       "      <td>74.000000</td>\n",
       "      <td>8.600000</td>\n",
       "    </tr>\n",
       "    <tr>\n",
       "      <th>4</th>\n",
       "      <td>2016</td>\n",
       "      <td>3</td>\n",
       "      <td>CA</td>\n",
       "      <td>9.324878</td>\n",
       "      <td>60.784211</td>\n",
       "      <td>53.016194</td>\n",
       "      <td>9.947368</td>\n",
       "    </tr>\n",
       "    <tr>\n",
       "      <th>...</th>\n",
       "      <td>...</td>\n",
       "      <td>...</td>\n",
       "      <td>...</td>\n",
       "      <td>...</td>\n",
       "      <td>...</td>\n",
       "      <td>...</td>\n",
       "      <td>...</td>\n",
       "    </tr>\n",
       "    <tr>\n",
       "      <th>3718</th>\n",
       "      <td>2023</td>\n",
       "      <td>3</td>\n",
       "      <td>TX</td>\n",
       "      <td>9.898876</td>\n",
       "      <td>64.500000</td>\n",
       "      <td>60.077778</td>\n",
       "      <td>8.800000</td>\n",
       "    </tr>\n",
       "    <tr>\n",
       "      <th>3719</th>\n",
       "      <td>2023</td>\n",
       "      <td>3</td>\n",
       "      <td>VA</td>\n",
       "      <td>5.875000</td>\n",
       "      <td>58.625000</td>\n",
       "      <td>51.550000</td>\n",
       "      <td>9.150000</td>\n",
       "    </tr>\n",
       "    <tr>\n",
       "      <th>3720</th>\n",
       "      <td>2023</td>\n",
       "      <td>3</td>\n",
       "      <td>WA</td>\n",
       "      <td>8.666667</td>\n",
       "      <td>49.366667</td>\n",
       "      <td>62.566667</td>\n",
       "      <td>9.766667</td>\n",
       "    </tr>\n",
       "    <tr>\n",
       "      <th>3721</th>\n",
       "      <td>2023</td>\n",
       "      <td>3</td>\n",
       "      <td>WI</td>\n",
       "      <td>10.150000</td>\n",
       "      <td>36.500000</td>\n",
       "      <td>70.300000</td>\n",
       "      <td>6.137500</td>\n",
       "    </tr>\n",
       "    <tr>\n",
       "      <th>3722</th>\n",
       "      <td>2023</td>\n",
       "      <td>3</td>\n",
       "      <td>WV</td>\n",
       "      <td>7.666667</td>\n",
       "      <td>55.666667</td>\n",
       "      <td>50.166667</td>\n",
       "      <td>9.500000</td>\n",
       "    </tr>\n",
       "  </tbody>\n",
       "</table>\n",
       "<p>3723 rows × 7 columns</p>\n",
       "</div>"
      ],
      "text/plain": [
       "      years  months State  Wind_Speed(mph)  Temperature(F)  Humidity(%)  \\\n",
       "0      2016       1    PA         3.000000       31.000000    69.000000   \n",
       "1      2016       2    IN        21.300000       33.816667    86.166667   \n",
       "2      2016       2    OH        10.204762       30.614894    76.765957   \n",
       "3      2016       2    PA         7.620000       20.800000    74.000000   \n",
       "4      2016       3    CA         9.324878       60.784211    53.016194   \n",
       "...     ...     ...   ...              ...             ...          ...   \n",
       "3718   2023       3    TX         9.898876       64.500000    60.077778   \n",
       "3719   2023       3    VA         5.875000       58.625000    51.550000   \n",
       "3720   2023       3    WA         8.666667       49.366667    62.566667   \n",
       "3721   2023       3    WI        10.150000       36.500000    70.300000   \n",
       "3722   2023       3    WV         7.666667       55.666667    50.166667   \n",
       "\n",
       "      Visibility(mi)  \n",
       "0          10.000000  \n",
       "1           3.666667  \n",
       "2           6.761702  \n",
       "3           8.600000  \n",
       "4           9.947368  \n",
       "...              ...  \n",
       "3718        8.800000  \n",
       "3719        9.150000  \n",
       "3720        9.766667  \n",
       "3721        6.137500  \n",
       "3722        9.500000  \n",
       "\n",
       "[3723 rows x 7 columns]"
      ]
     },
     "execution_count": 43,
     "metadata": {},
     "output_type": "execute_result"
    }
   ],
   "source": [
    "data_years_months_days_corr_weather = df.groupby(['years','months','State'])[['Wind_Speed(mph)','Temperature(F)','Humidity(%)','Visibility(mi)']].mean().reset_index()\n",
    "data_years_months_days_corr_weather "
   ]
  },
  {
   "cell_type": "code",
   "execution_count": 50,
   "id": "2ecebc6c-cd04-4c42-bca0-bbb1c6538682",
   "metadata": {},
   "outputs": [
    {
     "name": "stderr",
     "output_type": "stream",
     "text": [
      "D:\\anaconda1\\Lib\\site-packages\\seaborn\\_oldcore.py:1119: FutureWarning: use_inf_as_na option is deprecated and will be removed in a future version. Convert inf values to NaN before operating instead.\n",
      "  with pd.option_context('mode.use_inf_as_na', True):\n",
      "D:\\anaconda1\\Lib\\site-packages\\seaborn\\_oldcore.py:1119: FutureWarning: use_inf_as_na option is deprecated and will be removed in a future version. Convert inf values to NaN before operating instead.\n",
      "  with pd.option_context('mode.use_inf_as_na', True):\n",
      "D:\\anaconda1\\Lib\\site-packages\\seaborn\\_oldcore.py:1119: FutureWarning: use_inf_as_na option is deprecated and will be removed in a future version. Convert inf values to NaN before operating instead.\n",
      "  with pd.option_context('mode.use_inf_as_na', True):\n",
      "D:\\anaconda1\\Lib\\site-packages\\seaborn\\_oldcore.py:1119: FutureWarning: use_inf_as_na option is deprecated and will be removed in a future version. Convert inf values to NaN before operating instead.\n",
      "  with pd.option_context('mode.use_inf_as_na', True):\n",
      "D:\\anaconda1\\Lib\\site-packages\\seaborn\\_oldcore.py:1119: FutureWarning: use_inf_as_na option is deprecated and will be removed in a future version. Convert inf values to NaN before operating instead.\n",
      "  with pd.option_context('mode.use_inf_as_na', True):\n",
      "D:\\anaconda1\\Lib\\site-packages\\seaborn\\_oldcore.py:1119: FutureWarning: use_inf_as_na option is deprecated and will be removed in a future version. Convert inf values to NaN before operating instead.\n",
      "  with pd.option_context('mode.use_inf_as_na', True):\n",
      "D:\\anaconda1\\Lib\\site-packages\\seaborn\\_oldcore.py:1119: FutureWarning: use_inf_as_na option is deprecated and will be removed in a future version. Convert inf values to NaN before operating instead.\n",
      "  with pd.option_context('mode.use_inf_as_na', True):\n",
      "D:\\anaconda1\\Lib\\site-packages\\seaborn\\_oldcore.py:1119: FutureWarning: use_inf_as_na option is deprecated and will be removed in a future version. Convert inf values to NaN before operating instead.\n",
      "  with pd.option_context('mode.use_inf_as_na', True):\n"
     ]
    },
    {
     "data": {
      "image/png": "[encoded data removed]",
      "text/plain": [
       "<Figure size 2000x500 with 4 Axes>"
      ]
     },
     "metadata": {},
     "output_type": "display_data"
    }
   ],
   "source": [
    "data_years_months_days_corr_weather.replace([np.inf, -np.inf], np.nan, inplace=True)\n",
    "data_years_months_days_20_23_corr_weather = data_years_months_days_corr_weather[data_years_months_days_corr_weather['years'].isin([2020,2021,2022,2023])]\n",
    "sns.relplot(kind='line', data=data_years_months_days_20_23_corr_weather,col='years', x='months',y='Wind_Speed(mph)')\n",
    "plt.show()"
   ]
  },
  {
   "cell_type": "code",
   "execution_count": null,
   "id": "583b1d29-4d37-4f10-a97e-9f2e38aad47c",
   "metadata": {},
   "outputs": [],
   "source": []
  },
  {
   "cell_type": "code",
   "execution_count": null,
   "id": "50fe31d0-e641-4115-995f-bbb1a60cae8f",
   "metadata": {},
   "outputs": [],
   "source": []
  },
  {
   "cell_type": "code",
   "execution_count": null,
   "id": "a0280d59-b85a-4a6d-91de-84697ea55457",
   "metadata": {},
   "outputs": [],
   "source": []
  },
  {
   "cell_type": "markdown",
   "id": "93fb95d4",
   "metadata": {
    "papermill": {
     "duration": 0.027354,
     "end_time": "2024-06-29T07:21:48.037770",
     "exception": false,
     "start_time": "2024-06-29T07:21:48.010416",
     "status": "completed"
    },
    "tags": []
   },
   "source": [
    "## Ask & Answer questions about the data\n",
    "\n",
    "1. Which states has the highest number of accidents?\n",
    "2. What is the average resolution time for accidents based on severity.\n",
    "3. Idenitfy the states with the highest number of high severity accidents.\n",
    "4. Do weather conditions have an impact on no of accidents?\n",
    "5. What time of the day are the accidents most frequent in?\n",
    "6. Year on Year accident trend"
   ]
  },
  {
   "cell_type": "markdown",
   "id": "5a0ce0ec",
   "metadata": {
    "papermill": {
     "duration": 0.02695,
     "end_time": "2024-06-29T07:21:48.092675",
     "exception": false,
     "start_time": "2024-06-29T07:21:48.065725",
     "status": "completed"
    },
    "tags": []
   },
   "source": [
    "## Summary and Conclusion\n",
    "\n",
    "### Insights:\n",
    "\n",
    "- Only around 6% states havea total of more than half a million accidents between the years 2016-2023.\n",
    "- Top 5 States with most accidents are CA, FL, TX, SC, NY, whereas the states with most accidents with high severity are VA, PA, CA\n",
    "- The average resolution time in hours for accidents based on severity is 1 ~ 1 hour, 2 ~ 8 hours, 3 ~ 1.25 hours, 4 ~ 28 hours\n",
    "- Based on the distribution across different weather conditions, we can see most accidents happened during Fair, Cloudy or Overcast weather with Fair being at the top. Hence we can conclude no high impact of weather conditions on no of accidents\n",
    "- Most no of accidents seems to happen during the hours 5am to 10am and 3pm to 5pm, so the morning office hours could be the reason for high no of morning accidents.\n",
    "- The year on year trend of no of accidents shows a sharp increase during years 2019 to 2022. The sharp decline in 2023 could also point to some missing data."
   ]
  }
 ],
 "metadata": {
  "kaggle": {
   "accelerator": "none",
   "dataSources": [
    {
     "datasetId": 199387,
     "sourceId": 5793796,
     "sourceType": "datasetVersion"
    }
   ],
   "dockerImageVersionId": 30732,
   "isGpuEnabled": false,
   "isInternetEnabled": true,
   "language": "python",
   "sourceType": "notebook"
  },
  "kernelspec": {
   "display_name": "Python 3 (ipykernel)",
   "language": "python",
   "name": "python3"
  },
  "language_info": {
   "codemirror_mode": {
    "name": "ipython",
    "version": 3
   },
   "file_extension": ".py",
   "mimetype": "text/x-python",
   "name": "python",
   "nbconvert_exporter": "python",
   "pygments_lexer": "ipython3",
   "version": "3.11.7"
  },
  "papermill": {
   "default_parameters": {},
   "duration": 246.278474,
   "end_time": "2024-06-29T07:21:50.942127",
   "environment_variables": {},
   "exception": null,
   "input_path": "__notebook__.ipynb",
   "output_path": "__notebook__.ipynb",
   "parameters": {},
   "start_time": "2024-06-29T07:17:44.663653",
   "version": "2.5.0"
  }
 },
 "nbformat": 4,
 "nbformat_minor": 5
}
